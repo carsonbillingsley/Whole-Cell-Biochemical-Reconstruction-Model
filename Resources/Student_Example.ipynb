{
  "nbformat": 4,
  "nbformat_minor": 0,
  "metadata": {
    "colab": {
      "provenance": []
    },
    "kernelspec": {
      "name": "python3",
      "display_name": "Python 3"
    },
    "language_info": {
      "name": "python"
    }
  },
  "cells": [
    {
      "cell_type": "markdown",
      "source": [
        "# Downloading and reading Drive files with gdown\n",
        "This is probably the best approach to take for your 134 projects.\n",
        "\n",
        "You can use a Google Drive-specific library (gdown).  This approach will also save the file (transiently) to your Drive so it will show up in the 'Files'.  "
      ],
      "metadata": {
        "id": "Y2MgBY7eoVT3"
      }
    },
    {
      "cell_type": "code",
      "source": [
        "!pip install -q gdown\n",
        "\n",
        "import gdown\n",
        "\n",
        "def download_file(file_id, output_filename):\n",
        "    \"\"\"\n",
        "    Download a file from Google Drive using its ID.\n",
        "\n",
        "    :param file_id: str, Google Drive file ID.\n",
        "    :param output_filename: str, Name to save the downloaded file.\n",
        "    \"\"\"\n",
        "    # Construct the download URL\n",
        "    url = f'https://drive.google.com/uc?id={file_id}'\n",
        "\n",
        "    # Download the file\n",
        "    gdown.download(url, output_filename, quiet=False)\n",
        "\n",
        "def preview_file(output_filename, num_lines=5):\n",
        "    \"\"\"\n",
        "    Print the first n lines of a file.\n",
        "\n",
        "    :param output_filename: str, Name of the file to preview.\n",
        "    :param num_lines: int, Number of lines to preview. Default is 5.\n",
        "    \"\"\"\n",
        "    try:\n",
        "        with open(output_filename, 'r') as file:\n",
        "            print(f\"Previewing first {num_lines} lines of {output_filename}:\")\n",
        "            for _ in range(num_lines):\n",
        "                print(next(file).strip())\n",
        "            print(\"\\n\")\n",
        "    except Exception as e:\n",
        "        print(f\"An error occurred while previewing the file: {str(e)}\")\n",
        "    except StopIteration:\n",
        "        print(f\"{output_filename} may have less than {num_lines} lines to preview.\\n\")\n",
        "\n",
        "# File IDs and names\n",
        "files_info = {\n",
        "    \"metacyc_chemicals.txt\": '1J_LC34OAlTCC3FS1NP3RKessqN3V_Lk_',\n",
        "    \"metacyc_reactions.txt\": '1quJmoWI-aqjwCJ0YNAT5RRrqbY6G6-9i',\n",
        "    \"universal_metabolites.txt\": '1UbDsaEOTr3uAUYTTcC06Z2Gfzgr5noHF',\n",
        "    \"minimal_metabolites.txt\": '1YQciQaQ8mM68F0cP4g0o8ldwE4p52-aH',\n",
        "}\n",
        "\n",
        "# Download and preview the files\n",
        "for filename, file_id in files_info.items():\n",
        "    download_file(file_id, filename)\n",
        "\n",
        "# Preview only the chemicals file\n",
        "preview_file(\"metacyc_chemicals.txt\")\n"
      ],
      "metadata": {
        "colab": {
          "base_uri": "https://localhost:8080/"
        },
        "id": "6iLQ3avpoLuH",
        "outputId": "acb7bbf8-e0fb-4581-c06b-a5a935bbeaf7"
      },
      "execution_count": null,
      "outputs": [
        {
          "output_type": "stream",
          "name": "stderr",
          "text": [
            "Downloading...\n",
            "From: https://drive.google.com/uc?id=1J_LC34OAlTCC3FS1NP3RKessqN3V_Lk_\n",
            "To: /content/metacyc_chemicals.txt\n",
            "100%|██████████| 125M/125M [00:01<00:00, 67.9MB/s]\n",
            "Downloading...\n",
            "From: https://drive.google.com/uc?id=1quJmoWI-aqjwCJ0YNAT5RRrqbY6G6-9i\n",
            "To: /content/metacyc_reactions.txt\n",
            "100%|██████████| 32.8M/32.8M [00:00<00:00, 139MB/s]\n",
            "Downloading...\n",
            "From: https://drive.google.com/uc?id=1UbDsaEOTr3uAUYTTcC06Z2Gfzgr5noHF\n",
            "To: /content/universal_metabolites.txt\n",
            "100%|██████████| 8.62k/8.62k [00:00<00:00, 11.9MB/s]\n",
            "Downloading...\n",
            "From: https://drive.google.com/uc?id=1YQciQaQ8mM68F0cP4g0o8ldwE4p52-aH\n",
            "To: /content/minimal_metabolites.txt\n",
            "100%|██████████| 1.73k/1.73k [00:00<00:00, 5.07MB/s]"
          ]
        },
        {
          "output_type": "stream",
          "name": "stdout",
          "text": [
            "Previewing first 5 lines of metacyc_chemicals.txt:\n",
            "id\tname\tinchi\n",
            "0\ts-adenosyl-l-methionine\tInChI=1S/C15H22N6O5S/c1-27(3-2-7(16)15(24)25)4-8-10(22)11(23)14(26-8)21-6-20-9-12(17)18-5-19-13(9)21/h5-8,10-11,14,22-23H,2-4,16H2,1H3,(H2-,17,18,19,24,25)/p+1/t7-,8+,10+,11+,14+,27?/m0/s1\tnull\n",
            "1\tundefined\tInChI=/FAKE/METACYC/abau903895cyc/biopax-level3.owl/#ChemicalStructure57245\tC2(N(C1(OC(COP(O[a tRNA])(=O)[O-])C(OP([O-])(=O)O[a tRNA])C(O)1))C(=O)N=C(N)C=2)\n",
            "2\tundefined\tInChI=/FAKE/METACYC/abau903895cyc/biopax-level3.owl/#ChemicalStructure47307\tC2(N(C1(OC(COP(O[tRNA<sup>Ile2</sup>])(=O)[O-])C(OP([O-])(=O)O[tRNA<sup>Ile2</sup>])C(O)1))C(=O)N=C(N)C=2)\n",
            "3\tundefined\tInChI=/FAKE/METACYC/abau903895cyc/biopax-level3.owl/#ChemicalStructure57251\tCOC2(C(N1(C(=O)N=C(N)C=C1))OC(COP(O[a tRNA])(=O)[O-])C(OP([O-])(=O)O[a tRNA])2)\n",
            "\n",
            "\n"
          ]
        },
        {
          "output_type": "stream",
          "name": "stderr",
          "text": [
            "\n"
          ]
        }
      ]
    },
    {
      "cell_type": "markdown",
      "source": [
        "# Embedded files in a colab\n",
        "You can also click the folder button at left and upload files to the colab and then access them"
      ],
      "metadata": {
        "id": "XrcHZ005XszS"
      }
    },
    {
      "cell_type": "code",
      "source": [
        "# Define the path to the file\n",
        "file_path = '/content/metacyc_chemicals.txt'\n",
        "\n",
        "# Open and read the file\n",
        "try:\n",
        "    with open(file_path, 'r') as file:\n",
        "        # Initialize a counter for the lines\n",
        "        line_count = 0\n",
        "\n",
        "        # Loop through the file line by line\n",
        "        for line in file:\n",
        "            # Check if 6 lines have been printed\n",
        "            if line_count < 6:\n",
        "                print(line.strip())  # Print the line without leading/trailing whitespaces\n",
        "                line_count += 1  # Increase the counter\n",
        "            else:\n",
        "                break  # Exit the loop after printing 6 lines\n",
        "except FileNotFoundError:\n",
        "    print(f\"No file found at {file_path}\")\n"
      ],
      "metadata": {
        "colab": {
          "base_uri": "https://localhost:8080/"
        },
        "id": "FeaZpmuBX3Is",
        "outputId": "184abd38-b51d-41d8-ca71-9dc7c00e9f22"
      },
      "execution_count": null,
      "outputs": [
        {
          "output_type": "stream",
          "name": "stdout",
          "text": [
            "id\tname\tinchi\n",
            "0\ts-adenosyl-l-methionine\tInChI=1S/C15H22N6O5S/c1-27(3-2-7(16)15(24)25)4-8-10(22)11(23)14(26-8)21-6-20-9-12(17)18-5-19-13(9)21/h5-8,10-11,14,22-23H,2-4,16H2,1H3,(H2-,17,18,19,24,25)/p+1/t7-,8+,10+,11+,14+,27?/m0/s1\tnull\n",
            "1\tundefined\tInChI=/FAKE/METACYC/abau903895cyc/biopax-level3.owl/#ChemicalStructure57245\tC2(N(C1(OC(COP(O[a tRNA])(=O)[O-])C(OP([O-])(=O)O[a tRNA])C(O)1))C(=O)N=C(N)C=2)\n",
            "2\tundefined\tInChI=/FAKE/METACYC/abau903895cyc/biopax-level3.owl/#ChemicalStructure47307\tC2(N(C1(OC(COP(O[tRNA<sup>Ile2</sup>])(=O)[O-])C(OP([O-])(=O)O[tRNA<sup>Ile2</sup>])C(O)1))C(=O)N=C(N)C=2)\n",
            "3\tundefined\tInChI=/FAKE/METACYC/abau903895cyc/biopax-level3.owl/#ChemicalStructure57251\tCOC2(C(N1(C(=O)N=C(N)C=C1))OC(COP(O[a tRNA])(=O)[O-])C(OP([O-])(=O)O[a tRNA])2)\n",
            "4\th+\tInChI=1S/p+1\tnull\n"
          ]
        }
      ]
    },
    {
      "cell_type": "markdown",
      "source": [
        "# Defining Chemical and Reaction classes"
      ],
      "metadata": {
        "id": "6zyfBRszI7lw"
      }
    },
    {
      "cell_type": "code",
      "source": [
        "\n",
        "\n",
        "class Chemical:\n",
        "    def __init__(self, id, name, smiles, inchi):\n",
        "        self.id = int(id)\n",
        "        self.smiles = smiles  # Note: You didn't provide SMILES data, adjust if needed\n",
        "        self.inchi = inchi\n",
        "        self.name = name\n",
        "\n",
        "class Reaction:\n",
        "    def __init__(self, id, substrates, products, ec_num):\n",
        "        self.id = int(id)\n",
        "        self.substrates = substrates  # Set of Chemical instances\n",
        "        self.products = products  # Set of Chemical instances\n",
        "        self.ec_num = ec_num\n",
        "\n",
        "    def get_substrates(self):\n",
        "        return self.substrates\n",
        "\n",
        "    def get_products(self):\n",
        "        return self.products\n",
        "\n",
        "\n",
        "\n",
        "class Metabolite:\n",
        "    def __init__(self, name, inchi, descriptor):\n",
        "      self.name = name\n",
        "      self.inchi = inchi\n",
        "      self.descriptor = descriptor #amino acid, etc."
      ],
      "metadata": {
        "id": "7JNQ7RuWJBJi"
      },
      "execution_count": null,
      "outputs": []
    },
    {
      "cell_type": "markdown",
      "source": [
        "# Parsing the two metacyc files into lists of Chemical and Reaction objects"
      ],
      "metadata": {
        "id": "xiiLo6kTJAak"
      }
    },
    {
      "cell_type": "code",
      "source": [
        "def load_chemicals(file_path):\n",
        "    chemicals = {}\n",
        "    with open(file_path, 'r') as file:\n",
        "        lines = file.read().splitlines()  # Read the whole file as a string and split into lines\n",
        "    for i in range(1, len(lines)):  # Start from 1 to skip the header\n",
        "        parts = lines[i].split('\\t')\n",
        "        if len(parts) < 4 or not parts[0].isdigit():\n",
        "            continue  # Skip lines with insufficient data or non-numeric ID\n",
        "        chem_id = int(parts[0])\n",
        "        chemicals[chem_id] = Chemical(chem_id, parts[1], parts[3] if len(parts) > 3 else None, parts[2])\n",
        "    return chemicals\n",
        "\n",
        "# You would use the load_chemicals function as before to load your chemicals.\n",
        "\n",
        "\n",
        "def load_reactions(file_path, chemicals):\n",
        "    reactions = []\n",
        "    with open(file_path, 'r') as file:\n",
        "        next(file)  # Skip header line\n",
        "        for line in file:\n",
        "            parts = line.strip().split('\\t')\n",
        "            if len(parts) < 3:\n",
        "                continue  # Skip lines with insufficient data\n",
        "            rxn_id, ec_num, substrates_str, products_str = parts[0], parts[1], parts[2], parts[3]\n",
        "            substrates = {chemicals[int(cid)] for cid in substrates_str.split() if cid.isdigit()}\n",
        "            products = {chemicals[int(cid)] for cid in products_str.split() if cid.isdigit()}\n",
        "            reactions.append(Reaction(rxn_id, substrates, products, ec_num))\n",
        "    return reactions\n",
        "\n",
        "\n",
        "\n",
        "\n",
        "# File paths\n",
        "chemicals_file_path = 'metacyc_chemicals.txt'\n",
        "reactions_file_path = 'metacyc_reactions.txt'\n",
        "\n",
        "\n",
        "# Load the data into objects\n",
        "chemicals = load_chemicals(chemicals_file_path)\n",
        "reactions = load_reactions(reactions_file_path, chemicals)\n",
        "\n",
        "# Print the first 5 chemicals and reactions\n",
        "print(\"First 5 chemicals:\")\n",
        "for chem_id in sorted(chemicals)[:5]:\n",
        "    chemical = chemicals[chem_id]\n",
        "    print(f\"ID: {chemical.id}, Name: {chemical.name}, InChI: {chemical.inchi}, SMILES: {chemical.smiles}\")\n",
        "\n",
        "print(\"\\nFirst 5 reactions:\")\n",
        "for reaction in sorted(reactions, key=lambda r: r.id)[:5]:\n",
        "    substrates_ids = [str(chem.name) for chem in reaction.substrates]\n",
        "    products_ids = [str(chem.id) for chem in reaction.products]\n",
        "    print(f\"ID: {reaction.id}, EC Number: {reaction.ec_num}, Substrates: {substrates_ids}, Products: {products_ids}\")"
      ],
      "metadata": {
        "id": "OxFYvme9UqHn",
        "colab": {
          "base_uri": "https://localhost:8080/"
        },
        "outputId": "e0e0fb49-6af7-4e98-fae7-915367353812"
      },
      "execution_count": null,
      "outputs": [
        {
          "output_type": "stream",
          "name": "stdout",
          "text": [
            "First 5 chemicals:\n",
            "ID: 0, Name: s-adenosyl-l-methionine, InChI: InChI=1S/C15H22N6O5S/c1-27(3-2-7(16)15(24)25)4-8-10(22)11(23)14(26-8)21-6-20-9-12(17)18-5-19-13(9)21/h5-8,10-11,14,22-23H,2-4,16H2,1H3,(H2-,17,18,19,24,25)/p+1/t7-,8+,10+,11+,14+,27?/m0/s1, SMILES: null\n",
            "ID: 1, Name: undefined, InChI: InChI=/FAKE/METACYC/abau903895cyc/biopax-level3.owl/#ChemicalStructure57245, SMILES: C2(N(C1(OC(COP(O[a tRNA])(=O)[O-])C(OP([O-])(=O)O[a tRNA])C(O)1))C(=O)N=C(N)C=2)\n",
            "ID: 2, Name: undefined, InChI: InChI=/FAKE/METACYC/abau903895cyc/biopax-level3.owl/#ChemicalStructure47307, SMILES: C2(N(C1(OC(COP(O[tRNA<sup>Ile2</sup>])(=O)[O-])C(OP([O-])(=O)O[tRNA<sup>Ile2</sup>])C(O)1))C(=O)N=C(N)C=2)\n",
            "ID: 3, Name: undefined, InChI: InChI=/FAKE/METACYC/abau903895cyc/biopax-level3.owl/#ChemicalStructure57251, SMILES: COC2(C(N1(C(=O)N=C(N)C=C1))OC(COP(O[a tRNA])(=O)[O-])C(OP([O-])(=O)O[a tRNA])2)\n",
            "ID: 4, Name: h+, InChI: InChI=1S/p+1, SMILES: null\n",
            "\n",
            "First 5 reactions:\n",
            "ID: 0, EC Number: 2.1.1.207, Substrates: ['undefined', 'undefined', 's-adenosyl-l-methionine'], Products: ['4', '5', '3']\n",
            "ID: 1, EC Number: 6.3.4.19, Substrates: ['atp4-', 'undefined', 'undefined'], Products: ['4', '11', '9', '10']\n",
            "ID: 2, EC Number: 3.1.1.4, Substrates: ['undefined', 'undefined', 'h2o'], Products: ['17', '16', '4', '15']\n",
            "ID: 3, EC Number: 1.2.4.4, Substrates: ['h+', 'undefined', '2-oxoisohexanoate'], Products: ['21', '20']\n",
            "ID: 5, EC Number: 2.1.1.77, Substrates: ['undefined', 's-adenosyl-l-methionine', 'undefined'], Products: ['5', '24']\n"
          ]
        }
      ]
    },
    {
      "cell_type": "code",
      "source": [
        "def load_metabolites(file_path):\n",
        "    metabolites_inchis = []\n",
        "    with open(file_path, 'r') as file:\n",
        "        lines = file.read().splitlines()  # Read the whole file as a string and split into lines\n",
        "    for i in range(1, len(lines)):  # Start from 1 to skip the header\n",
        "        parts = lines[i].split('\\t')\n",
        "        inchi = parts[1]\n",
        "        inchi = inchi.replace('\"','')\n",
        "        metabolites_inchis.append(inchi)\n",
        "\n",
        "    return metabolites_inchis\n",
        "\n",
        "minimal_inchis = load_metabolites('minimal_metabolites.txt')\n",
        "universal_inchis = load_metabolites('universal_metabolites.txt')\n",
        "native_inchis = minimal_inchis + universal_inchis\n",
        "\n"
      ],
      "metadata": {
        "id": "WlxbVKoimTsF"
      },
      "execution_count": null,
      "outputs": []
    },
    {
      "cell_type": "code",
      "source": [
        "#create a list of native chemicals\n",
        "#native_chemcials\n",
        "chem_dict = {}\n",
        "for chem in chemicals.values():\n",
        "  chem_dict[chem.inchi] = chem\n",
        "\n",
        "native_chemicals = []\n",
        "for native_inchi in native_inchis:\n",
        "  native_chem = chem_dict.get(native_inchi)\n",
        "  if native_chem:\n",
        "    native_chemicals.append(native_chem)\n",
        "\n",
        "native_chemicals\n"
      ],
      "metadata": {
        "colab": {
          "base_uri": "https://localhost:8080/"
        },
        "id": "mhDtFfG5ImbO",
        "outputId": "9a03b9ad-0fd5-44f7-e91c-93a6a9ee962d"
      },
      "execution_count": null,
      "outputs": [
        {
          "output_type": "execute_result",
          "data": {
            "text/plain": [
              "[<__main__.Chemical at 0x790a10335870>,\n",
              " <__main__.Chemical at 0x790a26917a00>,\n",
              " <__main__.Chemical at 0x790a103cd570>,\n",
              " <__main__.Chemical at 0x790a0b9d1ed0>,\n",
              " <__main__.Chemical at 0x790a07c46200>,\n",
              " <__main__.Chemical at 0x790a1004a470>,\n",
              " <__main__.Chemical at 0x790a0fa67610>,\n",
              " <__main__.Chemical at 0x790a0fb1baf0>,\n",
              " <__main__.Chemical at 0x790a0fdb4250>,\n",
              " <__main__.Chemical at 0x790a0d7f45e0>,\n",
              " <__main__.Chemical at 0x790a0f4dd960>,\n",
              " <__main__.Chemical at 0x790a269ac580>,\n",
              " <__main__.Chemical at 0x790a0fd26bf0>,\n",
              " <__main__.Chemical at 0x790a0ddafe80>,\n",
              " <__main__.Chemical at 0x790a10336410>,\n",
              " <__main__.Chemical at 0x790a1025cbb0>,\n",
              " <__main__.Chemical at 0x790a100688b0>,\n",
              " <__main__.Chemical at 0x790a1035f970>,\n",
              " <__main__.Chemical at 0x790a269ac5e0>,\n",
              " <__main__.Chemical at 0x790a269affa0>,\n",
              " <__main__.Chemical at 0x790a42ed7580>,\n",
              " <__main__.Chemical at 0x790a269ac310>,\n",
              " <__main__.Chemical at 0x790a10334bb0>,\n",
              " <__main__.Chemical at 0x790a0f115780>,\n",
              " <__main__.Chemical at 0x790a10325ab0>,\n",
              " <__main__.Chemical at 0x790a101d8130>,\n",
              " <__main__.Chemical at 0x790a0fa114b0>,\n",
              " <__main__.Chemical at 0x790a1030f3d0>,\n",
              " <__main__.Chemical at 0x790a0b7c3c70>,\n",
              " <__main__.Chemical at 0x790a0ff93b50>,\n",
              " <__main__.Chemical at 0x790a103b5810>,\n",
              " <__main__.Chemical at 0x790a0fc7fa30>,\n",
              " <__main__.Chemical at 0x790a269ac250>,\n",
              " <__main__.Chemical at 0x790a0cea8a00>,\n",
              " <__main__.Chemical at 0x790a0f5f4580>,\n",
              " <__main__.Chemical at 0x790a0f9d4d60>,\n",
              " <__main__.Chemical at 0x790a101a9d50>,\n",
              " <__main__.Chemical at 0x790a26917d30>,\n",
              " <__main__.Chemical at 0x790a10370f70>,\n",
              " <__main__.Chemical at 0x790a102fa9b0>,\n",
              " <__main__.Chemical at 0x790a102f9510>,\n",
              " <__main__.Chemical at 0x790a102fa6b0>,\n",
              " <__main__.Chemical at 0x790a1021d3f0>,\n",
              " <__main__.Chemical at 0x790a1021d3f0>,\n",
              " <__main__.Chemical at 0x790a101dac50>,\n",
              " <__main__.Chemical at 0x790a0e8951e0>,\n",
              " <__main__.Chemical at 0x790a102f90f0>,\n",
              " <__main__.Chemical at 0x790a1035d210>,\n",
              " <__main__.Chemical at 0x790a0ea40e80>,\n",
              " <__main__.Chemical at 0x790a103b6230>,\n",
              " <__main__.Chemical at 0x790a0feb8a90>,\n",
              " <__main__.Chemical at 0x790a103268f0>,\n",
              " <__main__.Chemical at 0x790a1029dab0>,\n",
              " <__main__.Chemical at 0x790a269ac310>,\n",
              " <__main__.Chemical at 0x790a102f8190>,\n",
              " <__main__.Chemical at 0x790a10159f30>,\n",
              " <__main__.Chemical at 0x790a103cd330>,\n",
              " <__main__.Chemical at 0x790a10102830>,\n",
              " <__main__.Chemical at 0x790a103b75b0>,\n",
              " <__main__.Chemical at 0x790a0f1518a0>,\n",
              " <__main__.Chemical at 0x790a102facb0>,\n",
              " <__main__.Chemical at 0x790a42ed6a40>,\n",
              " <__main__.Chemical at 0x790a101a8790>,\n",
              " <__main__.Chemical at 0x790a0edc7880>,\n",
              " <__main__.Chemical at 0x790a102d7df0>]"
            ]
          },
          "metadata": {},
          "execution_count": 6
        }
      ]
    },
    {
      "cell_type": "markdown",
      "source": [
        "# Detecting abstract reactions and removing them"
      ],
      "metadata": {
        "id": "nlPVHOTgJOxF"
      }
    },
    {
      "cell_type": "code",
      "source": [
        "# To do\n",
        "# !pip install rdkit-pypi\n",
        "# from rdkit import Chem\n",
        "\n",
        "# def create_molecules(chemicals):\n",
        "#     molecules = []\n",
        "#     for chemical in chemicals.values():\n",
        "#         try:\n",
        "#             molecule = Chem.MolFromSmiles(chemical.smiles)\n",
        "#             if molecule is not None:\n",
        "#                 molecules.append(molecule)\n",
        "#         except:\n",
        "#             pass\n",
        "#     return molecules\n",
        "\n",
        "# # Load the data into objects\n",
        "# chemicals = load_chemicals(chemicals_file_path)\n",
        "# reactions = load_reactions(reactions_file_path, chemicals)\n",
        "\n",
        "# # Create the molecules\n",
        "# molecules = create_molecules(chemicals)\n",
        "\n",
        "# # Print the number of molecules created\n",
        "# print(f\"Created {len(molecules)} molecules.\")\n"
      ],
      "metadata": {
        "id": "Tm1PzAPqUvcd"
      },
      "execution_count": null,
      "outputs": []
    },
    {
      "cell_type": "markdown",
      "source": [
        "# Perform Synthesis"
      ],
      "metadata": {
        "id": "gP5lynQFUv59"
      }
    },
    {
      "cell_type": "code",
      "source": [
        "# To do\n",
        "class HyperGraph:\n",
        "    def __init__(self):\n",
        "        self.reaction_to_shell = {}\n",
        "        self.chemical_to_shell = {}\n",
        "        self.chemical_to_cascade = {}\n",
        "        self.chemical_to_pathway = {}\n",
        "\n",
        "class Synthesizer:\n",
        "    def initiate(self):\n",
        "        # Implementation for the initiate method in Python\n",
        "        pass  # You can replace this with the actual implementation\n",
        "\n",
        "\n",
        "    def run(self, reactions, chemicals, native_chemicals):\n",
        "        self.curr_shell = 0\n",
        "        self.all_reactions = reactions\n",
        "        self.all_chemicals = chemicals\n",
        "        self.chemical_to_shell = {}  # Using a dictionary instead of HashMap\n",
        "        self.reaction_to_shell = {}  # Using a dictionary instead of HashMap\n",
        "        #log native chemicals into shell 0\n",
        "        for native_chem in native_chemicals:\n",
        "          self.chemical_to_shell[native_chem] = 0\n",
        "\n",
        "        while self._expand_once():\n",
        "          print(self.curr_shell)\n",
        "\n",
        "        # Implementation for the run method in Python\n",
        "        # You can replace this with the actual implementation\n",
        "\n",
        "        # Returning a HyperGraph instance or relevant data\n",
        "        output = HyperGraph()\n",
        "        output.chemical_to_shell = self.chemical_to_shell\n",
        "        output.reaction_to_shell = self.reaction_to_shell\n",
        "        return output\n",
        "\n",
        "\n",
        "    def _expand_once(self):\n",
        "        # Increment the current shell\n",
        "        self.curr_shell += 1\n",
        "        is_expanded = False\n",
        "\n",
        "        # Iterate through reactions\n",
        "        for reaction in self.all_reactions:\n",
        "            # If the reaction has already been put in the expansion, skip this reaction\n",
        "            if reaction in self.reaction_to_shell:\n",
        "                continue\n",
        "\n",
        "            # If any of the substrates are not enabled, skip this reaction\n",
        "            substrates_enabled = all(chemical in self.chemical_to_shell for chemical in reaction.get_substrates())\n",
        "            if not substrates_enabled:\n",
        "                continue\n",
        "\n",
        "            # If it gets this far, the reaction is enabled and new, thus expansion will occur\n",
        "            is_expanded = True\n",
        "\n",
        "            # Log the reaction into the expansion at the current shell\n",
        "            self.reaction_to_shell[reaction] = self.curr_shell\n",
        "\n",
        "            # For each product, enable it with the current shell (if it isn't already)\n",
        "            for product in reaction.get_products():\n",
        "                if product not in self.chemical_to_shell:\n",
        "                    self.chemical_to_shell[product] = self.curr_shell\n",
        "\n",
        "        return is_expanded\n",
        "\n"
      ],
      "metadata": {
        "id": "wxtPmsZFU5yy"
      },
      "execution_count": null,
      "outputs": []
    },
    {
      "cell_type": "code",
      "source": [
        "synthesizer = Synthesizer()\n",
        "hypergraph = synthesizer.run(reactions, chemicals, native_chemicals)\n",
        "\n",
        "size = len(hypergraph.chemical_to_shell)\n",
        "\n",
        "size"
      ],
      "metadata": {
        "colab": {
          "base_uri": "https://localhost:8080/"
        },
        "id": "G7DEp2Pglghw",
        "outputId": "4aa09575-82af-4dee-8766-14615a9056ee"
      },
      "execution_count": null,
      "outputs": [
        {
          "output_type": "stream",
          "name": "stdout",
          "text": [
            "1\n",
            "2\n",
            "3\n",
            "4\n",
            "5\n",
            "6\n",
            "7\n",
            "8\n",
            "9\n",
            "10\n",
            "11\n",
            "12\n",
            "13\n"
          ]
        },
        {
          "output_type": "execute_result",
          "data": {
            "text/plain": [
              "81778"
            ]
          },
          "metadata": {},
          "execution_count": 9
        }
      ]
    }
  ]
}