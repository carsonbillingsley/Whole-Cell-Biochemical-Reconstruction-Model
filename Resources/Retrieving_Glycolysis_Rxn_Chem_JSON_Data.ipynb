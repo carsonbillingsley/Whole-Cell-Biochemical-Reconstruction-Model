{
  "nbformat": 4,
  "nbformat_minor": 0,
  "metadata": {
    "colab": {
      "provenance": []
    },
    "kernelspec": {
      "name": "python3",
      "display_name": "Python 3"
    },
    "language_info": {
      "name": "python"
    }
  },
  "cells": [
    {
      "cell_type": "markdown",
      "source": [
        "This code just aims to showcase the way in which I found all the glycolysis reactions and the chemicals to populate my RO synthesis. This was, at one point, within the Object Matching Synthesis (EcoCyc) model. That's why it builds on something called reactions_list. This is a way to get future pathways for further building out a barebones model, if needed."
      ],
      "metadata": {
        "id": "HdmgPOOZ_a2L"
      }
    },
    {
      "cell_type": "code",
      "execution_count": null,
      "metadata": {
        "id": "IeWdrrHj_ZpE"
      },
      "outputs": [],
      "source": [
        "glycolysis_reactions = [\n",
        "    \"GLUCOKIN-RXN\", \"PGLUCISOM-RXN\", \"6PFRUCTPHOS-RXN\", \"F16ALDOLASE-RXN\",\n",
        "    \"TRIOSEPISOMERIZATION-RXN_reverse\", \"GAPOXNPHOSPHN-RXN\",\n",
        "    \"PHOSGLYPHOS-RXN_reverse\", \"3PGAREARR-RXN_reverse\",\n",
        "    \"2PGADEHYDRAT-RXN\", \"PEPDEPHOS-RXN\"\n",
        "]\n",
        "\n",
        "# To store unique Chemical objects found in glycolysis reactions\n",
        "unique_chemicals = {}\n",
        "\n",
        "# Iterate through reactions to find glycolysis reactions\n",
        "for reaction in reactions_list:\n",
        "    if reaction.UNIQUE_ID in glycolysis_reactions:\n",
        "        print(f\"Reaction ID: {reaction.UNIQUE_ID}\")\n",
        "        print(\"Substrates: \" + \", \".join([substrate.UNIQUE_ID for substrate in reaction.SUBSTRATES]))\n",
        "        print(\"Products: \" + \", \".join([product.UNIQUE_ID for product in reaction.PRODUCTS]))\n",
        "        #print(\"Direction: \" + reaction.REACTION_DIRECTION)\n",
        "        print(\"---\")\n",
        "\n",
        "        # Add substrates and products to the unique chemicals dictionary\n",
        "        for chem in reaction.SUBSTRATES + reaction.PRODUCTS:\n",
        "            unique_chemicals[chem.UNIQUE_ID] = chem"
      ]
    },
    {
      "cell_type": "code",
      "source": [
        "import json\n",
        "\n",
        "glycolysis_data = []\n",
        "\n",
        "# Iterate through reactions to structure glycolysis data\n",
        "for reaction in reactions_list:\n",
        "    if reaction.UNIQUE_ID in glycolysis_reactions:\n",
        "        reaction_data = {\n",
        "            \"Reaction ID\": reaction.UNIQUE_ID,\n",
        "            \"Substrates\": [substrate.UNIQUE_ID for substrate in reaction.SUBSTRATES],\n",
        "            \"Products\": [product.UNIQUE_ID for product in reaction.PRODUCTS]\n",
        "        }\n",
        "        glycolysis_data.append(reaction_data)\n",
        "\n",
        "# Writing the data to a JSON file\n",
        "with open('glycolysis_reactions.json', 'w') as json_file:\n",
        "    json.dump(glycolysis_data, json_file, indent=4)\n",
        "\n",
        "print(\"Glycolysis data has been written to glycolysis_reactions.json.\")"
      ],
      "metadata": {
        "id": "1kQMP5H2_-pA"
      },
      "execution_count": null,
      "outputs": []
    },
    {
      "cell_type": "code",
      "source": [
        "# Printing out the full chemical objects involved in glycolysis reactions\n",
        "print(\"Unique chemicals involved in glycolysis reactions:\")\n",
        "for chem_id, chem_obj in unique_chemicals.items():\n",
        "    print(f\"Chemical ID: {chem_id}, Common Name: {chem_obj.COMMON_NAME}, SMILES: {chem_obj.SMILES}, InChI: {chem_obj.INCHI}\")"
      ],
      "metadata": {
        "id": "FwJ9DO7mAA69"
      },
      "execution_count": null,
      "outputs": []
    },
    {
      "cell_type": "code",
      "source": [
        "unique_chemicals_data = []\n",
        "\n",
        "# Iterate through unique chemicals to structure their data\n",
        "for chem_id, chem_obj in unique_chemicals.items():\n",
        "    chemical_data = {\n",
        "        \"Chemical ID\": chem_id,\n",
        "        \"Common Name\": chem_obj.COMMON_NAME,\n",
        "        \"SMILES\": chem_obj.SMILES,\n",
        "        \"InChI\": chem_obj.INCHI\n",
        "    }\n",
        "    unique_chemicals_data.append(chemical_data)\n",
        "\n",
        "# Writing the chemical data to a JSON file\n",
        "with open('unique_chemicals_glycolysis.json', 'w') as json_file:\n",
        "    json.dump(unique_chemicals_data, json_file, indent=4)\n",
        "\n",
        "print(\"Unique chemicals data has been written to unique_chemicals_glycolysis.json.\")"
      ],
      "metadata": {
        "id": "iYJIB-m3AF-4"
      },
      "execution_count": null,
      "outputs": []
    }
  ]
}