{
  "cells": [
    {
      "cell_type": "markdown",
      "source": [
        "# EcoCyc *E. coli* Biochemical Synthesis Data Evaluation"
      ],
      "metadata": {
        "id": "f7uh9u6sMnV1"
      }
    },
    {
      "cell_type": "markdown",
      "metadata": {
        "id": "oawW9OQ75EQN"
      },
      "source": [
        "# Installing Dependancies"
      ]
    },
    {
      "cell_type": "code",
      "execution_count": 2,
      "metadata": {
        "id": "dwb8WVzv5Su1"
      },
      "outputs": [],
      "source": [
        "# Install and import libraries\n",
        "%%capture\n",
        "!pip install rdkit\n",
        "from rdkit import Chem\n",
        "from rdkit.Chem import Draw\n",
        "from rdkit.Chem.Draw import IPythonConsole\n",
        "from rdkit.Chem.Draw import rdMolDraw2D\n",
        "from rdkit.Chem import rdChemReactions\n",
        "from rdkit.Chem import Descriptors\n",
        "from rdkit.Chem import AllChem\n",
        "from rdkit import DataStructs\n",
        "from rdkit.Chem import MolStandardize, inchi\n",
        "from rdkit.Chem.MolStandardize import rdMolStandardize, tautomer\n",
        "from rdkit import RDLogger\n",
        "\n",
        "from concurrent.futures import ThreadPoolExecutor, TimeoutError\n",
        "\n",
        "import numpy as np\n",
        "\n",
        "from dataclasses import dataclass\n",
        "from typing import List\n",
        "from typing import Tuple\n",
        "\n",
        "from IPython.display import display\n",
        "from IPython.display import Image"
      ]
    },
    {
      "cell_type": "markdown",
      "metadata": {
        "id": "rjkYU-866NCO"
      },
      "source": [
        "# Downloading and Reading Drive Files with WGet"
      ]
    },
    {
      "cell_type": "markdown",
      "metadata": {
        "id": "_xFvPa9OIFut"
      },
      "source": [
        "Using WGet to upload and read the two flat files sourced from BioCyc (**compounds.dat** and r**eactions.dat**) These two documents came from the EcoCyc flat file release that came to Dr. Anderson in an email on Oct. 10, 2023.\n",
        "\n",
        "The custom lists of minimal metabolites and universal metabolites, to occupy Shell 0, are also uploaded using this method."
      ]
    },
    {
      "cell_type": "code",
      "execution_count": 1,
      "metadata": {
        "id": "tE5sOmgmT5E_",
        "colab": {
          "base_uri": "https://localhost:8080/"
        },
        "outputId": "6159ec2c-5048-4776-9f8f-7916ff4456c2"
      },
      "outputs": [
        {
          "output_type": "stream",
          "name": "stdout",
          "text": [
            "--2024-04-26 04:03:46--  https://docs.google.com/uc?export=download&id=1mB-xIewC1UY3mLzVi0ovRV6bQPS7RzYg\n",
            "Resolving docs.google.com (docs.google.com)... 74.125.199.138, 74.125.199.102, 74.125.199.139, ...\n",
            "Connecting to docs.google.com (docs.google.com)|74.125.199.138|:443... connected.\n",
            "HTTP request sent, awaiting response... 303 See Other\n",
            "Location: https://drive.usercontent.google.com/download?id=1mB-xIewC1UY3mLzVi0ovRV6bQPS7RzYg&export=download [following]\n",
            "--2024-04-26 04:03:47--  https://drive.usercontent.google.com/download?id=1mB-xIewC1UY3mLzVi0ovRV6bQPS7RzYg&export=download\n",
            "Resolving drive.usercontent.google.com (drive.usercontent.google.com)... 74.125.195.132, 2607:f8b0:400e:c09::84\n",
            "Connecting to drive.usercontent.google.com (drive.usercontent.google.com)|74.125.195.132|:443... connected.\n",
            "HTTP request sent, awaiting response... 200 OK\n",
            "Length: 8344931 (8.0M) [application/octet-stream]\n",
            "Saving to: ‘compounds.dat’\n",
            "\n",
            "compounds.dat       100%[===================>]   7.96M  --.-KB/s    in 0.1s    \n",
            "\n",
            "2024-04-26 04:03:52 (58.4 MB/s) - ‘compounds.dat’ saved [8344931/8344931]\n",
            "\n",
            "--2024-04-26 04:03:53--  https://docs.google.com/uc?export=download&id=1SjVODv98B3KJxV0hFrNAPN0B-3nTfr1b\n",
            "Resolving docs.google.com (docs.google.com)... 74.125.199.138, 74.125.199.102, 74.125.199.139, ...\n",
            "Connecting to docs.google.com (docs.google.com)|74.125.199.138|:443... connected.\n",
            "HTTP request sent, awaiting response... 303 See Other\n",
            "Location: https://drive.usercontent.google.com/download?id=1SjVODv98B3KJxV0hFrNAPN0B-3nTfr1b&export=download [following]\n",
            "--2024-04-26 04:03:53--  https://drive.usercontent.google.com/download?id=1SjVODv98B3KJxV0hFrNAPN0B-3nTfr1b&export=download\n",
            "Resolving drive.usercontent.google.com (drive.usercontent.google.com)... 74.125.195.132, 2607:f8b0:400e:c09::84\n",
            "Connecting to drive.usercontent.google.com (drive.usercontent.google.com)|74.125.195.132|:443... connected.\n",
            "HTTP request sent, awaiting response... 200 OK\n",
            "Length: 1664618 (1.6M) [application/octet-stream]\n",
            "Saving to: ‘reactions.dat’\n",
            "\n",
            "reactions.dat       100%[===================>]   1.59M  --.-KB/s    in 0.02s   \n",
            "\n",
            "2024-04-26 04:03:54 (105 MB/s) - ‘reactions.dat’ saved [1664618/1664618]\n",
            "\n",
            "--2024-04-26 04:03:54--  https://docs.google.com/uc?export=download&id=1PQazv8Q0cjn_ug76mIICyxNy7BxNJwds\n",
            "Resolving docs.google.com (docs.google.com)... 74.125.199.138, 74.125.199.102, 74.125.199.139, ...\n",
            "Connecting to docs.google.com (docs.google.com)|74.125.199.138|:443... connected.\n",
            "HTTP request sent, awaiting response... 303 See Other\n",
            "Location: https://drive.usercontent.google.com/download?id=1PQazv8Q0cjn_ug76mIICyxNy7BxNJwds&export=download [following]\n",
            "--2024-04-26 04:03:54--  https://drive.usercontent.google.com/download?id=1PQazv8Q0cjn_ug76mIICyxNy7BxNJwds&export=download\n",
            "Resolving drive.usercontent.google.com (drive.usercontent.google.com)... 74.125.195.132, 2607:f8b0:400e:c09::84\n",
            "Connecting to drive.usercontent.google.com (drive.usercontent.google.com)|74.125.195.132|:443... connected.\n",
            "HTTP request sent, awaiting response... 200 OK\n",
            "Length: 1273 (1.2K) [application/octet-stream]\n",
            "Saving to: ‘minimal_metabolites_02-24.txt’\n",
            "\n",
            "minimal_metabolites 100%[===================>]   1.24K  --.-KB/s    in 0s      \n",
            "\n",
            "2024-04-26 04:03:55 (33.5 MB/s) - ‘minimal_metabolites_02-24.txt’ saved [1273/1273]\n",
            "\n",
            "--2024-04-26 04:03:55--  https://docs.google.com/uc?export=download&id=1jlLnO7oAmz4dqaynmPBegCSAPXemPB-R\n",
            "Resolving docs.google.com (docs.google.com)... 74.125.199.138, 74.125.199.102, 74.125.199.139, ...\n",
            "Connecting to docs.google.com (docs.google.com)|74.125.199.138|:443... connected.\n",
            "HTTP request sent, awaiting response... 303 See Other\n",
            "Location: https://drive.usercontent.google.com/download?id=1jlLnO7oAmz4dqaynmPBegCSAPXemPB-R&export=download [following]\n",
            "--2024-04-26 04:03:55--  https://drive.usercontent.google.com/download?id=1jlLnO7oAmz4dqaynmPBegCSAPXemPB-R&export=download\n",
            "Resolving drive.usercontent.google.com (drive.usercontent.google.com)... 74.125.195.132, 2607:f8b0:400e:c09::84\n",
            "Connecting to drive.usercontent.google.com (drive.usercontent.google.com)|74.125.195.132|:443... connected.\n",
            "HTTP request sent, awaiting response... 200 OK\n",
            "Length: 10743 (10K) [application/octet-stream]\n",
            "Saving to: ‘universal_metabolites_03-24.txt’\n",
            "\n",
            "universal_metabolit 100%[===================>]  10.49K  --.-KB/s    in 0s      \n",
            "\n",
            "2024-04-26 04:03:55 (67.6 MB/s) - ‘universal_metabolites_03-24.txt’ saved [10743/10743]\n",
            "\n"
          ]
        }
      ],
      "source": [
        "!wget --no-check-certificate 'https://docs.google.com/uc?export=download&id=1mB-xIewC1UY3mLzVi0ovRV6bQPS7RzYg' -O compounds.dat\n",
        "!wget --no-check-certificate 'https://docs.google.com/uc?export=download&id=1SjVODv98B3KJxV0hFrNAPN0B-3nTfr1b' -O reactions.dat\n",
        "!wget --no-check-certificate 'https://docs.google.com/uc?export=download&id=1PQazv8Q0cjn_ug76mIICyxNy7BxNJwds' -O minimal_metabolites_02-24.txt\n",
        "!wget --no-check-certificate 'https://docs.google.com/uc?export=download&id=1jlLnO7oAmz4dqaynmPBegCSAPXemPB-R' -O universal_metabolites_03-24.txt"
      ]
    },
    {
      "cell_type": "markdown",
      "metadata": {
        "id": "P-SW6vkT7pG0"
      },
      "source": [
        "#Defining EcoCyc Chemical and EcoCyc Reaction Classes"
      ]
    },
    {
      "cell_type": "code",
      "execution_count": 4,
      "metadata": {
        "id": "yGT0Z5tG7nA-"
      },
      "outputs": [],
      "source": [
        "@dataclass(frozen=True)\n",
        "class EcoCyc_Chemical:\n",
        "    UNIQUE_ID: str = \"\"\n",
        "    COMMON_NAME: str = \"\"\n",
        "    SMILES: str = \"\"\n",
        "    INCHI: str = \"\"\n",
        "    NON_STANDARD_INCHI: str = \"\"\n",
        "\n",
        "# Note: Since dataclasses automatically generate __repr__, you don't need to define it unless you want a custom representation.\n",
        "\n",
        "\n",
        "@dataclass(frozen=True)\n",
        "class EcoCyc_Reaction:\n",
        "    UNIQUE_ID: str = \"\"\n",
        "    LEFT: List[str] = None\n",
        "    RIGHT: List[str] = None\n",
        "    EC_NUMBER: str = \"\"\n",
        "    REACTION_DIRECTION: str = \"\"\n",
        "\n",
        "    def __post_init__(self): #used to ensure that SUBSTRATES and PRODUCTS are initialized as empty lists if they are not provided during object creation (safer for list operations)\n",
        "        if self.LEFT is None:\n",
        "            self.LEFT = []\n",
        "        if self.RIGHT is None:\n",
        "            self.RIGHT = []\n"
      ]
    },
    {
      "cell_type": "markdown",
      "metadata": {
        "id": "Dp_CnmyjC41S"
      },
      "source": [
        "# Parsing the EcoCyc files into EcoCyc objects"
      ]
    },
    {
      "cell_type": "markdown",
      "source": [
        "###EcoCyc_Chemicals from Compounds.dat"
      ],
      "metadata": {
        "id": "8DN_LlKkqTtV"
      }
    },
    {
      "cell_type": "markdown",
      "metadata": {
        "id": "41sub4-hIFuu"
      },
      "source": [
        "Using a parser of **compounds.dat** to construct the EcoCyc_Chemical ontology. The EcoCyc_Chemical class and cooresponding objects is meant to be an exact replica of what is found in the raw data. These objects are stored in a dictionary called **ecocyc_chemicals_dict**\n",
        "\n"
      ]
    },
    {
      "cell_type": "code",
      "execution_count": 5,
      "metadata": {
        "colab": {
          "base_uri": "https://localhost:8080/"
        },
        "id": "phUg_ZLb9yKC",
        "outputId": "a4a41836-f15f-4698-ceb7-b7fc76e022f2"
      },
      "outputs": [
        {
          "output_type": "stream",
          "name": "stdout",
          "text": [
            "EcoCyc_Chemical(UNIQUE_ID='Ureidocarboxylates', COMMON_NAME='an ureidocarboxylate', SMILES='', INCHI='', NON_STANDARD_INCHI='')\n",
            "EcoCyc_Chemical(UNIQUE_ID='Monogalactosyldiacylglycerols-38-3', COMMON_NAME='monogalactosyldiacylglycerol-38:3', SMILES='', INCHI='', NON_STANDARD_INCHI='')\n",
            "EcoCyc_Chemical(UNIQUE_ID='6-H-5-I-2-methylhexanoates', COMMON_NAME='a 6-hydroxy-5-isopropenyl-2-methylhexanoate', SMILES='C=C(C)C(CCC(C)C(=O)[O-])CO', INCHI='InChI=1S/C10H18O3/c1-7(2)9(6-11)5-4-8(3)10(12)13/h8-9,11H,1,4-6H2,2-3H3,(H,12,13)/p-1', NON_STANDARD_INCHI='InChI=1S/C10H18O3/c1-7(2)9(6-11)5-4-8(3)10(12)13/h8-9,11H,1,4-6H2,2-3H3,(H,12,13)')\n",
            "EcoCyc_Chemical(UNIQUE_ID='Monogalactosyldiacylglycerols-36-4', COMMON_NAME='monogalactosyldiacylglycerol-36:4', SMILES='', INCHI='', NON_STANDARD_INCHI='')\n",
            "EcoCyc_Chemical(UNIQUE_ID='Short-Chain-Carboxylates', COMMON_NAME='a short-chain carboxylate', SMILES='C([O-])(=O)[R]', INCHI='', NON_STANDARD_INCHI='InChI=1S/CH2O2/c2-1-3/h1H,(H,2,3)/p-1')\n"
          ]
        }
      ],
      "source": [
        "def parse_chemicals_to_dict(file_contents):\n",
        "    ecocyc_chemicals_dict = {}\n",
        "\n",
        "    ecocyc_chemical_data = {\n",
        "        'UNIQUE_ID': '',\n",
        "        'COMMON_NAME': '',\n",
        "        'SMILES': '',\n",
        "        'INCHI': '',\n",
        "        'NON_STANDARD_INCHI': '',\n",
        "    }\n",
        "\n",
        "    for line in file_contents:\n",
        "        if '- ' in line:\n",
        "            key, value = line.split('- ', 1)  # 1 is used as a max split to limit the number of splits\n",
        "            key = key.strip().replace('-', '_').upper()  # Converting to dataclass format\n",
        "            value = value.strip()\n",
        "\n",
        "            if key in ecocyc_chemical_data:\n",
        "                ecocyc_chemical_data[key] = value #Assigns values to the corresponding keys in the ecocyc_chemical_data dictionary\n",
        "        elif line.strip() == '//':  # End of chemical data entry in the flat file\n",
        "            chem_obj = EcoCyc_Chemical(**ecocyc_chemical_data) #Creates an instance of EcoCyc_Chemical using the data stored in ecocyc_chemical_data.\n",
        "            #The ** operator is used to unpack the dictionary into keyword arguments\n",
        "            ecocyc_chemicals_dict[ecocyc_chemical_data['UNIQUE_ID']] = chem_obj #The new EcoCyc_Chemical object is stored in ecocyc_chemicals_dict dictionary; UNIQUE_ID is the key.\n",
        "            ecocyc_chemical_data = {k: '' for k in ecocyc_chemical_data}  # Reset for the next entry\n",
        "\n",
        "    return ecocyc_chemicals_dict #In the dictionary: Key=UNIQUE_ID, Value= the entire EcoCyc_Chemical object\n",
        "\n",
        "# Code to read file and create dictionary\n",
        "with open(\"compounds.dat\", \"r\", encoding=\"ISO-8859-1\") as file:\n",
        "    file_contents = file.readlines()\n",
        "ecocyc_chemicals_dict = parse_chemicals_to_dict(file_contents)\n",
        "\n",
        "# Test by printing the first 5 chemicals\n",
        "for test_key in list(ecocyc_chemicals_dict.keys())[:5]: #Specifically creating list of the keys in ecocyc_chemicals_dict dictionary.\n",
        "    print(ecocyc_chemicals_dict[test_key])\n"
      ]
    },
    {
      "cell_type": "markdown",
      "source": [
        "###EcoCyc_Reactions from Reactions.dat"
      ],
      "metadata": {
        "id": "EGGAqSyEqd6C"
      }
    },
    {
      "cell_type": "markdown",
      "metadata": {
        "id": "YiuPDRhbIZ3Z"
      },
      "source": [
        "Using a parser of **reactions.dat** to construct the EcoCyc_Reaction ontology. The EcoCyc_Reaction class and cooresponding objects is meant to be an exact replica of what is found in the raw data. These objects are stored in a dictionary called **ecocyc_reactions_dict**\n",
        "\n",
        "\n"
      ]
    },
    {
      "cell_type": "code",
      "execution_count": 6,
      "metadata": {
        "colab": {
          "base_uri": "https://localhost:8080/"
        },
        "id": "xkhJ0A7nADoG",
        "outputId": "654d228d-1361-4700-8256-49e8b90b8e2e"
      },
      "outputs": [
        {
          "output_type": "stream",
          "name": "stdout",
          "text": [
            "EcoCyc_Reaction(UNIQUE_ID='RXN-21279', LEFT=['a-5-deoxyribose-5-phosphate-DNA'], RIGHT=['5-Phospho-terminated-DNAs', 'CPD-22978', 'PROTON'], EC_NUMBER='', REACTION_DIRECTION='PHYSIOL-LEFT-TO-RIGHT')\n",
            "EcoCyc_Reaction(UNIQUE_ID='RXN-19954', LEFT=['2Cys-Peroxiredoxins-With-HydroxyCys'], RIGHT=['Cys2-Peroxiredoxin-Disulfide', 'WATER'], EC_NUMBER='', REACTION_DIRECTION='PHYSIOL-LEFT-TO-RIGHT')\n",
            "EcoCyc_Reaction(UNIQUE_ID='RXN-17919', LEFT=['A-5-prime-PP-5-prime-DNA', '3-Hydroxy-Terminated-DNAs'], RIGHT=['DNA-N', 'AMP', 'PROTON'], EC_NUMBER='', REACTION_DIRECTION='PHYSIOL-LEFT-TO-RIGHT')\n",
            "EcoCyc_Reaction(UNIQUE_ID='RXN0-4701', LEFT=['mRNA-Holder', 'WATER'], RIGHT=['ssRNA-with-3phosphate', 'ssRNA-with-5OH'], EC_NUMBER='', REACTION_DIRECTION='LEFT-TO-RIGHT')\n",
            "EcoCyc_Reaction(UNIQUE_ID='RXN-20692', LEFT=['Cys2-Peroxiredoxin-Disulfide', 'Red-Prx-Disulfide-Reductases'], RIGHT=['Reduced-Cys2-Peroxiredoxins', 'Ox-Prx-Disulfide-Reductases'], EC_NUMBER='', REACTION_DIRECTION='PHYSIOL-LEFT-TO-RIGHT')\n"
          ]
        }
      ],
      "source": [
        "def parse_reactions_to_dict(file_contents):\n",
        "    ecocyc_reactions_dict = {}\n",
        "    ecocyc_reaction_data = {\n",
        "        'UNIQUE_ID': '',\n",
        "        'LEFT': [],\n",
        "        'RIGHT': [],\n",
        "        'EC_NUMBER': '',\n",
        "        'REACTION_DIRECTION': ''\n",
        "    }\n",
        "\n",
        "    for line in file_contents:\n",
        "        if '- ' in line:\n",
        "            key, value = line.split('- ', 1)\n",
        "            key = key.strip().replace('-', '_').upper()\n",
        "            value = value.strip()\n",
        "\n",
        "            if key in ['UNIQUE_ID', 'EC_NUMBER', 'REACTION_DIRECTION']:\n",
        "                ecocyc_reaction_data[key] = value\n",
        "            elif key in ['LEFT', 'RIGHT']:\n",
        "                ecocyc_reaction_data[key].append(value) #Must append because we are making a list\n",
        "        elif line.strip() == '//':  # End of reaction data entry\n",
        "            reaction_obj = EcoCyc_Reaction(**ecocyc_reaction_data)\n",
        "            ecocyc_reactions_dict[ecocyc_reaction_data['UNIQUE_ID']] = reaction_obj\n",
        "            ecocyc_reaction_data = {\n",
        "                'UNIQUE_ID': '',\n",
        "                'LEFT': [],\n",
        "                'RIGHT': [],\n",
        "                'EC_NUMBER': '',\n",
        "                'REACTION_DIRECTION': ''\n",
        "            } # Reset for the next entry\n",
        "\n",
        "    return ecocyc_reactions_dict\n",
        "\n",
        "# Code to read file and create dictionary\n",
        "with open(\"reactions.dat\", \"r\", encoding=\"ISO-8859-1\") as file:\n",
        "    file_contents = file.readlines()\n",
        "ecocyc_reactions_dict = parse_reactions_to_dict(file_contents)\n",
        "\n",
        "# Test by printing the first 5 reactions\n",
        "for key in list(ecocyc_reactions_dict.keys())[:5]:\n",
        "    print(ecocyc_reactions_dict[key])\n"
      ]
    },
    {
      "cell_type": "markdown",
      "metadata": {
        "id": "Ck7nk-6ZJmoN"
      },
      "source": [
        "# Creating Chemical and Reaction Objects for Synthesis"
      ]
    },
    {
      "cell_type": "markdown",
      "metadata": {
        "id": "DrcTvkESOj6c"
      },
      "source": [
        "I'm making this a step because in the final product, there will be multiple alteration steps of the EcoCyc ontology compared with what we want in the end Chemical and Reaction ojects that are used directly in the synthesis algorithm. See \"Transformation Validator Documentation\" for more details: https://docs.google.com/document/d/14jfgooL9Do50gW2h1I39nQzDNsVGLdDSXtIxkN49jsc/edit?usp=sharing"
      ]
    },
    {
      "cell_type": "code",
      "execution_count": 7,
      "metadata": {
        "id": "ukqX9_IrKu-7"
      },
      "outputs": [],
      "source": [
        "@dataclass(frozen=True)\n",
        "class Chemical:\n",
        "    UNIQUE_ID: str = \"\"\n",
        "    COMMON_NAME: str = \"\"\n",
        "    SMILES: str = \"\"\n",
        "    INCHI: str = \"\"\n",
        "    NON_STANDARD_INCHI: str = \"\"\n",
        "\n",
        "@dataclass(frozen=True)\n",
        "class Reaction:\n",
        "    UNIQUE_ID: str\n",
        "    SUBSTRATES: Tuple[Chemical, ...]  # Assuming Chemical objects are hashable\n",
        "    PRODUCTS: Tuple[Chemical, ...]\n",
        "    EC_NUMBER: str\n",
        "    REACTION_DIRECTION: str\n",
        "\n"
      ]
    },
    {
      "cell_type": "markdown",
      "source": [
        "#Data Counting and Filtering"
      ],
      "metadata": {
        "id": "6vt_Pfx2m0kd"
      }
    },
    {
      "cell_type": "code",
      "source": [
        "# Step 1: Collect all unique substrate and product IDs from EcoCyc_Reactions\n",
        "unique_chemical_ids = set()\n",
        "for reaction_id, reaction in ecocyc_reactions_dict.items():\n",
        "    unique_chemical_ids.update(reaction.LEFT)\n",
        "    unique_chemical_ids.update(reaction.RIGHT)\n",
        "\n",
        "# Step 2: Filter EcoCyc_Chemicals to keep only those referenced in EcoCyc_Reactions\n",
        "# Now creating a list of EcoCyc_Chemical objects\n",
        "ecocyc_chems_in_rxns = [ecocyc_chemicals_dict[chem_id] for chem_id in unique_chemical_ids if chem_id in ecocyc_chemicals_dict]\n",
        "\n",
        "# Optional: Display some of the chemicals in the list to verify\n",
        "for chemical in ecocyc_chems_in_rxns[:5]:\n",
        "    print(chemical)\n"
      ],
      "metadata": {
        "colab": {
          "base_uri": "https://localhost:8080/"
        },
        "id": "uLFtCNu7ZY9n",
        "outputId": "7221966a-9613-4b73-d4f6-29b34170ede9"
      },
      "execution_count": 8,
      "outputs": [
        {
          "output_type": "stream",
          "name": "stdout",
          "text": [
            "EcoCyc_Chemical(UNIQUE_ID='5-DEHYDROGLUCONATE', COMMON_NAME='5-dehydro-D-gluconate', SMILES='C(O)C(=O)[C@@H](O)[C@H](O)[C@@H](O)C(=O)[O-]', INCHI='InChI=1S/C6H10O7/c7-1-2(8)3(9)4(10)5(11)6(12)13/h3-5,7,9-11H,1H2,(H,12,13)/p-1/t3-,4+,5-/m1/s1', NON_STANDARD_INCHI='InChI=1S/C6H10O7/c7-1-2(8)3(9)4(10)5(11)6(12)13/h3-5,7,9-11H,1H2,(H,12,13)/p-1/t3-,4+,5-/m1/s1')\n",
            "EcoCyc_Chemical(UNIQUE_ID='S-METHYLGLUTATHIONE', COMMON_NAME='<i>S</i>-methylglutathione', SMILES='CSC[C@@H](C(NCC([O-])=O)=O)NC(=O)CC[C@H]([NH3+])C([O-])=O', INCHI='InChI=1S/C11H19N3O6S/c1-21-5-7(10(18)13-4-9(16)17)14-8(15)3-2-6(12)11(19)20/h6-7H,2-5,12H2,1H3,(H,13,18)(H,14,15)(H,16,17)(H,19,20)/p-1/t6-,7-/m0/s1', NON_STANDARD_INCHI=':STANDARD-INCHI')\n",
            "EcoCyc_Chemical(UNIQUE_ID='CPD-21685', COMMON_NAME='6-sulfo-&alpha;-D-quinovose', SMILES='C([C@H]1(O[C@H](O)[C@H](O)[C@@H](O)[C@H](O)1))S(=O)(=O)[O-]', INCHI='InChI=1S/C6H12O8S/c7-3-2(1-15(11,12)13)14-6(10)5(9)4(3)8/h2-10H,1H2,(H,11,12,13)/p-1/t2-,3-,4+,5-,6+/m1/s1', NON_STANDARD_INCHI='InChI=1S/C6H12O8S/c7-3-2(1-15(11,12)13)14-6(10)5(9)4(3)8/h2-10H,1H2,(H,11,12,13)/p-1/t2-,3-,4+,5-,6+/m1/s1')\n",
            "EcoCyc_Chemical(UNIQUE_ID='TTP', COMMON_NAME='dTTP', SMILES='CC1(\\\\C(=O)NC(=O)N(\\\\C=1)[C@H]2(C[C@H](O)[C@@H](COP(=O)([O-])OP(=O)([O-])OP(=O)([O-])[O-])O2))', INCHI='InChI=1S/C10H17N2O14P3/c1-5-3-12(10(15)11-9(5)14)8-2-6(13)7(24-8)4-23-28(19,20)26-29(21,22)25-27(16,17)18/h3,6-8,13H,2,4H2,1H3,(H,19,20)(H,21,22)(H,11,14,15)(H2,16,17,18)/p-4/t6-,7+,8+/m0/s1', NON_STANDARD_INCHI=':STANDARD-INCHI')\n",
            "EcoCyc_Chemical(UNIQUE_ID='CPD-11444', COMMON_NAME='uroporphyrinogen-I', SMILES='C(=O)([O-])CCC2(\\\\C(/CC(=O)[O-])=C1(CC5(\\\\NC(/CC4(\\\\NC(/CC3(\\\\NC(/CC(\\\\N1)=2)=C(CC(=O)[O-])/C(\\\\CCC([O-])=O)=3))=C(CC(=O)[O-])/C(\\\\CCC(=O)[O-])=4))=C(CC([O-])=O)/C(\\\\CCC(=O)[O-])=5)))', INCHI='InChI=1S/C40H44N4O16/c45-33(46)5-1-17-21(9-37(53)54)29-14-26-19(3-7-35(49)50)23(11-39(57)58)31(43-26)16-28-20(4-8-36(51)52)24(12-40(59)60)32(44-28)15-27-18(2-6-34(47)48)22(10-38(55)56)30(42-27)13-25(17)41-29/h41-44H,1-16H2,(H,45,46)(H,47,48)(H,49,50)(H,51,52)(H,53,54)(H,55,56)(H,57,58)(H,59,60)/p-8', NON_STANDARD_INCHI=':STANDARD-INCHI')\n"
          ]
        }
      ]
    },
    {
      "cell_type": "code",
      "source": [
        "# Print the length of EcoCyc_chemicals_dict and ecocyc_chems_in_rxns\n",
        "print(f\"Length of EcoCyc_chemicals_dict: {len(ecocyc_chemicals_dict)}\")\n",
        "print(f\"Length of ecocyc_chems_in_rxns: {len(ecocyc_chems_in_rxns)}\")"
      ],
      "metadata": {
        "colab": {
          "base_uri": "https://localhost:8080/"
        },
        "id": "Jea1CqtrcBpu",
        "outputId": "513e44ed-265e-40ed-e2a2-a4a5079fde0f"
      },
      "execution_count": 9,
      "outputs": [
        {
          "output_type": "stream",
          "name": "stdout",
          "text": [
            "Length of EcoCyc_chemicals_dict: 7585\n",
            "Length of ecocyc_chems_in_rxns: 2083\n"
          ]
        }
      ]
    },
    {
      "cell_type": "markdown",
      "source": [
        "###Functions to help with error handling when using RDKit"
      ],
      "metadata": {
        "id": "28j_gB54tv_E"
      }
    },
    {
      "cell_type": "code",
      "source": [
        "# Suppress RDKit warnings\n",
        "logger = RDLogger.logger()\n",
        "logger.setLevel(RDLogger.ERROR)  # Show only errors, ignore warnings\n",
        "\n",
        "\n",
        "# Define a context manager to suppress RDKit warnings and errors temporarily\n",
        "class SuppressRDKitLogs:\n",
        "    def __enter__(self):\n",
        "        RDLogger.DisableLog('rdApp.*')\n",
        "\n",
        "    def __exit__(self, exc_type, exc_val, exc_tb):\n",
        "        RDLogger.EnableLog('rdApp.*')\n",
        "\n",
        "def safe_mol_from_inchi(inchi):\n",
        "    with SuppressRDKitLogs():\n",
        "        try:\n",
        "            return Chem.MolFromInchi(inchi)\n",
        "        except:\n",
        "            return None\n",
        "\n",
        "def safe_mol_from_smiles(smiles):\n",
        "    with SuppressRDKitLogs():\n",
        "        try:\n",
        "            return Chem.MolFromSmiles(smiles)\n",
        "        except:\n",
        "            return None\n",
        "\n",
        "def safe_mol_from_smarts(smarts):\n",
        "    with SuppressRDKitLogs():\n",
        "        try:\n",
        "            return Chem.MolFromSmarts(smarts)\n",
        "        except:\n",
        "            return None"
      ],
      "metadata": {
        "id": "m9L92X5QtvKn"
      },
      "execution_count": 10,
      "outputs": []
    },
    {
      "cell_type": "markdown",
      "source": [
        "###None"
      ],
      "metadata": {
        "id": "uWZxcfBcgIcf"
      }
    },
    {
      "cell_type": "code",
      "source": [
        "# Filter to find chemicals with no InChI, no NSInChI, and no SMILES\n",
        "chems_with_no_structural_info = [chem for chem in ecocyc_chems_in_rxns if not chem.INCHI and not chem.NON_STANDARD_INCHI and not chem.SMILES]\n",
        "print(f\"Number of chemicals with no InChI, no NSInChI, and no SMILES: {len(chems_with_no_structural_info)}\")"
      ],
      "metadata": {
        "colab": {
          "base_uri": "https://localhost:8080/"
        },
        "id": "XvjbM1gSgG4A",
        "outputId": "624d4c4a-184a-4362-84cd-9096099c3fce"
      },
      "execution_count": 11,
      "outputs": [
        {
          "output_type": "stream",
          "name": "stdout",
          "text": [
            "Number of chemicals with no InChI, no NSInChI, and no SMILES: 69\n"
          ]
        }
      ]
    },
    {
      "cell_type": "markdown",
      "source": [
        "###All 3"
      ],
      "metadata": {
        "id": "S3YU0wyDsxfT"
      }
    },
    {
      "cell_type": "code",
      "source": [
        "# Filter chemicals that have all three: InChI, NSInChI, and SMILES\n",
        "chems_with_all_three = [\n",
        "    chem for chem in ecocyc_chems_in_rxns\n",
        "    if chem.INCHI and chem.NON_STANDARD_INCHI and chem.SMILES\n",
        "]\n",
        "\n",
        "# Of those, filter chemicals whose SMILES can be parsed as a SMILES\n",
        "chems_with_all_three_parsable_smiles = [\n",
        "    chem for chem in chems_with_all_three\n",
        "    if safe_mol_from_smiles(chem.SMILES)\n",
        "]\n",
        "\n",
        "# Of those, filter chemicals whose SMILES can be parsed as a SMIRKS\n",
        "chems_with_all_three_parsable_smirks = [\n",
        "    chem for chem in chems_with_all_three\n",
        "    if safe_mol_from_smarts(chem.SMILES)\n",
        "]\n",
        "\n",
        "# Of those, filter chemicals whose SMILES can be parsed as BOTH SMILES and SMIRKS\n",
        "chems_with_all_three_parsable_as_both = [\n",
        "    chem for chem in chems_with_all_three\n",
        "    if safe_mol_from_smiles(chem.SMILES) and safe_mol_from_smarts(chem.SMILES)\n",
        "]\n",
        "\n",
        "# Of those, filter chemicals whose SMILES cannot be parsed as either SMILES or SMIRKS\n",
        "chems_with_all_three_unparsable_smiles = [\n",
        "    chem for chem in chems_with_all_three\n",
        "    if not safe_mol_from_smiles(chem.SMILES) and not safe_mol_from_smarts(chem.SMILES)\n",
        "]\n",
        "\n",
        "# Print the counts\n",
        "print(f\"Number of chemicals with all three (InChI, NSInChI, SMILES): {len(chems_with_all_three)}\")\n",
        "print(f\"Number of chemicals with all three where SMILES can be parsed as SMILES: {len(chems_with_all_three_parsable_smiles)}\")\n",
        "print(f\"Number of chemicals with all three where SMILES can be parsed as SMIRKS: {len(chems_with_all_three_parsable_smirks)}\")\n",
        "print(f\"Number of chemicals with all three where SMILES can be parsed as BOTH SMILES and SMIRKS: {len(chems_with_all_three_parsable_as_both)}\")\n",
        "print(f\"Number of chemicals with all three where SMILES cannot be parsed as SMILES or SMIRKS: {len(chems_with_all_three_unparsable_smiles)}\")\n"
      ],
      "metadata": {
        "colab": {
          "base_uri": "https://localhost:8080/"
        },
        "id": "ufHDUuCVt2g0",
        "outputId": "977c2452-d740-438e-b8b6-6f4428380e84"
      },
      "execution_count": 12,
      "outputs": [
        {
          "output_type": "stream",
          "name": "stdout",
          "text": [
            "Number of chemicals with all three (InChI, NSInChI, SMILES): 1443\n",
            "Number of chemicals with all three where SMILES can be parsed as SMILES: 1443\n",
            "Number of chemicals with all three where SMILES can be parsed as SMIRKS: 1443\n",
            "Number of chemicals with all three where SMILES can be parsed as BOTH SMILES and SMIRKS: 1443\n",
            "Number of chemicals with all three where SMILES cannot be parsed as SMILES or SMIRKS: 0\n"
          ]
        }
      ]
    },
    {
      "cell_type": "markdown",
      "source": [
        "### Inchi"
      ],
      "metadata": {
        "id": "i1zeCQIBs55_"
      }
    },
    {
      "cell_type": "code",
      "source": [
        "# Suppress RDKit warnings\n",
        "logger.setLevel(RDLogger.ERROR)  # Show only errors, ignore warnings\n",
        "\n",
        "# Filter chemicals that have an InChI\n",
        "inchi_chems_with_inchi = [chem for chem in ecocyc_chems_in_rxns if chem.INCHI]\n",
        "\n",
        "# Of those, filter chemicals whose InChI cannot be parsed as a mol\n",
        "inchi_chems_with_unparsable_inchi = [chem for chem in inchi_chems_with_inchi if not Chem.MolFromInchi(chem.INCHI)]\n",
        "\n",
        "# Filter chemicals that have ONLY an InChI (No NSInChI or SMILES)\n",
        "inchi_chems_with_inchi_only = [chem for chem in ecocyc_chems_in_rxns if chem.INCHI and not chem.NON_STANDARD_INCHI and not chem.SMILES]\n",
        "\n",
        "# Filter chemicals that have BOTH an InChI and NSInChI ONLY\n",
        "inchi_chems_with_inchi_and_ns_inchi_only = [chem for chem in ecocyc_chems_in_rxns if chem.INCHI and chem.NON_STANDARD_INCHI and not chem.SMILES]\n",
        "\n",
        "# Filter chemicals that have BOTH an InChI and a SMILES ONLY\n",
        "inchi_chems_with_inchi_and_smiles_only = [chem for chem in ecocyc_chems_in_rxns if chem.INCHI and chem.SMILES and not chem.NON_STANDARD_INCHI]\n",
        "\n",
        "# Of those, filter chemicals whose SMILES cannot be parsed as a mol\n",
        "inchi_chems_with_unparsable_smiles = [chem for chem in inchi_chems_with_inchi_and_smiles_only if not Chem.MolFromSmiles(chem.SMILES)]\n",
        "\n",
        "# Print the counts\n",
        "print(f\"Number of chemicals with InChI: {len(inchi_chems_with_inchi)}\")\n",
        "print(f\"Number of chemicals with InChI that cannot be parsed: {len(inchi_chems_with_unparsable_inchi)}\")\n",
        "print(f\"Number of chemicals with ONLY InChI: {len(inchi_chems_with_inchi_only)}\")\n",
        "print(f\"Number of chemicals with BOTH InChI and NSInChI ONLY: {len(inchi_chems_with_inchi_and_ns_inchi_only)}\")\n",
        "print(f\"Number of chemicals with BOTH InChI and SMILES ONLY: {len(inchi_chems_with_inchi_and_smiles_only)}\")\n",
        "print(f\"Number of chemicals with InChI and SMILES where SMILES cannot be parsed: {len(inchi_chems_with_unparsable_smiles)}\")\n",
        "\n"
      ],
      "metadata": {
        "colab": {
          "base_uri": "https://localhost:8080/"
        },
        "id": "05gyjeMTgLuq",
        "outputId": "e0d454a4-3c8c-4e8b-a1a5-2bacaa621533"
      },
      "execution_count": 13,
      "outputs": [
        {
          "output_type": "stream",
          "name": "stdout",
          "text": [
            "Number of chemicals with InChI: 1454\n",
            "Number of chemicals with InChI that cannot be parsed: 0\n",
            "Number of chemicals with ONLY InChI: 0\n",
            "Number of chemicals with BOTH InChI and NSInChI ONLY: 0\n",
            "Number of chemicals with BOTH InChI and SMILES ONLY: 11\n",
            "Number of chemicals with InChI and SMILES where SMILES cannot be parsed: 0\n"
          ]
        }
      ]
    },
    {
      "cell_type": "code",
      "source": [
        "# Filter chemicals that have an InChI and NO SMILES\n",
        "inchi_chems_with_inchi_no_smiles = [chem for chem in ecocyc_chems_in_rxns if chem.INCHI and not chem.SMILES]\n",
        "\n",
        "# Print the count\n",
        "print(f\"Number of chemicals with InChI and NO SMILES: {len(inchi_chems_with_inchi_no_smiles)}\")"
      ],
      "metadata": {
        "colab": {
          "base_uri": "https://localhost:8080/"
        },
        "id": "inlV3KdeYYa8",
        "outputId": "b64df0fa-976e-4a51-be40-8faab0796f4b"
      },
      "execution_count": 14,
      "outputs": [
        {
          "output_type": "stream",
          "name": "stdout",
          "text": [
            "Number of chemicals with InChI and NO SMILES: 0\n"
          ]
        }
      ]
    },
    {
      "cell_type": "markdown",
      "source": [
        "### Non-Standard Inchi"
      ],
      "metadata": {
        "id": "DirjK33DtLi0"
      }
    },
    {
      "cell_type": "code",
      "source": [
        "# Filter chemicals that have a NSInChI\n",
        "nsinchi_chems_with_ns_inchi = [chem for chem in ecocyc_chems_in_rxns if chem.NON_STANDARD_INCHI]\n",
        "\n",
        "# Filter chemicals that have a NSInChI, excluding those with NON_STANDARD_INCHI set to ':STANDARD-INCHI'\n",
        "# and check if the remaining NSInChIs cannot be parsed as a mol\n",
        "nsinchi_chems_with_unparsable_ns_inchi = [\n",
        "    chem for chem in nsinchi_chems_with_ns_inchi\n",
        "    if chem.NON_STANDARD_INCHI != ':STANDARD-INCHI' and not safe_mol_from_inchi(chem.NON_STANDARD_INCHI)\n",
        "]\n",
        "\n",
        "# Filter chemicals that have ONLY a NSInChI (No InChI or SMILES)\n",
        "nsinchi_chems_with_ns_inchi_only = [chem for chem in ecocyc_chems_in_rxns if chem.NON_STANDARD_INCHI and not chem.INCHI and not chem.SMILES]\n",
        "\n",
        "# Filter chemicals that have BOTH a NSInChI and a SMILES ONLY\n",
        "nsinchi_chems_with_ns_inchi_and_smiles_only = [chem for chem in ecocyc_chems_in_rxns if chem.NON_STANDARD_INCHI and chem.SMILES and not chem.INCHI]\n",
        "\n",
        "# Of those, filter chemicals whose SMILES can be parsed as a SMILES\n",
        "nsinchi_chems_with_parsable_smiles = [chem for chem in nsinchi_chems_with_ns_inchi_and_smiles_only if safe_mol_from_smiles(chem.SMILES)]\n",
        "\n",
        "# Of those, filter chemicals whose SMILES can be parsed as a SMIRKS\n",
        "nsinchi_chems_with_parsable_smirks = [chem for chem in nsinchi_chems_with_ns_inchi_and_smiles_only if safe_mol_from_smarts(chem.SMILES)]\n",
        "\n",
        "# Filter chemicals that have BOTH a NSInChI and SMILES ONLY and whose SMILES can be parsed as both SMILES and SMIRKS\n",
        "nsinchi_chems_with_smiles_parsable_as_both = [chem for chem in nsinchi_chems_with_ns_inchi_and_smiles_only if safe_mol_from_smiles(chem.SMILES) and safe_mol_from_smarts(chem.SMILES)]\n",
        "\n",
        "# Of those, filter chemicals whose SMILES cannot be parsed as a SMILES or SMIRKS\n",
        "nsinchi_chems_with_unparsable_smiles_smirks = [chem for chem in nsinchi_chems_with_ns_inchi_and_smiles_only if not safe_mol_from_smiles(chem.SMILES) and not safe_mol_from_smarts(chem.SMILES)]\n",
        "\n",
        "# Print the counts\n",
        "print(f\"Number of chemicals with NSInChI: {len(nsinchi_chems_with_ns_inchi)}\")\n",
        "print(f\"Number of chemicals with NSInChI (excluding ':STANDARD-INCHI') that cannot be parsed: {len(nsinchi_chems_with_unparsable_ns_inchi)}\")\n",
        "print(f\"Number of chemicals with ONLY NSInChI: {len(nsinchi_chems_with_ns_inchi_only)}\")\n",
        "print(f\"Number of chemicals with BOTH NSInChI and SMILES ONLY: {len(nsinchi_chems_with_ns_inchi_and_smiles_only)}\")\n",
        "print(f\"Number of chemicals with NSInChI and SMILES where SMILES can be parsed as SMILES: {len(nsinchi_chems_with_parsable_smiles)}\")\n",
        "print(f\"Number of chemicals with NSInChI and SMILES where SMILES can be parsed as SMIRKS: {len(nsinchi_chems_with_parsable_smirks)}\")\n",
        "print(f\"Number of chemicals with BOTH NSInChI and SMILES ONLY where SMILES can be parsed as BOTH SMILES and SMIRKS: {len(nsinchi_chems_with_smiles_parsable_as_both)}\")\n",
        "print(f\"Number of chemicals with NSInChI and SMILES where SMILES cannot be parsed as SMILES or SMIRKS: {len(nsinchi_chems_with_unparsable_smiles_smirks)}\")\n",
        "\n"
      ],
      "metadata": {
        "colab": {
          "base_uri": "https://localhost:8080/"
        },
        "id": "wvetCYl8h8qh",
        "outputId": "b1cc4d4a-bc13-47af-9cca-c37b14af9ae8"
      },
      "execution_count": 15,
      "outputs": [
        {
          "output_type": "stream",
          "name": "stdout",
          "text": [
            "Number of chemicals with NSInChI: 1963\n",
            "Number of chemicals with NSInChI (excluding ':STANDARD-INCHI') that cannot be parsed: 1\n",
            "Number of chemicals with ONLY NSInChI: 1\n",
            "Number of chemicals with BOTH NSInChI and SMILES ONLY: 519\n",
            "Number of chemicals with NSInChI and SMILES where SMILES can be parsed as SMILES: 6\n",
            "Number of chemicals with NSInChI and SMILES where SMILES can be parsed as SMIRKS: 180\n",
            "Number of chemicals with BOTH NSInChI and SMILES ONLY where SMILES can be parsed as BOTH SMILES and SMIRKS: 6\n",
            "Number of chemicals with NSInChI and SMILES where SMILES cannot be parsed as SMILES or SMIRKS: 339\n"
          ]
        }
      ]
    },
    {
      "cell_type": "markdown",
      "source": [
        "### SMILES"
      ],
      "metadata": {
        "id": "KNPohXN2tOXr"
      }
    },
    {
      "cell_type": "code",
      "source": [
        "# Filter chemicals that have a SMILES\n",
        "smiles_chems_with_smiles = [chem for chem in ecocyc_chems_in_rxns if chem.SMILES]\n",
        "\n",
        "# Of those, filter chemicals whose SMILES cannot be parsed as a SMILES or SMIRKS\n",
        "smiles_chems_with_unparsable_smiles = [\n",
        "    chem for chem in smiles_chems_with_smiles\n",
        "    if not safe_mol_from_smiles(chem.SMILES) and not safe_mol_from_smarts(chem.SMILES)\n",
        "]\n",
        "\n",
        "# Filter chemicals that have ONLY a SMILES (No InChI or NSInChI)\n",
        "smiles_chems_with_smiles_only = [\n",
        "    chem for chem in ecocyc_chems_in_rxns\n",
        "    if chem.SMILES and not chem.INCHI and not chem.NON_STANDARD_INCHI\n",
        "]\n",
        "\n",
        "# Of those, filter chemicals whose SMILES can be parsed as a SMILES\n",
        "smiles_chems_with_parsable_smiles = [\n",
        "    chem for chem in smiles_chems_with_smiles_only\n",
        "    if safe_mol_from_smiles(chem.SMILES)\n",
        "]\n",
        "\n",
        "# Of those, filter chemicals whose SMILES can be parsed as a SMIRKS\n",
        "smiles_chems_with_parsable_smirks = [\n",
        "    chem for chem in smiles_chems_with_smiles_only\n",
        "    if safe_mol_from_smarts(chem.SMILES)\n",
        "]\n",
        "\n",
        "# Of those, filter chemicals whose SMILES can be parsed BOTH as a SMILES or a SMIRKS\n",
        "smiles_chems_parsable_as_both = [\n",
        "    chem for chem in smiles_chems_with_smiles_only\n",
        "    if safe_mol_from_smiles(chem.SMILES) and safe_mol_from_smarts(chem.SMILES)\n",
        "]\n",
        "\n",
        "# Filter chemicals that have ONLY a SMILES and whose SMILES cannot be parsed as either a SMILES or a SMIRKS\n",
        "smiles_chems_with_smiles_only_unparsable = [\n",
        "    chem for chem in smiles_chems_with_smiles_only\n",
        "    if not safe_mol_from_smiles(chem.SMILES) and not safe_mol_from_smarts(chem.SMILES)\n",
        "]\n",
        "\n",
        "# Print the counts\n",
        "print(f\"Number of chemicals with SMILES: {len(smiles_chems_with_smiles)}\")\n",
        "print(f\"Number of chemicals with SMILES that cannot be parsed as SMILES or SMIRKS: {len(smiles_chems_with_unparsable_smiles)}\")\n",
        "print(f\"Number of chemicals with ONLY SMILES: {len(smiles_chems_with_smiles_only)}\")\n",
        "print(f\"Number of chemicals with ONLY SMILES that can be parsed as SMILES: {len(smiles_chems_with_parsable_smiles)}\")\n",
        "print(f\"Number of chemicals with ONLY SMILES that can be parsed as SMIRKS: {len(smiles_chems_with_parsable_smirks)}\")\n",
        "print(f\"Number of chemicals with ONLY SMILES that can be parsed as BOTH SMILES and SMIRKS: {len(smiles_chems_parsable_as_both)}\")\n",
        "print(f\"Number of chemicals with ONLY SMILES that cannot be parsed as SMILES or SMIRKS: {len(smiles_chems_with_smiles_only_unparsable)}\")\n",
        "\n"
      ],
      "metadata": {
        "colab": {
          "base_uri": "https://localhost:8080/"
        },
        "id": "SpOIO8YwqAyu",
        "outputId": "65b89d27-b9c4-4741-94bb-937a400139f7"
      },
      "execution_count": 16,
      "outputs": [
        {
          "output_type": "stream",
          "name": "stdout",
          "text": [
            "Number of chemicals with SMILES: 2013\n",
            "Number of chemicals with SMILES that cannot be parsed as SMILES or SMIRKS: 368\n",
            "Number of chemicals with ONLY SMILES: 40\n",
            "Number of chemicals with ONLY SMILES that can be parsed as SMILES: 1\n",
            "Number of chemicals with ONLY SMILES that can be parsed as SMIRKS: 11\n",
            "Number of chemicals with ONLY SMILES that can be parsed as BOTH SMILES and SMIRKS: 1\n",
            "Number of chemicals with ONLY SMILES that cannot be parsed as SMILES or SMIRKS: 29\n"
          ]
        }
      ]
    },
    {
      "cell_type": "markdown",
      "source": [
        "###Print List"
      ],
      "metadata": {
        "id": "3bcXZqJ9tRru"
      }
    },
    {
      "cell_type": "code",
      "source": [
        "def print_chem_list(chem_list):\n",
        "    \"\"\"\n",
        "    Prints each EcoCyc_Chemical object in the provided list on a separate line.\n",
        "\n",
        "    :param chem_list: List of EcoCyc_Chemical objects.\n",
        "    \"\"\"\n",
        "    for chem in chem_list:\n",
        "        print(chem)\n",
        "\n",
        "# Call the function with chems_with_no_structural_info list\n",
        "print_chem_list(chems_with_no_structural_info)\n"
      ],
      "metadata": {
        "id": "Q3bmpYABeYdI",
        "colab": {
          "base_uri": "https://localhost:8080/"
        },
        "outputId": "0cf6464e-b19a-4970-b3fd-71e8e42f9187"
      },
      "execution_count": 17,
      "outputs": [
        {
          "output_type": "stream",
          "name": "stdout",
          "text": [
            "EcoCyc_Chemical(UNIQUE_ID='bacitracin', COMMON_NAME='bacitracin', SMILES='', INCHI='', NON_STANDARD_INCHI='')\n",
            "EcoCyc_Chemical(UNIQUE_ID='Lysophosphatidylglycerols', COMMON_NAME='a lysophosphatidylglycerol', SMILES='', INCHI='', NON_STANDARD_INCHI='')\n",
            "EcoCyc_Chemical(UNIQUE_ID='Lactones', COMMON_NAME='a lactone', SMILES='', INCHI='', NON_STANDARD_INCHI='')\n",
            "EcoCyc_Chemical(UNIQUE_ID='IS30-Insertion-Sequences', COMMON_NAME='an insertion sequence element IS30', SMILES='', INCHI='', NON_STANDARD_INCHI='')\n",
            "EcoCyc_Chemical(UNIQUE_ID='Resolution-of-Recombinational-Junction', COMMON_NAME='resolution of recombinational junction formation of two intact strands', SMILES='', INCHI='', NON_STANDARD_INCHI='')\n",
            "EcoCyc_Chemical(UNIQUE_ID='CPD-18500', COMMON_NAME='calcium hydrogenphosphate', SMILES='', INCHI='', NON_STANDARD_INCHI='')\n",
            "EcoCyc_Chemical(UNIQUE_ID='Aliphatic-N-Acetyl-Diamines', COMMON_NAME='', SMILES='', INCHI='', NON_STANDARD_INCHI='')\n",
            "EcoCyc_Chemical(UNIQUE_ID='Ferric-Hydroxamate-Complexes', COMMON_NAME='a ferric hydroxamate complex', SMILES='', INCHI='', NON_STANDARD_INCHI='')\n",
            "EcoCyc_Chemical(UNIQUE_ID='signal-peptide', COMMON_NAME='a signal peptide', SMILES='', INCHI='', NON_STANDARD_INCHI='')\n",
            "EcoCyc_Chemical(UNIQUE_ID='Aliphatic-Alpha-Omega-Diamines', COMMON_NAME='an aliphatic &alpha;,&omega;-diamine', SMILES='', INCHI='', NON_STANDARD_INCHI='')\n",
            "EcoCyc_Chemical(UNIQUE_ID='Glycosides', COMMON_NAME='a glycoside', SMILES='', INCHI='', NON_STANDARD_INCHI='')\n",
            "EcoCyc_Chemical(UNIQUE_ID='Hydroxamate-siderophores', COMMON_NAME='a hydroxamate siderophore', SMILES='', INCHI='', NON_STANDARD_INCHI='')\n",
            "EcoCyc_Chemical(UNIQUE_ID='Protein-phospho-L-histidines', COMMON_NAME='a [protein]-<i>N</i>-phospho-L-histidine', SMILES='', INCHI='', NON_STANDARD_INCHI='')\n",
            "EcoCyc_Chemical(UNIQUE_ID='LOS', COMMON_NAME='a lipid A-core oligosaccharide', SMILES='', INCHI='', NON_STANDARD_INCHI='')\n",
            "EcoCyc_Chemical(UNIQUE_ID='Sugar', COMMON_NAME='a sugar', SMILES='', INCHI='', NON_STANDARD_INCHI='')\n",
            "EcoCyc_Chemical(UNIQUE_ID='Pyrimidine-Bases', COMMON_NAME='a pyrimidine base', SMILES='', INCHI='', NON_STANDARD_INCHI='')\n",
            "EcoCyc_Chemical(UNIQUE_ID='Modified-Bases', COMMON_NAME='a modified nucleobase', SMILES='', INCHI='', NON_STANDARD_INCHI='')\n",
            "EcoCyc_Chemical(UNIQUE_ID='CPD-18254', COMMON_NAME='hydrophilic solute < 900 Da', SMILES='', INCHI='', NON_STANDARD_INCHI='')\n",
            "EcoCyc_Chemical(UNIQUE_ID='CPD-16009', COMMON_NAME='Te<sup>0</sup>', SMILES='', INCHI='', NON_STANDARD_INCHI='')\n",
            "EcoCyc_Chemical(UNIQUE_ID='Alkylphosphonates', COMMON_NAME='an alkylphosphonate', SMILES='', INCHI='', NON_STANDARD_INCHI='')\n",
            "EcoCyc_Chemical(UNIQUE_ID='Pyrimidine-ribonucleotides', COMMON_NAME='a pyrimidine ribonucleotide', SMILES='', INCHI='', NON_STANDARD_INCHI='')\n",
            "EcoCyc_Chemical(UNIQUE_ID='Nitrosoaromatic-Compounds', COMMON_NAME='a nitrosoaromatic compound', SMILES='', INCHI='', NON_STANDARD_INCHI='')\n",
            "EcoCyc_Chemical(UNIQUE_ID='Glucosyl-Lipopolysaccharides', COMMON_NAME='an &alpha;-D-glucosyl-lipopolysaccharide', SMILES='', INCHI='', NON_STANDARD_INCHI='')\n",
            "EcoCyc_Chemical(UNIQUE_ID='Hydrophilic-Solute-Or-Ion-LT-600Da', COMMON_NAME='hydrophilic solute or ion < 600 Da', SMILES='', INCHI='', NON_STANDARD_INCHI='')\n",
            "EcoCyc_Chemical(UNIQUE_ID='Peptide-Antibiotics', COMMON_NAME='a peptide antibiotic', SMILES='', INCHI='', NON_STANDARD_INCHI='')\n",
            "EcoCyc_Chemical(UNIQUE_ID='Inorganic-Compounds', COMMON_NAME='an inorganic compound', SMILES='', INCHI='', NON_STANDARD_INCHI='')\n",
            "EcoCyc_Chemical(UNIQUE_ID='Aminoglycosides', COMMON_NAME='an aminoglycoside', SMILES='', INCHI='', NON_STANDARD_INCHI='')\n",
            "EcoCyc_Chemical(UNIQUE_ID='IS30-with-Integrated-Transposon', COMMON_NAME='an insertion sequence IS30 with integrated transposon', SMILES='', INCHI='', NON_STANDARD_INCHI='')\n",
            "EcoCyc_Chemical(UNIQUE_ID='Organophosphorus-Compounds', COMMON_NAME='an organophosphorus compound', SMILES='', INCHI='', NON_STANDARD_INCHI='')\n",
            "EcoCyc_Chemical(UNIQUE_ID='Nitroaromatic-Compounds', COMMON_NAME='a nitroaromatic compound', SMILES='', INCHI='', NON_STANDARD_INCHI='')\n",
            "EcoCyc_Chemical(UNIQUE_ID='a-lyso-cardiolipin', COMMON_NAME='a lyso-cardiolipin', SMILES='', INCHI='', NON_STANDARD_INCHI='')\n",
            "EcoCyc_Chemical(UNIQUE_ID='Drugs', COMMON_NAME='a drug', SMILES='', INCHI='', NON_STANDARD_INCHI='')\n",
            "EcoCyc_Chemical(UNIQUE_ID='CPD0-1719', COMMON_NAME='TsaD degradation products', SMILES='', INCHI='', NON_STANDARD_INCHI='')\n",
            "EcoCyc_Chemical(UNIQUE_ID='C4-dicarboxylates', COMMON_NAME='a C4-dicarboxylate', SMILES='', INCHI='', NON_STANDARD_INCHI='')\n",
            "EcoCyc_Chemical(UNIQUE_ID='Trisaccharides', COMMON_NAME='a trisaccharide', SMILES='', INCHI='', NON_STANDARD_INCHI='')\n",
            "EcoCyc_Chemical(UNIQUE_ID='NUCLEOTIDE-SUGARS', COMMON_NAME='a nucleotide sugar', SMILES='', INCHI='', NON_STANDARD_INCHI='')\n",
            "EcoCyc_Chemical(UNIQUE_ID='Aminoalkylphosphonates', COMMON_NAME='an (aminoalkyl)phosphonate', SMILES='', INCHI='', NON_STANDARD_INCHI='')\n",
            "EcoCyc_Chemical(UNIQUE_ID='Aromatics', COMMON_NAME='an aromatic compound', SMILES='', INCHI='', NON_STANDARD_INCHI='')\n",
            "EcoCyc_Chemical(UNIQUE_ID='ORGANOSULFUR', COMMON_NAME='an organosulfur compound', SMILES='', INCHI='', NON_STANDARD_INCHI='')\n",
            "EcoCyc_Chemical(UNIQUE_ID='Hexose-phosphates', COMMON_NAME='a hexose phosphate', SMILES='', INCHI='', NON_STANDARD_INCHI='')\n",
            "EcoCyc_Chemical(UNIQUE_ID='Acceptor', COMMON_NAME='an oxidized electron carrier', SMILES='', INCHI='', NON_STANDARD_INCHI='')\n",
            "EcoCyc_Chemical(UNIQUE_ID='Hydroxylaminoaromatic-Compounds', COMMON_NAME='a hydroxylaminoaromatic compound', SMILES='', INCHI='', NON_STANDARD_INCHI='')\n",
            "EcoCyc_Chemical(UNIQUE_ID='Ions', COMMON_NAME='an ion', SMILES='', INCHI='', NON_STANDARD_INCHI='')\n",
            "EcoCyc_Chemical(UNIQUE_ID='CPD-18501', COMMON_NAME='zinc hydrogenphosphate', SMILES='', INCHI='', NON_STANDARD_INCHI='')\n",
            "EcoCyc_Chemical(UNIQUE_ID='Disaccharides', COMMON_NAME='a disaccharide', SMILES='', INCHI='', NON_STANDARD_INCHI='')\n",
            "EcoCyc_Chemical(UNIQUE_ID='C-terminal-32-aminoacid-Peptides', COMMON_NAME='a C terminal 32 amino-acid peptide', SMILES='', INCHI='', NON_STANDARD_INCHI='')\n",
            "EcoCyc_Chemical(UNIQUE_ID='CPD-8534', COMMON_NAME='DNA without lesion', SMILES='', INCHI='', NON_STANDARD_INCHI='')\n",
            "EcoCyc_Chemical(UNIQUE_ID='OLIGOPEPTIDES', COMMON_NAME='an oligopeptide', SMILES='', INCHI='', NON_STANDARD_INCHI='')\n",
            "EcoCyc_Chemical(UNIQUE_ID='DNA-Cleaved-Recognition-Site', COMMON_NAME='DNA cleaved at recognition site', SMILES='', INCHI='', NON_STANDARD_INCHI='')\n",
            "EcoCyc_Chemical(UNIQUE_ID='Bases', COMMON_NAME='a nucleobase', SMILES='', INCHI='', NON_STANDARD_INCHI='')\n",
            "EcoCyc_Chemical(UNIQUE_ID='Light', COMMON_NAME='h&nu;', SMILES='', INCHI='', NON_STANDARD_INCHI='')\n",
            "EcoCyc_Chemical(UNIQUE_ID='Polymyxins', COMMON_NAME='a polymyxin', SMILES='', INCHI='', NON_STANDARD_INCHI='')\n",
            "EcoCyc_Chemical(UNIQUE_ID='DNA-Segment-Placeholder', COMMON_NAME='a DNA segment', SMILES='', INCHI='', NON_STANDARD_INCHI='')\n",
            "EcoCyc_Chemical(UNIQUE_ID='dicarboxylate', COMMON_NAME='a dicarboxylate', SMILES='', INCHI='', NON_STANDARD_INCHI='')\n",
            "EcoCyc_Chemical(UNIQUE_ID='Sugar-Phosphate', COMMON_NAME='a sugar phosphate', SMILES='', INCHI='', NON_STANDARD_INCHI='')\n",
            "EcoCyc_Chemical(UNIQUE_ID='Aliphatic-Omega-Amino-Aldehydes', COMMON_NAME='', SMILES='', INCHI='', NON_STANDARD_INCHI='')\n",
            "EcoCyc_Chemical(UNIQUE_ID='D-fructose-1-phosphate', COMMON_NAME='D-fructose 1-phosphate', SMILES='', INCHI='', NON_STANDARD_INCHI='')\n",
            "EcoCyc_Chemical(UNIQUE_ID='Unspecified-Ion-Or-Solute', COMMON_NAME='non-specific ion/solute', SMILES='', INCHI='', NON_STANDARD_INCHI='')\n",
            "EcoCyc_Chemical(UNIQUE_ID='N-acetylarylamines', COMMON_NAME='an <i>N</i>-acetylarylamine', SMILES='', INCHI='', NON_STANDARD_INCHI='')\n",
            "EcoCyc_Chemical(UNIQUE_ID='Cleaved-DNA', COMMON_NAME='cleaved DNA', SMILES='', INCHI='', NON_STANDARD_INCHI='')\n",
            "EcoCyc_Chemical(UNIQUE_ID='CPD-18499', COMMON_NAME='magnesium hydrogenphosphate', SMILES='', INCHI='', NON_STANDARD_INCHI='')\n",
            "EcoCyc_Chemical(UNIQUE_ID='Lipoprotein-signal-peptide', COMMON_NAME='a lipoprotein signal peptide', SMILES='', INCHI='', NON_STANDARD_INCHI='')\n",
            "EcoCyc_Chemical(UNIQUE_ID='Alkylated-Bases', COMMON_NAME='an alkylated nucleobase', SMILES='', INCHI='', NON_STANDARD_INCHI='')\n",
            "EcoCyc_Chemical(UNIQUE_ID='DNA-With-Recognition-Site', COMMON_NAME='DNA containing a recognition site', SMILES='', INCHI='', NON_STANDARD_INCHI='')\n",
            "EcoCyc_Chemical(UNIQUE_ID='Macrolide-Antibiotics', COMMON_NAME='a macrolide antibiotic', SMILES='', INCHI='', NON_STANDARD_INCHI='')\n",
            "EcoCyc_Chemical(UNIQUE_ID='Hydroxy-carboxylates', COMMON_NAME='a hydroxylated carboxylate', SMILES='', INCHI='', NON_STANDARD_INCHI='')\n",
            "EcoCyc_Chemical(UNIQUE_ID='Erythromycins', COMMON_NAME='an erythromycin', SMILES='', INCHI='', NON_STANDARD_INCHI='')\n",
            "EcoCyc_Chemical(UNIQUE_ID='Tetrasaccharides', COMMON_NAME='a tetrasaccharide', SMILES='', INCHI='', NON_STANDARD_INCHI='')\n",
            "EcoCyc_Chemical(UNIQUE_ID='DNA-Combined-With-Exogenous-DNA', COMMON_NAME='DNA combined with exogenous DNA to form a recombinational junction', SMILES='', INCHI='', NON_STANDARD_INCHI='')\n"
          ]
        }
      ]
    },
    {
      "cell_type": "markdown",
      "source": [
        "Export your print list to CSV file"
      ],
      "metadata": {
        "id": "2GAspGD6lC2h"
      }
    },
    {
      "cell_type": "code",
      "source": [
        "import csv\n",
        "\n",
        "def export_chem_list_to_csv(chem_list, file_name):\n",
        "    \"\"\"\n",
        "    Exports each EcoCyc_Chemical object in the provided list to a CSV file.\n",
        "\n",
        "    :param chem_list: List of EcoCyc_Chemical objects.\n",
        "    :param file_name: The name of the file to which the data should be written.\n",
        "    \"\"\"\n",
        "    with open(file_name, mode='w', newline='') as file:\n",
        "        writer = csv.writer(file)\n",
        "        # Write the header\n",
        "        writer.writerow(['UNIQUE_ID', 'COMMON_NAME', 'SMILES', 'INCHI', 'NON_STANDARD_INCHI'])\n",
        "        # Write the chemical data\n",
        "        for chem in chem_list:\n",
        "            writer.writerow([chem.UNIQUE_ID, chem.COMMON_NAME, chem.SMILES, chem.INCHI, chem.NON_STANDARD_INCHI])\n",
        "\n",
        "# Call the function with chems_with_no_structural_info list\n",
        "export_chem_list_to_csv(smiles_chems_with_smiles_only_unparsable, \"smiles_chems_with_smiles_only_unparsable.csv\")"
      ],
      "metadata": {
        "id": "6EgGHokacyor"
      },
      "execution_count": 18,
      "outputs": []
    }
  ],
  "metadata": {
    "colab": {
      "provenance": [],
      "collapsed_sections": [
        "Dp_CnmyjC41S"
      ]
    },
    "kernelspec": {
      "display_name": "Python 3",
      "name": "python3"
    },
    "language_info": {
      "name": "python"
    }
  },
  "nbformat": 4,
  "nbformat_minor": 0
}