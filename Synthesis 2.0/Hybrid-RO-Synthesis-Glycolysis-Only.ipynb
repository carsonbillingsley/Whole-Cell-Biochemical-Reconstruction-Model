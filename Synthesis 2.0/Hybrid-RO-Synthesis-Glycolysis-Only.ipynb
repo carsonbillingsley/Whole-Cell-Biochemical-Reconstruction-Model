{
  "nbformat": 4,
  "nbformat_minor": 0,
  "metadata": {
    "colab": {
      "provenance": []
    },
    "kernelspec": {
      "name": "python3",
      "display_name": "Python 3"
    },
    "language_info": {
      "name": "python"
    }
  },
  "cells": [
    {
      "cell_type": "markdown",
      "source": [
        "# Dependencies"
      ],
      "metadata": {
        "id": "RhQtuVyo9us7"
      }
    },
    {
      "cell_type": "code",
      "execution_count": 1,
      "metadata": {
        "colab": {
          "base_uri": "https://localhost:8080/"
        },
        "id": "P33_94otB4aN",
        "outputId": "97a46a37-89a4-40ed-ad4d-681eb7759fb9"
      },
      "outputs": [
        {
          "output_type": "stream",
          "name": "stdout",
          "text": [
            "Collecting rdkit\n",
            "  Downloading rdkit-2023.9.5-cp310-cp310-manylinux_2_17_x86_64.manylinux2014_x86_64.whl (34.4 MB)\n",
            "\u001b[2K     \u001b[90m━━━━━━━━━━━━━━━━━━━━━━━━━━━━━━━━━━━━━━━━\u001b[0m \u001b[32m34.4/34.4 MB\u001b[0m \u001b[31m14.1 MB/s\u001b[0m eta \u001b[36m0:00:00\u001b[0m\n",
            "\u001b[?25hRequirement already satisfied: numpy in /usr/local/lib/python3.10/dist-packages (from rdkit) (1.25.2)\n",
            "Requirement already satisfied: Pillow in /usr/local/lib/python3.10/dist-packages (from rdkit) (9.4.0)\n",
            "Installing collected packages: rdkit\n",
            "Successfully installed rdkit-2023.9.5\n"
          ]
        }
      ],
      "source": [
        "!pip install rdkit\n",
        "from rdkit import Chem\n",
        "from rdkit.Chem import Draw\n",
        "from rdkit.Chem.Draw import IPythonConsole\n",
        "from rdkit.Chem.Draw import rdMolDraw2D\n",
        "from rdkit.Chem import rdChemReactions\n",
        "from rdkit.Chem import Descriptors\n",
        "from rdkit.Chem import AllChem\n",
        "from rdkit import DataStructs\n",
        "from rdkit.Chem import MolStandardize, inchi\n",
        "from rdkit.Chem.MolStandardize import rdMolStandardize, tautomer\n",
        "from rdkit import RDLogger\n",
        "\n",
        "import numpy as np\n",
        "\n",
        "from dataclasses import dataclass\n",
        "from typing import List\n",
        "from typing import Tuple\n",
        "\n",
        "from IPython.display import display\n",
        "from IPython.display import Image\n",
        "\n",
        "import json"
      ]
    },
    {
      "cell_type": "markdown",
      "source": [
        "# Access JSON Files through WGET"
      ],
      "metadata": {
        "id": "VopAwlVW3UCs"
      }
    },
    {
      "cell_type": "code",
      "source": [
        "!wget --no-check-certificate 'https://docs.google.com/uc?export=download&id=1F0QBtbiGJ41MLtfZL1JkbHWE8u4TetA0' -O glycolysis_reactions.json\n",
        "!wget --no-check-certificate 'https://docs.google.com/uc?export=download&id=1oAzBVsOx5WjrwONrP1RHDka0YMNameqF' -O unique_chemicals_glycolysis.json"
      ],
      "metadata": {
        "id": "z6KJf1PbXH70",
        "outputId": "9a9862cc-bdbf-4946-bd05-9e28505814dc",
        "colab": {
          "base_uri": "https://localhost:8080/"
        }
      },
      "execution_count": 2,
      "outputs": [
        {
          "output_type": "stream",
          "name": "stdout",
          "text": [
            "--2024-04-26 00:46:27--  https://docs.google.com/uc?export=download&id=1F0QBtbiGJ41MLtfZL1JkbHWE8u4TetA0\n",
            "Resolving docs.google.com (docs.google.com)... 142.251.180.139, 142.251.180.102, 142.251.180.101, ...\n",
            "Connecting to docs.google.com (docs.google.com)|142.251.180.139|:443... connected.\n",
            "HTTP request sent, awaiting response... 303 See Other\n",
            "Location: https://drive.usercontent.google.com/download?id=1F0QBtbiGJ41MLtfZL1JkbHWE8u4TetA0&export=download [following]\n",
            "--2024-04-26 00:46:27--  https://drive.usercontent.google.com/download?id=1F0QBtbiGJ41MLtfZL1JkbHWE8u4TetA0&export=download\n",
            "Resolving drive.usercontent.google.com (drive.usercontent.google.com)... 209.85.145.132, 2607:f8b0:4001:c1e::84\n",
            "Connecting to drive.usercontent.google.com (drive.usercontent.google.com)|209.85.145.132|:443... connected.\n",
            "HTTP request sent, awaiting response... 200 OK\n",
            "Length: 2111 (2.1K) [application/octet-stream]\n",
            "Saving to: ‘glycolysis_reactions.json’\n",
            "\n",
            "glycolysis_reaction 100%[===================>]   2.06K  --.-KB/s    in 0s      \n",
            "\n",
            "2024-04-26 00:46:27 (25.1 MB/s) - ‘glycolysis_reactions.json’ saved [2111/2111]\n",
            "\n",
            "--2024-04-26 00:46:27--  https://docs.google.com/uc?export=download&id=1oAzBVsOx5WjrwONrP1RHDka0YMNameqF\n",
            "Resolving docs.google.com (docs.google.com)... 142.251.180.139, 142.251.180.102, 142.251.180.101, ...\n",
            "Connecting to docs.google.com (docs.google.com)|142.251.180.139|:443... connected.\n",
            "HTTP request sent, awaiting response... 303 See Other\n",
            "Location: https://drive.usercontent.google.com/download?id=1oAzBVsOx5WjrwONrP1RHDka0YMNameqF&export=download [following]\n",
            "--2024-04-26 00:46:27--  https://drive.usercontent.google.com/download?id=1oAzBVsOx5WjrwONrP1RHDka0YMNameqF&export=download\n",
            "Resolving drive.usercontent.google.com (drive.usercontent.google.com)... 209.85.145.132, 2607:f8b0:4001:c1e::84\n",
            "Connecting to drive.usercontent.google.com (drive.usercontent.google.com)|209.85.145.132|:443... connected.\n",
            "HTTP request sent, awaiting response... 200 OK\n",
            "Length: 5319 (5.2K) [application/octet-stream]\n",
            "Saving to: ‘unique_chemicals_glycolysis.json’\n",
            "\n",
            "unique_chemicals_gl 100%[===================>]   5.19K  --.-KB/s    in 0s      \n",
            "\n",
            "2024-04-26 00:46:28 (47.8 MB/s) - ‘unique_chemicals_glycolysis.json’ saved [5319/5319]\n",
            "\n"
          ]
        }
      ]
    },
    {
      "cell_type": "markdown",
      "source": [
        "# Chemical/Reaction Class Construction and JSON Parser"
      ],
      "metadata": {
        "id": "LrhySUS79zGQ"
      }
    },
    {
      "cell_type": "code",
      "source": [
        "@dataclass(frozen=True)\n",
        "class Chemical:\n",
        "    UNIQUE_ID: str = \"\"\n",
        "    COMMON_NAME: str = \"\"\n",
        "    SMILES: str = \"\"\n",
        "    INCHI: str = \"\"\n",
        "\n",
        "@dataclass(frozen=True)\n",
        "class Reaction:\n",
        "    UNIQUE_ID: str\n",
        "    SUBSTRATES: Tuple[Chemical, ...]  # Assuming Chemical objects are hashable\n",
        "    PRODUCTS: Tuple[Chemical, ...]\n"
      ],
      "metadata": {
        "id": "MmB94wtMYdGW"
      },
      "execution_count": 3,
      "outputs": []
    },
    {
      "cell_type": "code",
      "source": [
        "# Loading and parsing the chemical data\n",
        "with open('unique_chemicals_glycolysis.json', 'r') as file:\n",
        "    chemicals_data = json.load(file)\n",
        "\n",
        "chemicals_dict = {chem['Chemical ID']: Chemical(\n",
        "    UNIQUE_ID=chem['Chemical ID'],\n",
        "    COMMON_NAME=chem['Common Name'],\n",
        "    SMILES=chem['SMILES'],\n",
        "    INCHI=chem['InChI']) for chem in chemicals_data}\n",
        "\n",
        "# Loading and parsing the reaction data\n",
        "with open('glycolysis_reactions.json', 'r') as file:\n",
        "    reactions_data = json.load(file)\n",
        "\n",
        "reactions_list = []\n",
        "for reaction in reactions_data:\n",
        "    substrates = tuple(chemicals_dict[sub] for sub in reaction['Substrates'])\n",
        "    products = tuple(chemicals_dict[prod] for prod in reaction['Products'])\n",
        "    reaction_obj = Reaction(\n",
        "        UNIQUE_ID=reaction['Reaction ID'],\n",
        "        SUBSTRATES=substrates,\n",
        "        PRODUCTS=products)\n",
        "    reactions_list.append(reaction_obj)\n",
        "\n",
        "# Now reaction_list contains Reaction objects and chemicals_dict contains Chemical objects\n"
      ],
      "metadata": {
        "id": "TrPopqJyaQlV"
      },
      "execution_count": 4,
      "outputs": []
    },
    {
      "cell_type": "code",
      "source": [
        "print(len(reactions_list))\n",
        "print(len(chemicals_dict))"
      ],
      "metadata": {
        "id": "jF--TfYRaUzS",
        "colab": {
          "base_uri": "https://localhost:8080/"
        },
        "outputId": "e46c6410-0c46-480f-b467-2363756617e1"
      },
      "execution_count": 5,
      "outputs": [
        {
          "output_type": "stream",
          "name": "stdout",
          "text": [
            "10\n",
            "18\n"
          ]
        }
      ]
    },
    {
      "cell_type": "markdown",
      "source": [
        "#Populating Native Chemicals"
      ],
      "metadata": {
        "id": "y46F2mnH94Xb"
      }
    },
    {
      "cell_type": "code",
      "source": [
        "native_ids = [\"Glucopyranose\", \"ATP\", \"NAD\", \"Pi\"]\n",
        "native_chemicals = []\n",
        "\n",
        "for chem_id in native_ids:\n",
        "    if chem_id in chemicals_dict:\n",
        "        native_chemicals.append(chemicals_dict[chem_id])\n",
        "\n",
        "# Now, native_chemicals contains the Chemical objects for the specified native_ids\n"
      ],
      "metadata": {
        "id": "izTsE9JubtID"
      },
      "execution_count": 6,
      "outputs": []
    },
    {
      "cell_type": "code",
      "source": [
        "print(native_chemicals)"
      ],
      "metadata": {
        "id": "pKCEf8RhbuOK",
        "colab": {
          "base_uri": "https://localhost:8080/"
        },
        "outputId": "9ceb3131-5150-4f02-aeb7-b984a678f9d8"
      },
      "execution_count": 7,
      "outputs": [
        {
          "output_type": "stream",
          "name": "stdout",
          "text": [
            "[Chemical(UNIQUE_ID='Glucopyranose', COMMON_NAME='D-glucopyranose', SMILES='C([C@@H]1([C@H]([C@@H]([C@H](C(O1)O)O)O)O))O', INCHI='InChI=1S/C6H14O6/c7-1-3(9)5(11)6(12)4(10)2-8/h3-12H,1-2H2/t3-,5-,6-/m1/s1'), Chemical(UNIQUE_ID='ATP', COMMON_NAME='ATP', SMILES='C(OP(=O)([O-])OP(=O)([O-])OP(=O)([O-])[O-])[C@H]3(O[C@@H](N1(C2(\\\\C(\\\\N=C/1)=C(N)/N=C\\\\N=2)))[C@H](O)[C@H](O)3)', INCHI='InChI=1S/C10H16N5O13P3/c11-8-5-9(13-2-12-8)15(3-14-5)10-7(17)6(16)4(26-10)1-25-30(21,22)28-31(23,24)27-29(18,19)20/h2-4,6-7,10,16-17H,1H2,(H,21,22)(H,23,24)(H2,11,12,13)(H2,18,19,20)/t4-,6-,7-,10-/m1/s1'), Chemical(UNIQUE_ID='NAD', COMMON_NAME='NAD<sup>+</sup>', SMILES='C5(/C(/C(N)=O)=C\\\\C=C/[N+](/[C@@H]4(O[C@H](COP(OP(OC[C@H]3(O[C@@H](N1(C2(\\\\C(\\\\N=C/1)=C(N)/N=C\\\\N=2)))[C@H](O)[C@H](O)3))(=O)[O-])(=O)[O-])[C@@H](O)[C@@H](O)4))=5)', INCHI='InChI=1S/C21H28N7O14P2/c22-17-12-19(25-7-24-17)28(8-26-12)21-16(32)14(30)11(41-21)6-39-44(36,37)42-43(34,35)38-5-10-13(29)15(31)20(40-10)27-3-1-2-9(4-27)18(23)33/h1-4,7-8,10-11,13-16,20-21,29-33H,5-6,23H2,(H3-,22,24,25,34,35,36,37)/t10-,11-,13-,14-,15-,16-,20-,21-/m1/s1'), Chemical(UNIQUE_ID='Pi', COMMON_NAME='phosphate', SMILES='[O-]P(=O)(O)[O-]', INCHI='InChI=1S/H3O4P/c1-5(2,3)4/h(H3,1,2,3,4)')]\n"
          ]
        }
      ]
    },
    {
      "cell_type": "markdown",
      "source": [
        "# Writing RO List"
      ],
      "metadata": {
        "id": "JIkw5R1h3LVr"
      }
    },
    {
      "cell_type": "code",
      "source": [
        "RO_list = [\"[O:1][C:2][C:3][C:4][C:5][C:6][C:7][O:8][H]>>[O:1][C:2][C:3][C:4][C:5][C:6][C:7][O:8][C]([H])([H])([H])\"]"
      ],
      "metadata": {
        "id": "WRrBdzHVkh_s"
      },
      "execution_count": 8,
      "outputs": []
    },
    {
      "cell_type": "code",
      "source": [
        "print(len(RO_list))"
      ],
      "metadata": {
        "id": "njLYfK55kjDR",
        "colab": {
          "base_uri": "https://localhost:8080/"
        },
        "outputId": "1618222e-ae6e-4003-c406-8bf5cbd41c5e"
      },
      "execution_count": 9,
      "outputs": [
        {
          "output_type": "stream",
          "name": "stdout",
          "text": [
            "1\n"
          ]
        }
      ]
    },
    {
      "cell_type": "markdown",
      "source": [
        "# Original Object Matching Synthesis"
      ],
      "metadata": {
        "id": "SYghkO0h-H0q"
      }
    },
    {
      "cell_type": "code",
      "source": [
        "# HyperGraph class to store relationships and states of chemicals and reactions\n",
        "class HyperGraph:\n",
        "    def __init__(self):\n",
        "        self.reaction_to_shell = {}  # Dictionary mapping each reaction to its respective shell (depth level in the synthesis)\n",
        "        self.chemical_to_shell = {}  # Dictionary mapping each chemical to its respective shell\n",
        "        self.chemical_to_cascade = {}  # Additional data structure, if needed\n",
        "        self.chemical_to_pathway = {}  # Additional data structure, if needed\n",
        "\n",
        "# Synthesizer class handling the synthesis algorithm\n",
        "class Synthesizer:\n",
        "    def __init__(self):\n",
        "        self.curr_shell = 0\n",
        "        self.all_reactions = []  # This will be populated with Reaction objects\n",
        "        self.all_chemicals = {}  # Dictionary: Key = standardized InChI, Value = Chemical object\n",
        "        self.chemical_to_shell = {}  # Now tracking Chemical objects directly\n",
        "        self.reaction_to_shell = {}\n",
        "\n",
        "    # Main method to run the synthesis process\n",
        "    def run(self, reactions_list, chemicals_dict, native_chemicals):\n",
        "        self.curr_shell = 0\n",
        "        self.all_reactions = reactions_list\n",
        "        self.all_chemicals = chemicals_dict\n",
        "\n",
        "        #log native chemicals into shell 0\n",
        "        for native_chem in native_chemicals:\n",
        "          self.chemical_to_shell[native_chem] = 0\n",
        "\n",
        "        # Expand the synthesis process shell by shell\n",
        "        while self._expand_once():\n",
        "            print(self.curr_shell)\n",
        "\n",
        "        # Compile results in a HyperGraph object\n",
        "        output = HyperGraph()\n",
        "        output.chemical_to_shell = self.chemical_to_shell\n",
        "        output.reaction_to_shell = self.reaction_to_shell\n",
        "        return output\n",
        "\n",
        "    def _expand_once(self):\n",
        "        self.curr_shell += 1\n",
        "        is_expanded = False\n",
        "\n",
        "        # Temporary storage for reactions enabled in this iteration\n",
        "        enabled_reactions = []\n",
        "\n",
        "        # Iterate through all reactions\n",
        "        for reaction in self.all_reactions:\n",
        "            # Skip if the reaction has already been put in the expansion\n",
        "            if reaction in self.reaction_to_shell:\n",
        "                continue\n",
        "\n",
        "            # Check if all substrates are available in previous shells\n",
        "            substrates_available = all(\n",
        "                self.chemical_to_shell.get(substrate) is not None and\n",
        "                self.chemical_to_shell[substrate] < self.curr_shell  # Ensure substrates were available before current shell\n",
        "                for substrate in reaction.SUBSTRATES\n",
        "            )\n",
        "\n",
        "            if substrates_available:\n",
        "                is_expanded = True\n",
        "                # Temporarily store the reaction as enabled\n",
        "                enabled_reactions.append(reaction)\n",
        "\n",
        "        # After checking all reactions, update the shells for enabled reactions and their products\n",
        "        for reaction in enabled_reactions:\n",
        "            self.reaction_to_shell[reaction] = self.curr_shell\n",
        "            for product in reaction.PRODUCTS:\n",
        "                if product not in self.chemical_to_shell:\n",
        "                    self.chemical_to_shell[product] = self.curr_shell\n",
        "\n",
        "        return is_expanded\n",
        "\n",
        "# Usage example\n",
        "synthesizer = Synthesizer()\n",
        "hypergraph = synthesizer.run(reactions_list, chemicals_dict, native_chemicals)\n",
        "\n",
        "#print(hypergraph.chemical_to_shell)\n",
        "#print(hypergraph.reaction_to_shell)\n",
        "\n",
        "size = len(hypergraph.chemical_to_shell)\n",
        "print(f\"Total Size of Chemical to Shell: {size}\")\n",
        "rxn_size = len(hypergraph.reaction_to_shell)\n",
        "print(f\"Total Size of Reaction to Shell: {rxn_size}\")"
      ],
      "metadata": {
        "id": "X8zNuQtFaq-2",
        "colab": {
          "base_uri": "https://localhost:8080/"
        },
        "outputId": "a2d0b50e-aa6f-42d3-80bb-42a55d49a2dd"
      },
      "execution_count": 10,
      "outputs": [
        {
          "output_type": "stream",
          "name": "stdout",
          "text": [
            "1\n",
            "2\n",
            "3\n",
            "4\n",
            "5\n",
            "6\n",
            "7\n",
            "8\n",
            "9\n",
            "Total Size of Chemical to Shell: 18\n",
            "Total Size of Reaction to Shell: 10\n"
          ]
        }
      ]
    },
    {
      "cell_type": "markdown",
      "source": [
        "# New RO + Object Matching Synthesis"
      ],
      "metadata": {
        "id": "pf6fq_uV-P8L"
      }
    },
    {
      "cell_type": "code",
      "source": [
        "# HyperGraph class to store relationships and states of chemicals and reactions\n",
        "class HyperGraph:\n",
        "    def __init__(self):\n",
        "        self.reaction_to_shell = {}  # Dictionary mapping each reaction to its respective shell (depth level in the synthesis)\n",
        "        self.chemical_to_shell = {}  # Dictionary mapping each chemical to its respective shell\n",
        "        self.chemical_to_cascade = {}  # Additional data structure, if needed\n",
        "        self.chemical_to_pathway = {}  # Additional data structure, if needed\n",
        "\n",
        "# Synthesizer class handling the synthesis algorithm\n",
        "class Synthesizer:\n",
        "    def __init__(self):\n",
        "        self.curr_shell = 0\n",
        "        self.all_reactions = []  # This will be populated with Reaction objects\n",
        "        self.all_chemicals = {}  # Dictionary: Key = standardized InChI, Value = Chemical object\n",
        "        self.chemical_to_shell = {}  # Now tracking Chemical objects directly\n",
        "        self.reaction_to_shell = {}\n",
        "\n",
        "    # Main method to run the synthesis process\n",
        "    def run(self, reactions_list, chemicals_dict, native_chemicals):\n",
        "        self.curr_shell = 0\n",
        "        self.all_reactions = reactions_list\n",
        "        self.all_chemicals = chemicals_dict\n",
        "\n",
        "        #log native chemicals into shell 0\n",
        "        for native_chem in native_chemicals:\n",
        "          self.chemical_to_shell[native_chem] = 0\n",
        "\n",
        "        # Expand the synthesis process shell by shell\n",
        "        while self._expand_once():\n",
        "            print(self.curr_shell)\n",
        "\n",
        "        # Compile results in a HyperGraph object\n",
        "        output = HyperGraph()\n",
        "        output.chemical_to_shell = self.chemical_to_shell\n",
        "        output.reaction_to_shell = self.reaction_to_shell\n",
        "        return output\n",
        "\n",
        "    def _expand_once(self):\n",
        "        self.curr_shell += 1\n",
        "        is_expanded = False\n",
        "        compound_counter = 1  # To name new compounds uniquely\n",
        "\n",
        "        # Temporary storage for reactions enabled in this iteration\n",
        "        enabled_reactions = []\n",
        "\n",
        "        # Iterate through all reactions\n",
        "        for reaction in self.all_reactions:\n",
        "            if reaction in self.reaction_to_shell:\n",
        "                continue\n",
        "\n",
        "            substrates_available = all(self.chemical_to_shell.get(substrate) is not None and\n",
        "                                      self.chemical_to_shell[substrate] < self.curr_shell\n",
        "                                      for substrate in reaction.SUBSTRATES)\n",
        "\n",
        "            if substrates_available:\n",
        "                is_expanded = True\n",
        "                enabled_reactions.append(reaction)\n",
        "\n",
        "        # Update the shells for enabled reactions and their products\n",
        "        for reaction in enabled_reactions:\n",
        "            self.reaction_to_shell[reaction] = self.curr_shell\n",
        "            for product in reaction.PRODUCTS:\n",
        "                if product not in self.chemical_to_shell:\n",
        "                    self.chemical_to_shell[product] = self.curr_shell\n",
        "\n",
        "        # Copy all_chemicals values for safe iteration\n",
        "        chemical_values = list(self.all_chemicals.values())\n",
        "\n",
        "        # Apply reaction operators\n",
        "        for substrate in chemical_values:\n",
        "            if self.chemical_to_shell.get(substrate) == self.curr_shell - 1:  # Work only on substrates from the previous shell\n",
        "                mol = Chem.MolFromInchi(substrate.INCHI)\n",
        "                mol = Chem.AddHs(mol)\n",
        "\n",
        "                for ro in RO_list:\n",
        "                    reaction_operator = rdChemReactions.ReactionFromSmarts(ro)\n",
        "                    products = reaction_operator.RunReactants([mol])\n",
        "\n",
        "                    if products:\n",
        "                        is_expanded = True\n",
        "                        for product_set in products:\n",
        "                            for chem in product_set:\n",
        "                                smiles = Chem.MolToSmiles(chem)\n",
        "                                inchi = Chem.MolToInchi(chem)\n",
        "                                new_chemical = Chemical(f\"compound_{compound_counter}\", \"\", smiles, inchi)\n",
        "                                self.all_chemicals[new_chemical.UNIQUE_ID] = new_chemical\n",
        "                                self.chemical_to_shell[new_chemical] = self.curr_shell\n",
        "                                compound_counter += 1\n",
        "\n",
        "        return is_expanded\n",
        "\n",
        "\n",
        "# Usage example\n",
        "synthesizer = Synthesizer()\n",
        "hypergraph = synthesizer.run(reactions_list, chemicals_dict, native_chemicals)\n",
        "\n",
        "#print(hypergraph.chemical_to_shell)\n",
        "#print(hypergraph.reaction_to_shell)\n",
        "\n",
        "size = len(hypergraph.chemical_to_shell)\n",
        "print(f\"Total Size of Chemical to Shell: {size}\")\n",
        "rxn_size = len(hypergraph.reaction_to_shell)\n",
        "print(f\"Total Size of Reaction to Shell: {rxn_size}\")"
      ],
      "metadata": {
        "id": "8laokUEHktW4",
        "colab": {
          "base_uri": "https://localhost:8080/"
        },
        "outputId": "7e69ef12-33da-4b2c-ca7d-6fb4a12fa0e1"
      },
      "execution_count": 18,
      "outputs": [
        {
          "output_type": "stream",
          "name": "stdout",
          "text": [
            "1\n",
            "2\n",
            "3\n",
            "4\n",
            "5\n",
            "6\n",
            "7\n",
            "8\n",
            "9\n",
            "Total Size of Chemical to Shell: 23\n",
            "Total Size of Reaction to Shell: 10\n"
          ]
        },
        {
          "output_type": "stream",
          "name": "stderr",
          "text": [
            "[00:47:01] WARNING:  Problems/mismatches: Mobile-H( Hydrogens: Locations or number; Mobile-H groups: Attachment points, Number)\n",
            "\n",
            "[00:47:01] WARNING:  Problems/mismatches: Mobile-H( Stereo centers/allenes: Extra undefined)\n",
            "\n",
            "[00:47:01] WARNING: not removing hydrogen atom without neighbors\n"
          ]
        }
      ]
    },
    {
      "cell_type": "code",
      "source": [
        "# Iterating through the chemical_to_shell dictionary\n",
        "for chemical, shell in hypergraph.chemical_to_shell.items():\n",
        "    # Print the chemical's unique ID, its InChI, and the shell number\n",
        "    print(f\"#{shell}, ID: {chemical.UNIQUE_ID}, InChI: {chemical.INCHI}\")"
      ],
      "metadata": {
        "id": "40mHk67QoKrT",
        "colab": {
          "base_uri": "https://localhost:8080/"
        },
        "outputId": "dcec6e00-a018-4046-c8cf-542356280c4d"
      },
      "execution_count": 12,
      "outputs": [
        {
          "output_type": "stream",
          "name": "stdout",
          "text": [
            "#0, ID: Glucopyranose, InChI: InChI=1S/C6H14O6/c7-1-3(9)5(11)6(12)4(10)2-8/h3-12H,1-2H2/t3-,5-,6-/m1/s1\n",
            "#0, ID: ATP, InChI: InChI=1S/C10H16N5O13P3/c11-8-5-9(13-2-12-8)15(3-14-5)10-7(17)6(16)4(26-10)1-25-30(21,22)28-31(23,24)27-29(18,19)20/h2-4,6-7,10,16-17H,1H2,(H,21,22)(H,23,24)(H2,11,12,13)(H2,18,19,20)/t4-,6-,7-,10-/m1/s1\n",
            "#0, ID: NAD, InChI: InChI=1S/C21H28N7O14P2/c22-17-12-19(25-7-24-17)28(8-26-12)21-16(32)14(30)11(41-21)6-39-44(36,37)42-43(34,35)38-5-10-13(29)15(31)20(40-10)27-3-1-2-9(4-27)18(23)33/h1-4,7-8,10-11,13-16,20-21,29-33H,5-6,23H2,(H3-,22,24,25,34,35,36,37)/t10-,11-,13-,14-,15-,16-,20-,21-/m1/s1\n",
            "#0, ID: Pi, InChI: InChI=1S/H3O4P/c1-5(2,3)4/h(H3,1,2,3,4)\n",
            "#1, ID: GLC-6-P, InChI: InChI=1S/C6H13O9P/c7-1-3(8)5(10)6(11)4(9)2-15-16(12,13)14/h1,3-6,8-11H,2H2,(H2,12,13,14)/t3?,4-,5-,6-/m1/s1\n",
            "#1, ID: ADP, InChI: InChI=1S/C10H15N5O10P2/c11-8-5-9(13-2-12-8)15(3-14-5)10-7(17)6(16)4(24-10)1-23-27(21,22)25-26(18,19)20/h2-4,6-7,10,16-17H,1H2,(H,21,22)(H2,11,12,13)(H2,18,19,20)/t4-,6-,7-,10-/m1/s1\n",
            "#1, ID: PROTON, InChI: InChI=1S/p+1\n",
            "#1, ID: compound_1, InChI: InChI=1S/C7H16O6/c1-13-3-5(10)7(12)6(11)4(9)2-8/h4-12H,2-3H2,1H3/t4-,5?,6-,7-/m1/s1\n",
            "#1, ID: compound_2, InChI: InChI=1S/C7H16O6/c1-13-3-5(10)7(12)6(11)4(9)2-8/h4-12H,2-3H2,1H3/t4?,5-,6-,7-/m1/s1\n",
            "#2, ID: FRUCTOSE-6P, InChI: InChI=1S/C6H13O9P/c7-1-3(8)5(10)6(11)4(9)2-15-16(12,13)14/h4-7,9-11H,1-2H2,(H2,12,13,14)/t4-,5?,6-/m1/s1\n",
            "#2, ID: compound_1, InChI: InChI=1S/C8H18O6/c1-13-3-5(9)7(11)8(12)6(10)4-14-2/h5-12H,3-4H2,1-2H3/t5-,6?,7-,8-/m1/s1\n",
            "#2, ID: compound_2, InChI: InChI=1S/C8H18O6/c1-13-3-5(9)7(11)8(12)6(10)4-14-2/h5-12H,3-4H2,1-2H3/t5-,6?,7-,8-/m1/s1\n",
            "#3, ID: FRUCTOSE-16-DIPHOSPHATE, InChI: InChI=1S/C6H14O12P2/c7-3(1-17-19(11,12)13)5(9)6(10)4(8)2-18-20(14,15)16/h3,5-7,9-10H,1-2H2,(H2,11,12,13)(H2,14,15,16)/t3-,5-,6?/m1/s1\n",
            "#3, ID: compound_1, InChI: InChI=1S/C7H15O9P/c1-15-2-4(8)6(10)7(11)5(9)3-16-17(12,13)14/h5-7,9-11H,2-3H2,1H3,(H2,12,13,14)/t5-,6?,7-/m1/s1\n",
            "#4, ID: DIHYDROXY-ACETONE-PHOSPHATE, InChI: InChI=1S/C3H7O6P/c4-1-3(5)2-9-10(6,7)8/h4H,1-2H2,(H2,6,7,8)\n",
            "#4, ID: GAP, InChI: InChI=1S/C3H7O6P/c4-1-3(5)2-9-10(6,7)8/h1,3,5H,2H2,(H2,6,7,8)\n",
            "#5, ID: DPG, InChI: InChI=1S/C3H8O10P2/c4-2(1-12-14(6,7)8)3(5)13-15(9,10)11/h2,4H,1H2,(H2,6,7,8)(H2,9,10,11)\n",
            "#5, ID: NADH, InChI: InChI=1S/C21H30N7O14P2/c22-17-12-19(25-7-24-17)28(8-26-12)21-16(32)14(30)11(41-21)6-39-44(36,37)42-43(34,35)38-5-10-13(29)15(31)20(40-10)27-3-1-2-9(4-27)18(23)33/h1,3-4,7-8,10-11,13-16,20-21,29-33H,2,5-6,23H2,(H,34,35)(H,36,37)(H2,22,24,25)/t10-,11-,13-,14-,15-,16-,20-,21-/m1/s1\n",
            "#6, ID: G3P, InChI: InChI=1S/C3H7O7P/c4-2(3(5)6)1-10-11(7,8)9/h2,4H,1H2,(H,5,6)(H2,7,8,9)\n",
            "#7, ID: 2-PG, InChI: InChI=1S/C3H7O7P/c4-1-2(3(5)6)10-11(7,8)9/h2,4H,1H2,(H,5,6)(H2,7,8,9)\n",
            "#8, ID: PHOSPHO-ENOL-PYRUVATE, InChI: InChI=1S/C3H5O6P/c1-2(3(4)5)9-10(6,7)8/h1H2,(H,4,5)(H2,6,7,8)\n",
            "#8, ID: WATER, InChI: InChI=1S/H2O/h1H2\n",
            "#9, ID: PYRUVATE, InChI: InChI=1S/C3H5O3/c1-2(4)3(5)6/h5-6H,1H3\n"
          ]
        }
      ]
    }
  ]
}