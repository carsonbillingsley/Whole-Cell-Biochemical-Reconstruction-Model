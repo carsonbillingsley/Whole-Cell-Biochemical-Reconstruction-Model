{
  "cells": [
    {
      "cell_type": "code",
      "execution_count": null,
      "metadata": {
        "colab": {
          "base_uri": "https://localhost:8080/"
        },
        "id": "W9a0khz92yy6",
        "outputId": "c9f1c671-2fd2-4a98-ff41-97a44f61e056"
      },
      "outputs": [],
      "source": [
        "!pip install rdkit\n",
        "\n",
        "from rdkit import Chem\n",
        "from rdkit.Chem import Draw\n",
        "\n",
        "from IPython.display import display\n",
        "from IPython.display import Image"
      ]
    },
    {
      "cell_type": "code",
      "execution_count": 3,
      "metadata": {
        "colab": {
          "base_uri": "https://localhost:8080/"
        },
        "id": "nietr43wCL4s",
        "outputId": "9d41b703-1363-4820-ea14-81813be9d194"
      },
      "outputs": [
        {
          "name": "stdout",
          "output_type": "stream",
          "text": [
            "Invalid SMILES, InChI, or SMARTS string.\n"
          ]
        },
        {
          "name": "stderr",
          "output_type": "stream",
          "text": [
            "[04:07:16] SMILES Parse Error: syntax error while parsing: PUT\n",
            "[04:07:16] SMILES Parse Error: Failed parsing SMILES 'PUT' for input: 'PUT'\n",
            "[04:07:16] SMARTS Parse Error: syntax error while parsing: PUT\n",
            "[04:07:16] SMARTS Parse Error: Failed parsing SMARTS 'PUT' for input: 'PUT'\n"
          ]
        }
      ],
      "source": [
        "def visualize_molecule(input_string):\n",
        "    # Initialize the molecule to None\n",
        "    molecule = None\n",
        "\n",
        "    # Determine if the input is InChI, SMILES, or SMARTS\n",
        "    if input_string.startswith(\"InChI=\"):\n",
        "        molecule = Chem.MolFromInchi(input_string)\n",
        "    else:\n",
        "        molecule = Chem.MolFromSmiles(input_string)\n",
        "        # If SMILES parsing fails, try interpreting as SMARTS\n",
        "        if molecule is None:\n",
        "            molecule = Chem.MolFromSmarts(input_string)\n",
        "\n",
        "    # Check if the molecule was successfully created\n",
        "    if molecule is None:\n",
        "        print(\"Invalid SMILES, InChI, or SMARTS string.\")\n",
        "    else:\n",
        "        # Generate a 2D depiction\n",
        "        Draw.MolToFile(molecule, 'molecule_image.png', size=(500, 500))\n",
        "        print(\"Molecule image saved to 'molecule_image.png'.\")\n",
        "\n",
        "# You can paste either an InChI or SMILES string here\n",
        "#input_string = \"C(C([O-])=O)([R])[NH3+]\"\n",
        "input_string = \"PUT STRING HERE\"\n",
        "visualize_molecule(input_string)"
      ]
    },
    {
      "cell_type": "code",
      "execution_count": 6,
      "metadata": {
        "colab": {
          "base_uri": "https://localhost:8080/"
        },
        "id": "wU4eKvx-CVtL",
        "outputId": "731e2939-822d-446b-e271-cc3ef8974300"
      },
      "outputs": [
        {
          "name": "stdout",
          "output_type": "stream",
          "text": [
            "File not found\n"
          ]
        }
      ],
      "source": [
        "try:\n",
        "    display(Image(filename=\"molecule_image.png\"))\n",
        "except FileNotFoundError:\n",
        "    print(\"File not found\")"
      ]
    }
  ],
  "metadata": {
    "colab": {
      "provenance": []
    },
    "kernelspec": {
      "display_name": "Python 3",
      "name": "python3"
    },
    "language_info": {
      "name": "python"
    }
  },
  "nbformat": 4,
  "nbformat_minor": 0
}
