{
  "cells": [
    {
      "cell_type": "markdown",
      "source": [
        "# EcoCyc E. coli Biochemical Synthesis"
      ],
      "metadata": {
        "id": "f7uh9u6sMnV1"
      }
    },
    {
      "cell_type": "markdown",
      "source": [
        "The following is the synthesis script for the **WHOLE-CELL BIOCHEMICAL RECONSTRUCTION MODEL** project that was conducted by Carson Billingsley from Fall 2023 - Spring 2024. This was part of the M.Eng Bioengineering Capstone #98, with the overarching title: \"Software Development for Synthetic Biology\".\n",
        "\n",
        "**Project Objective:** The overarching goal of this project was to program a whole-cell biochemical pathway simulation library that can model and analyze the metabolism of commonly used model organisms in synthetic biology. I used Python to build this biochemical network reconstruction and analysis tool, and Escherichia coli was selected as the proof-of-concept model organism. The software module was built based on a flat file data release of EcoCyc, a comprehensive database made by BioCyc that comprises the known metabolic pathways, enzymes, metabolites, and reactions of E. coli. My program employs an in-house synthesis algorithm that was originally written at UC Berkeley that systematically builds the metabolic pathways based on a set of predetermined native metabolites. This whole-cell reconstruction model has a variety of applications, such as 1) being a critical piece to make future SAR-RO enzyme models more biochemically accurate and effective at determining biosynthetically reachable chemicals in an organism or 2) as the foundation for a transformation validator software that predicts the biological processes initiated upon the entry of DNA into the cell.\n",
        "\n",
        "Please email Carson with any specific questions: billingsley.carson@gmail.com"
      ],
      "metadata": {
        "id": "v0eb-fLwMzKl"
      }
    },
    {
      "cell_type": "markdown",
      "metadata": {
        "id": "oawW9OQ75EQN"
      },
      "source": [
        "# Installing Dependancies"
      ]
    },
    {
      "cell_type": "code",
      "execution_count": 1,
      "metadata": {
        "id": "dwb8WVzv5Su1"
      },
      "outputs": [],
      "source": [
        "# Install and import libraries\n",
        "%%capture\n",
        "!pip install rdkit\n",
        "from rdkit import Chem\n",
        "from rdkit.Chem import Draw\n",
        "from rdkit.Chem.Draw import IPythonConsole\n",
        "from rdkit.Chem.Draw import rdMolDraw2D\n",
        "from rdkit.Chem import rdChemReactions\n",
        "from rdkit.Chem import Descriptors\n",
        "from rdkit.Chem import AllChem\n",
        "from rdkit import DataStructs\n",
        "from rdkit.Chem import MolStandardize, inchi\n",
        "from rdkit.Chem.MolStandardize import rdMolStandardize, tautomer\n",
        "from rdkit import RDLogger\n",
        "\n",
        "from concurrent.futures import ThreadPoolExecutor, TimeoutError\n",
        "\n",
        "import numpy as np\n",
        "\n",
        "from dataclasses import dataclass\n",
        "from typing import List\n",
        "from typing import Tuple\n",
        "\n",
        "from IPython.display import display\n",
        "from IPython.display import Image"
      ]
    },
    {
      "cell_type": "markdown",
      "metadata": {
        "id": "rjkYU-866NCO"
      },
      "source": [
        "# Downloading and Reading Drive Files with GDown"
      ]
    },
    {
      "cell_type": "markdown",
      "metadata": {
        "id": "_xFvPa9OIFut"
      },
      "source": [
        "Using GDown to upload and read the two flat files sourced from BioCyc (**compounds.dat** and r**eactions.dat**) These two documents came from the EcoCyc flat file release that came to Dr. Anderson in an email on Oct. 10, 2023.\n",
        "\n",
        "The custom lists of minimal metabolites and universal metabolites, to occupy Shell 0, are also uploaded using this method."
      ]
    },
    {
      "cell_type": "code",
      "execution_count": 2,
      "metadata": {
        "id": "83tKjEyx5ITU"
      },
      "outputs": [],
      "source": [
        "# !pip install -q gdown --upgrade\n",
        "\n",
        "# import gdown\n",
        "\n",
        "# def download_file(file_id, output_filename):\n",
        "#     \"\"\"\n",
        "#     Download a file from Google Drive using its ID.\n",
        "\n",
        "#     :param file_id: str, Google Drive file ID.\n",
        "#     :param output_filename: str, Name to save the downloaded file.\n",
        "#     \"\"\"\n",
        "#     # Construct the download URL\n",
        "#     url = f'https://drive.google.com/uc?id={file_id}'\n",
        "\n",
        "#     # Download the file\n",
        "#     gdown.download(url, output_filename, quiet=False)\n",
        "\n",
        "# def preview_file(output_filename, num_lines=5):\n",
        "#     \"\"\"\n",
        "#     Print the first n lines of a file.\n",
        "\n",
        "#     :param output_filename: str, Name of the file to preview.\n",
        "#     :param num_lines: int, Number of lines to preview. Default is 5.\n",
        "#     \"\"\"\n",
        "#     try:\n",
        "#         with open(output_filename, 'r') as file:\n",
        "#             print(f\"Previewing first {num_lines} lines of {output_filename}:\")\n",
        "#             for _ in range(num_lines):\n",
        "#                 print(next(file).strip())\n",
        "#             print(\"\\n\")\n",
        "#     except Exception as e:\n",
        "#         print(f\"An error occurred while previewing the file: {str(e)}\")\n",
        "#     except StopIteration:\n",
        "#         print(f\"{output_filename} may have less than {num_lines} lines to preview.\\n\")\n",
        "\n",
        "# # File IDs and names\n",
        "# files_info = {\n",
        "#     \"compounds.dat\": '1mB-xIewC1UY3mLzVi0ovRV6bQPS7RzYg',\n",
        "#     \"reactions.dat\": '1SjVODv98B3KJxV0hFrNAPN0B-3nTfr1b',\n",
        "#     \"minimal_metabolites_02-24.txt\": '1PQazv8Q0cjn_ug76mIICyxNy7BxNJwds',\n",
        "#     \"universal_metabolites_03-24.txt\": '1jlLnO7oAmz4dqaynmPBegCSAPXemPB-R'\n",
        "# }\n",
        "\n",
        "# # Download and preview the files\n",
        "# for filename, file_id in files_info.items():\n",
        "#     download_file(file_id, filename)\n",
        "\n",
        "# # Preview only the chemicals file\n",
        "# preview_file(\"compounds.dat\")"
      ]
    },
    {
      "cell_type": "markdown",
      "source": [
        "Sometimes the GDown method is finnicky, so WGet is another perfectly acceptable option."
      ],
      "metadata": {
        "id": "yrrFVzj4Pkq9"
      }
    },
    {
      "cell_type": "code",
      "execution_count": null,
      "metadata": {
        "id": "tE5sOmgmT5E_"
      },
      "outputs": [],
      "source": [
        "!wget --no-check-certificate 'https://docs.google.com/uc?export=download&id=1mB-xIewC1UY3mLzVi0ovRV6bQPS7RzYg' -O compounds.dat\n",
        "!wget --no-check-certificate 'https://docs.google.com/uc?export=download&id=1SjVODv98B3KJxV0hFrNAPN0B-3nTfr1b' -O reactions.dat\n",
        "!wget --no-check-certificate 'https://docs.google.com/uc?export=download&id=1PQazv8Q0cjn_ug76mIICyxNy7BxNJwds' -O minimal_metabolites_02-24.txt\n",
        "!wget --no-check-certificate 'https://docs.google.com/uc?export=download&id=1jlLnO7oAmz4dqaynmPBegCSAPXemPB-R' -O universal_metabolites_03-24.txt"
      ]
    },
    {
      "cell_type": "markdown",
      "metadata": {
        "id": "P-SW6vkT7pG0"
      },
      "source": [
        "#Defining EcoCyc Chemical and EcoCyc Reaction Classes"
      ]
    },
    {
      "cell_type": "code",
      "execution_count": 4,
      "metadata": {
        "id": "yGT0Z5tG7nA-"
      },
      "outputs": [],
      "source": [
        "@dataclass(frozen=True)\n",
        "class EcoCyc_Chemical:\n",
        "    UNIQUE_ID: str = \"\"\n",
        "    COMMON_NAME: str = \"\"\n",
        "    SMILES: str = \"\"\n",
        "    INCHI: str = \"\"\n",
        "    NON_STANDARD_INCHI: str = \"\"\n",
        "\n",
        "# Note: Since dataclasses automatically generate __repr__, you don't need to define it unless you want a custom representation.\n",
        "\n",
        "\n",
        "@dataclass(frozen=True)\n",
        "class EcoCyc_Reaction:\n",
        "    UNIQUE_ID: str = \"\"\n",
        "    LEFT: List[str] = None\n",
        "    RIGHT: List[str] = None\n",
        "    EC_NUMBER: str = \"\"\n",
        "    REACTION_DIRECTION: str = \"\"\n",
        "\n",
        "    def __post_init__(self): #used to ensure that SUBSTRATES and PRODUCTS are initialized as empty lists if they are not provided during object creation (safer for list operations)\n",
        "        if self.LEFT is None:\n",
        "            self.LEFT = []\n",
        "        if self.RIGHT is None:\n",
        "            self.RIGHT = []\n"
      ]
    },
    {
      "cell_type": "markdown",
      "metadata": {
        "id": "Dp_CnmyjC41S"
      },
      "source": [
        "# Parsing the EcoCyc files into EcoCyc objects"
      ]
    },
    {
      "cell_type": "markdown",
      "source": [
        "###EcoCyc_Chemicals from Compounds.dat"
      ],
      "metadata": {
        "id": "8DN_LlKkqTtV"
      }
    },
    {
      "cell_type": "markdown",
      "metadata": {
        "id": "41sub4-hIFuu"
      },
      "source": [
        "Using a parser of **compounds.dat** to construct the EcoCyc_Chemical ontology. The EcoCyc_Chemical class and cooresponding objects is meant to be an exact replica of what is found in the raw data. These objects are stored in a dictionary called **ecocyc_chemicals_dict**\n",
        "\n"
      ]
    },
    {
      "cell_type": "code",
      "execution_count": 5,
      "metadata": {
        "colab": {
          "base_uri": "https://localhost:8080/"
        },
        "id": "phUg_ZLb9yKC",
        "outputId": "46bd5178-187e-48f2-ed4e-8fb3a3cfd4f6"
      },
      "outputs": [
        {
          "output_type": "stream",
          "name": "stdout",
          "text": [
            "EcoCyc_Chemical(UNIQUE_ID='Ureidocarboxylates', COMMON_NAME='an ureidocarboxylate', SMILES='', INCHI='', NON_STANDARD_INCHI='')\n",
            "EcoCyc_Chemical(UNIQUE_ID='Monogalactosyldiacylglycerols-38-3', COMMON_NAME='monogalactosyldiacylglycerol-38:3', SMILES='', INCHI='', NON_STANDARD_INCHI='')\n",
            "EcoCyc_Chemical(UNIQUE_ID='6-H-5-I-2-methylhexanoates', COMMON_NAME='a 6-hydroxy-5-isopropenyl-2-methylhexanoate', SMILES='C=C(C)C(CCC(C)C(=O)[O-])CO', INCHI='InChI=1S/C10H18O3/c1-7(2)9(6-11)5-4-8(3)10(12)13/h8-9,11H,1,4-6H2,2-3H3,(H,12,13)/p-1', NON_STANDARD_INCHI='InChI=1S/C10H18O3/c1-7(2)9(6-11)5-4-8(3)10(12)13/h8-9,11H,1,4-6H2,2-3H3,(H,12,13)')\n",
            "EcoCyc_Chemical(UNIQUE_ID='Monogalactosyldiacylglycerols-36-4', COMMON_NAME='monogalactosyldiacylglycerol-36:4', SMILES='', INCHI='', NON_STANDARD_INCHI='')\n",
            "EcoCyc_Chemical(UNIQUE_ID='Short-Chain-Carboxylates', COMMON_NAME='a short-chain carboxylate', SMILES='C([O-])(=O)[R]', INCHI='', NON_STANDARD_INCHI='InChI=1S/CH2O2/c2-1-3/h1H,(H,2,3)/p-1')\n"
          ]
        }
      ],
      "source": [
        "def parse_chemicals_to_dict(file_contents):\n",
        "    ecocyc_chemicals_dict = {}\n",
        "\n",
        "    ecocyc_chemical_data = {\n",
        "        'UNIQUE_ID': '',\n",
        "        'COMMON_NAME': '',\n",
        "        'SMILES': '',\n",
        "        'INCHI': '',\n",
        "        'NON_STANDARD_INCHI': '',\n",
        "    }\n",
        "\n",
        "    for line in file_contents:\n",
        "        if '- ' in line:\n",
        "            key, value = line.split('- ', 1)  # 1 is used as a max split to limit the number of splits\n",
        "            key = key.strip().replace('-', '_').upper()  # Converting to dataclass format\n",
        "            value = value.strip()\n",
        "\n",
        "            if key in ecocyc_chemical_data:\n",
        "                ecocyc_chemical_data[key] = value #Assigns values to the corresponding keys in the ecocyc_chemical_data dictionary\n",
        "        elif line.strip() == '//':  # End of chemical data entry in the flat file\n",
        "            chem_obj = EcoCyc_Chemical(**ecocyc_chemical_data) #Creates an instance of EcoCyc_Chemical using the data stored in ecocyc_chemical_data.\n",
        "            #The ** operator is used to unpack the dictionary into keyword arguments\n",
        "            ecocyc_chemicals_dict[ecocyc_chemical_data['UNIQUE_ID']] = chem_obj #The new EcoCyc_Chemical object is stored in ecocyc_chemicals_dict dictionary; UNIQUE_ID is the key.\n",
        "            ecocyc_chemical_data = {k: '' for k in ecocyc_chemical_data}  # Reset for the next entry\n",
        "\n",
        "    return ecocyc_chemicals_dict #In the dictionary: Key=UNIQUE_ID, Value= the entire EcoCyc_Chemical object\n",
        "\n",
        "# Code to read file and create dictionary\n",
        "with open(\"compounds.dat\", \"r\", encoding=\"ISO-8859-1\") as file:\n",
        "    file_contents = file.readlines()\n",
        "ecocyc_chemicals_dict = parse_chemicals_to_dict(file_contents)\n",
        "\n",
        "# Test by printing the first 5 chemicals\n",
        "for test_key in list(ecocyc_chemicals_dict.keys())[:5]: #Specifically creating list of the keys in ecocyc_chemicals_dict dictionary.\n",
        "    print(ecocyc_chemicals_dict[test_key])\n"
      ]
    },
    {
      "cell_type": "markdown",
      "source": [
        "###EcoCyc_Reactions from Reactions.dat"
      ],
      "metadata": {
        "id": "EGGAqSyEqd6C"
      }
    },
    {
      "cell_type": "markdown",
      "metadata": {
        "id": "YiuPDRhbIZ3Z"
      },
      "source": [
        "Using a parser of **reactions.dat** to construct the EcoCyc_Reaction ontology. The EcoCyc_Reaction class and cooresponding objects is meant to be an exact replica of what is found in the raw data. These objects are stored in a dictionary called **ecocyc_reactions_dict**\n",
        "\n",
        "\n"
      ]
    },
    {
      "cell_type": "code",
      "execution_count": 6,
      "metadata": {
        "colab": {
          "base_uri": "https://localhost:8080/"
        },
        "id": "xkhJ0A7nADoG",
        "outputId": "86f43053-9f6e-4cdb-8a68-5d65ab3c9913"
      },
      "outputs": [
        {
          "output_type": "stream",
          "name": "stdout",
          "text": [
            "EcoCyc_Reaction(UNIQUE_ID='RXN-21279', LEFT=['a-5-deoxyribose-5-phosphate-DNA'], RIGHT=['5-Phospho-terminated-DNAs', 'CPD-22978', 'PROTON'], EC_NUMBER='', REACTION_DIRECTION='PHYSIOL-LEFT-TO-RIGHT')\n",
            "EcoCyc_Reaction(UNIQUE_ID='RXN-19954', LEFT=['2Cys-Peroxiredoxins-With-HydroxyCys'], RIGHT=['Cys2-Peroxiredoxin-Disulfide', 'WATER'], EC_NUMBER='', REACTION_DIRECTION='PHYSIOL-LEFT-TO-RIGHT')\n",
            "EcoCyc_Reaction(UNIQUE_ID='RXN-17919', LEFT=['A-5-prime-PP-5-prime-DNA', '3-Hydroxy-Terminated-DNAs'], RIGHT=['DNA-N', 'AMP', 'PROTON'], EC_NUMBER='', REACTION_DIRECTION='PHYSIOL-LEFT-TO-RIGHT')\n",
            "EcoCyc_Reaction(UNIQUE_ID='RXN0-4701', LEFT=['mRNA-Holder', 'WATER'], RIGHT=['ssRNA-with-3phosphate', 'ssRNA-with-5OH'], EC_NUMBER='', REACTION_DIRECTION='LEFT-TO-RIGHT')\n",
            "EcoCyc_Reaction(UNIQUE_ID='RXN-20692', LEFT=['Cys2-Peroxiredoxin-Disulfide', 'Red-Prx-Disulfide-Reductases'], RIGHT=['Reduced-Cys2-Peroxiredoxins', 'Ox-Prx-Disulfide-Reductases'], EC_NUMBER='', REACTION_DIRECTION='PHYSIOL-LEFT-TO-RIGHT')\n"
          ]
        }
      ],
      "source": [
        "def parse_reactions_to_dict(file_contents):\n",
        "    ecocyc_reactions_dict = {}\n",
        "    ecocyc_reaction_data = {\n",
        "        'UNIQUE_ID': '',\n",
        "        'LEFT': [],\n",
        "        'RIGHT': [],\n",
        "        'EC_NUMBER': '',\n",
        "        'REACTION_DIRECTION': ''\n",
        "    }\n",
        "\n",
        "    for line in file_contents:\n",
        "        if '- ' in line:\n",
        "            key, value = line.split('- ', 1)\n",
        "            key = key.strip().replace('-', '_').upper()\n",
        "            value = value.strip()\n",
        "\n",
        "            if key in ['UNIQUE_ID', 'EC_NUMBER', 'REACTION_DIRECTION']:\n",
        "                ecocyc_reaction_data[key] = value\n",
        "            elif key in ['LEFT', 'RIGHT']:\n",
        "                ecocyc_reaction_data[key].append(value) #Must append because we are making a list\n",
        "        elif line.strip() == '//':  # End of reaction data entry\n",
        "            reaction_obj = EcoCyc_Reaction(**ecocyc_reaction_data)\n",
        "            ecocyc_reactions_dict[ecocyc_reaction_data['UNIQUE_ID']] = reaction_obj\n",
        "            ecocyc_reaction_data = {\n",
        "                'UNIQUE_ID': '',\n",
        "                'LEFT': [],\n",
        "                'RIGHT': [],\n",
        "                'EC_NUMBER': '',\n",
        "                'REACTION_DIRECTION': ''\n",
        "            } # Reset for the next entry\n",
        "\n",
        "    return ecocyc_reactions_dict\n",
        "\n",
        "# Code to read file and create dictionary\n",
        "with open(\"reactions.dat\", \"r\", encoding=\"ISO-8859-1\") as file:\n",
        "    file_contents = file.readlines()\n",
        "ecocyc_reactions_dict = parse_reactions_to_dict(file_contents)\n",
        "\n",
        "# Test by printing the first 5 reactions\n",
        "for key in list(ecocyc_reactions_dict.keys())[:5]:\n",
        "    print(ecocyc_reactions_dict[key])\n"
      ]
    },
    {
      "cell_type": "markdown",
      "metadata": {
        "id": "Ck7nk-6ZJmoN"
      },
      "source": [
        "# Creating Chemical and Reaction Objects for Synthesis"
      ]
    },
    {
      "cell_type": "markdown",
      "metadata": {
        "id": "DrcTvkESOj6c"
      },
      "source": [
        "I'm making this a step because in the final product, there will be multiple alteration steps of the EcoCyc ontology compared with what we want in the end Chemical and Reaction ojects that are used directly in the synthesis algorithm. This is what we do in the follow section. See the entire documentation for more details."
      ]
    },
    {
      "cell_type": "code",
      "execution_count": 7,
      "metadata": {
        "id": "ukqX9_IrKu-7"
      },
      "outputs": [],
      "source": [
        "# @dataclass(frozen=True)\n",
        "# class Chemical:\n",
        "#     UNIQUE_ID: str = \"\"\n",
        "#     COMMON_NAME: str = \"\"\n",
        "#     SMILES: str = \"\"\n",
        "#     INCHI: str = \"\"\n",
        "#     NON_STANDARD_INCHI: str = \"\"\n",
        "\n",
        "@dataclass(frozen=True)\n",
        "class Chemical:\n",
        "    UNIQUE_ID: str = \"\"\n",
        "    COMMON_NAME: str = \"\"\n",
        "    SMILES: str = \"\"\n",
        "    INCHI: str = \"\"\n",
        "    NON_STANDARD_INCHI: str = \"\"\n",
        "    HAS_NS_INCHI: bool = False\n",
        "    HAS_SMILES: bool = False\n",
        "    HAS_SMIRKS: bool = False\n",
        "\n",
        "@dataclass(frozen=True)\n",
        "class Reaction:\n",
        "    UNIQUE_ID: str\n",
        "    SUBSTRATES: Tuple[Chemical, ...]  # Assuming Chemical objects are hashable\n",
        "    PRODUCTS: Tuple[Chemical, ...]\n",
        "    EC_NUMBER: str\n",
        "    REACTION_DIRECTION: str\n",
        "\n"
      ]
    },
    {
      "cell_type": "markdown",
      "metadata": {
        "id": "2qBlmqmVnX9n"
      },
      "source": [
        "# Data Processing and Standardization"
      ]
    },
    {
      "cell_type": "markdown",
      "source": [
        "### RDKit Standardization for Data Filtering"
      ],
      "metadata": {
        "id": "z8N1pD_SrD6D"
      }
    },
    {
      "cell_type": "markdown",
      "metadata": {
        "id": "4r3MrcWlfw5Y"
      },
      "source": [
        "This step populates the Chemical and Reaction objects by incorporating a filtering algorithm of molecular standardization. The 'std' function calls a Mol object off each substrate's inchi and product's inchi present in an EcoCyc_Reaction. Those reactions that have chemicals that cannot be turned into Mol objects, don't have inchis, or cannot be standardized are thrown out. Standardized inchis are then used to populate a new **dictionary** with Chemical objects and Inchi keys, \"**Chemicals_by_Inchi**\", and remaining reactions with standardized chemicals end up as Reaction objects in the **\"reactions_list\"** **list**. Note: Reaction objects have exact Chemical objects as a tuple listed under substrates and products."
      ]
    },
    {
      "cell_type": "code",
      "execution_count": 8,
      "metadata": {
        "id": "nIFRTMqqWVpd"
      },
      "outputs": [],
      "source": [
        "def normalize_molecule(mol):\n",
        "    \"\"\"\n",
        "    Normalize a molecule using RDKit's Normalizer.\n",
        "    Create a normalizer object, then normalize the molecule\n",
        "\n",
        "    Parameters:\n",
        "    mol (rdkit.Chem.Mol): The molecule to normalize.\n",
        "\n",
        "    Returns:\n",
        "    rdkit.Chem.Mol: The normalized molecule.\n",
        "    \"\"\"\n",
        "    normalizer = rdMolStandardize.Normalizer()\n",
        "    normalized_mol = normalizer.normalize(mol)\n",
        "\n",
        "    return normalized_mol\n",
        "\n",
        "def remove_small_fragments(mol):\n",
        "    \"\"\"\n",
        "    Remove small fragments from a molecule, keeping only the largest fragment.\n",
        "    Create a LargestFragmentChooser object, then select the largest fragment\n",
        "\n",
        "    Parameters:\n",
        "    mol (rdkit.Chem.Mol): The molecule from which to remove small fragments.\n",
        "\n",
        "    Returns:\n",
        "    rdkit.Chem.Mol: The molecule with only the largest fragment remaining.\n",
        "    \"\"\"\n",
        "    fragment_parent = MolStandardize.fragment.LargestFragmentChooser()\n",
        "    largest_fragment= fragment_parent.choose(mol)\n",
        "    return largest_fragment\n",
        "\n",
        "def neutralize_charges(mol):\n",
        "    \"\"\"\n",
        "    Neutralize charges in a molecule using RDKit's Uncharger.\n",
        "    Create an Uncharger object, then apply the uncharger to neutralize the molecule\n",
        "\n",
        "    Parameters:\n",
        "    mol (rdkit.Chem.Mol): The molecule to neutralize.\n",
        "\n",
        "    Returns:\n",
        "    rdkit.Chem.Mol: The neutralized molecule.\n",
        "    \"\"\"\n",
        "    uncharger = rdMolStandardize.Uncharger()\n",
        "    neutralized_mol = uncharger.uncharge(mol)\n",
        "\n",
        "    return neutralized_mol\n",
        "\n",
        "def standardize_aromatization(mol):\n",
        "    \"\"\"\n",
        "    Standardize the aromatization state of a molecule.\n",
        "    Kekulize the molecule, if possible, to define explicit bonds\n",
        "    If kekulization fails (e.g., for some aromatic systems), catch the exception\n",
        "      and no action is needed. The molecule remains unchanged\n",
        "\n",
        "    Parameters:\n",
        "    mol (rdkit.Chem.Mol): The molecule to standardize.\n",
        "\n",
        "    Returns:\n",
        "    rdkit.Chem.Mol: The molecule with a standardized aromatization state.\n",
        "    \"\"\"\n",
        "\n",
        "    try:\n",
        "        Chem.Kekulize(mol, clearAromaticFlags=True)\n",
        "    except:\n",
        "        pass\n",
        "\n",
        "    # Set aromaticity flags based on RDKit's model\n",
        "    Chem.SetAromaticity(mol, Chem.AromaticityModel.AROMATICITY_MDL)\n",
        "\n",
        "    return mol\n",
        "\n",
        "def standardize_tautomerization(mol):\n",
        "    \"\"\"\n",
        "    Standardize tautomerization of a molecule.\n",
        "    Create a tautomer enumerator, then get the canonical tautomer\n",
        "\n",
        "    Parameters:\n",
        "    mol (rdkit.Chem.Mol): The molecule to standardize.\n",
        "\n",
        "    Returns:\n",
        "    rdkit.Chem.Mol: The standardized (canonical) tautomer.\n",
        "    \"\"\"\n",
        "    enumerator = rdMolStandardize.TautomerEnumerator()\n",
        "    canonical_tautomer = enumerator.Canonicalize(mol)\n",
        "\n",
        "    return canonical_tautomer\n",
        "\n",
        "def standardize_tautomerization_with_timeout(mol, timeout=10):\n",
        "    \"\"\"\n",
        "    Attempt to standardize tautomerization with a specified timeout.\n",
        "    Returns the standardized molecule or None if a timeout/error occurs.\n",
        "    \"\"\"\n",
        "    try:\n",
        "        with ThreadPoolExecutor(max_workers=1) as executor:\n",
        "            future = executor.submit(standardize_tautomerization, mol)\n",
        "            return future.result(timeout=timeout)  # Timeout specified in seconds\n",
        "    except Exception as e:\n",
        "        # Catch both TimeoutError and any other exceptions\n",
        "        return None\n",
        "\n",
        "def apply_smirks_transformation(mol, smirks):\n",
        "    \"\"\"\n",
        "    Attempt to apply a SMIRKS transformation to a molecule.\n",
        "    If the transformation is applicable, return the first product.\n",
        "    If not, return the original molecule.\n",
        "    \"\"\"\n",
        "    reaction_operator = rdChemReactions.ReactionFromSmarts(smirks)\n",
        "    products = reaction_operator.RunReactants((mol,))\n",
        "\n",
        "    if products:\n",
        "        # Assuming the first product of the first set is the desired outcome\n",
        "        first_product_set = products[0]\n",
        "        if first_product_set:\n",
        "            return first_product_set[0]\n",
        "\n",
        "    # If no products or transformation not applicable, return original molecule\n",
        "    return mol"
      ]
    },
    {
      "cell_type": "code",
      "source": [
        "# Initialize an RDKit logger\n",
        "rd_logger = RDLogger.logger()\n",
        "rd_logger.setLevel(RDLogger.CRITICAL)  # Set the logger level to CRITICAL to capture errors\n",
        "\n",
        "#Code provided to standardize the inchi\n",
        "error_count = 0  # Initialize an error counter\n",
        "\n",
        "tautomerization_failures = []\n",
        "\n",
        "def std(inchi, return_intermediate=False):\n",
        "    global error_count, tautomerization_failures\n",
        "    intermediate_inchi = None\n",
        "    final_inchi = None\n",
        "\n",
        "    try:\n",
        "\n",
        "      # assert isinstance(inchi, str), \"InChI must be a string\"\n",
        "      mol = Chem.MolFromInchi(str(inchi))\n",
        "\n",
        "      # if Inchi is deemed invalid\n",
        "      if mol is None:\n",
        "          error_count += 1\n",
        "          return (None, None) if return_intermediate else None\n",
        "\n",
        "\n",
        "      #Add hydrogens\n",
        "      #mol = Chem.AddHs(mol)\n",
        "\n",
        "      #Normalize by conducting a series of normalization transformations\n",
        "      mol = normalize_molecule(mol)\n",
        "\n",
        "      # Remove small fragments, keeping the largest one\n",
        "      mol = remove_small_fragments(mol)\n",
        "\n",
        "      # Neutralize charges\n",
        "      mol = neutralize_charges(mol)\n",
        "\n",
        "      #Standardize aromatization state\n",
        "      mol = standardize_aromatization(mol)\n",
        "\n",
        "      #Conversion of cyclical pyranose and furanose sugars to open-chain form\n",
        "      mol = Chem.AddHs(mol)\n",
        "      smirks_pyranose = '[C:1]1-[C:2]-[C:3]-[C:4]-[C:5](-[O:6]-[H])-[O:7]-1>>[O:7](-[H])-[C:1]-[C:2]-[C:3]-[C:4]-[C:5]=[O:6]'\n",
        "      smirks_furanose = '[C:1]1-[C:2]-[C:3]-[C:5](-[O:6]-[H])-[O:7]-1>>[O:7](-[H])-[C:1]-[C:2]-[C:3]-[C:5]=[O:6]'\n",
        "      mol = apply_smirks_transformation(mol, smirks_pyranose)\n",
        "      mol = apply_smirks_transformation(mol, smirks_furanose)\n",
        "\n",
        "      # Convert back to InChI to capture the state right before tautomerization\n",
        "      intermediate_inchi = Chem.MolToInchi(mol)\n",
        "\n",
        "      # Standardize tautomerization with a timeout mechanism\n",
        "      mol = standardize_tautomerization_with_timeout(mol)\n",
        "      if mol is None:\n",
        "          # Log the InChI of the compound that failed tautomerization\n",
        "          tautomerization_failures.append((inchi, intermediate_inchi))\n",
        "          error_count += 1\n",
        "          return (None, intermediate_inchi) if return_intermediate else None\n",
        "\n",
        "      # Convert the final molecule back to InChI\n",
        "      final_inchi = Chem.MolToInchi(mol)\n",
        "      return (final_inchi, intermediate_inchi) if return_intermediate else final_inchi\n",
        "\n",
        "\n",
        "    except Exception as e:\n",
        "      error_count += 1\n",
        "      rd_logger.error(f\"Error processing InChI: {inchi} - {e}\")\n",
        "      return (None, None) if return_intermediate else None\n",
        "\n"
      ],
      "metadata": {
        "id": "CN6CraU-q6Un"
      },
      "execution_count": 9,
      "outputs": []
    },
    {
      "cell_type": "markdown",
      "source": [
        "###Two Options for Data Filtering"
      ],
      "metadata": {
        "id": "DQlCzCCNUAGt"
      }
    },
    {
      "cell_type": "markdown",
      "source": [
        "There are two routes for going about this code:\n",
        "\n",
        "The first route is labeled CONCRETE ONLY, and it is currently listed last and currently commented out. Here is the psedo code: It iterates through all of the EcoCyc reactions. First, if the reaction doesn't have any substrates OR if the reaction does not have an associated an Inchi within the EcoCyc_Chemicals_dictionary for that substrate,  reaction_valid = False and that reaction is thrown out. However, if there is an Inchi, we attempt to employ my standardizer code. If we do not get it to standardize to a valid Inchi,  reaction_valid = False and that reaction is thrown out. But if it is successful, as long as a standardized version is not already there, we log the Inchi into chemicals_by_inchi as the key and Chemical object as the value (with the new standardized inchi. This process is repeated by iterating through products\n",
        "If reaction remains valid, we stick these as substrates and products into the new Reaction object and append it to reactions_list. Both of these data structures (chemicals_by_inchi and reactions_list) are employed directly in the synthesis algorithm.\n",
        "\n",
        "\n",
        "---------------------------------\n",
        "\n",
        "\n",
        "The other version, listed second, is labeled RETAINS CLASS COMPOUNDS. This version of the code sequentially  processes each component of EcoCyc reactions, first attempting to standardize chemicals using their standard InChIs. If a chemical doesn't have a standard InChI, it progresses to check for a non-standard InChI, then a SMILES string. If the SMILES string is present but doesn't convert to a molecule, the code attempts to interpret it as SMARTS. Each successfully processed chemical is converted from an EcoCyc_Chemical to a Chemical object with the proper Boolean flag flipped to true. If all substrates and products of a reaction are successfully processed, the reaction itself is converted from an EcoCyc_Reaction to a Reaction object and added to the collection. Throughout this process, errors are logged, particularly when standardization or molecule conversion fails. NOTE: This version requires using the Chemical objects with the HAS_NS_INCHI, HAS_SMILES, and HAS_SMIRKS.\n"
      ],
      "metadata": {
        "id": "A4iu6wV1UX0a"
      }
    },
    {
      "cell_type": "code",
      "source": [
        "## ------- CONCRETE ONLY -------\n",
        "\n",
        "\n",
        "# chemicals_by_inchi = {}  # Dictionary: Key = standardized InChI, Value = Chemical object\n",
        "# reactions_list = []     # List to store Reaction objects\n",
        "\n",
        "# for ecocyc_reaction in ecocyc_reactions_dict.values():\n",
        "#     new_substrates = []\n",
        "#     new_products = []\n",
        "#     reaction_valid = True\n",
        "\n",
        "#     # Standardize substrates\n",
        "#     for substrate_id in ecocyc_reaction.LEFT:\n",
        "#         ecocyc_chem = ecocyc_chemicals_dict.get(substrate_id)\n",
        "#         if ecocyc_chem is None or ecocyc_chem.INCHI is None:\n",
        "#             reaction_valid = False\n",
        "#             break\n",
        "#         standardized_inchi, _ = std(ecocyc_chem.INCHI, return_intermediate=True)\n",
        "#         if standardized_inchi is None:\n",
        "#             reaction_valid = False\n",
        "#             break\n",
        "#         chemical_obj = chemicals_by_inchi.get(standardized_inchi)\n",
        "#         if chemical_obj is None:\n",
        "#             # Create a new Chemical object if not found and add it to the dictionary\n",
        "#             chemical_obj = Chemical(UNIQUE_ID=substrate_id, INCHI=standardized_inchi, SMILES=ecocyc_chem.SMILES, COMMON_NAME=ecocyc_chem.COMMON_NAME)\n",
        "#             chemicals_by_inchi[standardized_inchi] = chemical_obj\n",
        "\n",
        "#         new_substrates.append(chemical_obj)  # Add the Chemical object to substrates\n",
        "\n",
        "#     # Standardize products, similar process as for substrates\n",
        "#     if reaction_valid:\n",
        "#         for product_id in ecocyc_reaction.RIGHT:\n",
        "#             ecocyc_chem = ecocyc_chemicals_dict.get(product_id)\n",
        "#             if ecocyc_chem is None or ecocyc_chem.INCHI is None:\n",
        "#               reaction_valid = False\n",
        "#               break\n",
        "#             standardized_inchi, _ = std(ecocyc_chem.INCHI, return_intermediate=True)\n",
        "#             if standardized_inchi is None:\n",
        "#                 reaction_valid = False\n",
        "#                 break\n",
        "#             chemical_obj = chemicals_by_inchi.get(standardized_inchi)\n",
        "#             if chemical_obj is None:\n",
        "#                 chemical_obj = Chemical(UNIQUE_ID=product_id, INCHI=standardized_inchi, SMILES=ecocyc_chem.SMILES, COMMON_NAME=ecocyc_chem.COMMON_NAME)\n",
        "#                 chemicals_by_inchi[standardized_inchi] = chemical_obj\n",
        "\n",
        "#             new_products.append(chemical_obj)  # Add the Chemical object to products\n",
        "\n",
        "#     # Create a new Reaction object if all substrates and products are valid\n",
        "#     if reaction_valid:\n",
        "#         new_reaction = Reaction(\n",
        "#             UNIQUE_ID=ecocyc_reaction.UNIQUE_ID,\n",
        "#             SUBSTRATES=tuple(new_substrates), # Convert list to tuple\n",
        "#             PRODUCTS=tuple(new_products),     # Convert list to tuple\n",
        "#             REACTION_DIRECTION=ecocyc_reaction.REACTION_DIRECTION\n",
        "#         )\n",
        "#         reactions_list.append(new_reaction)\n",
        "\n",
        "# print(f\"Total RDKit errors encountered: {error_count}\")"
      ],
      "metadata": {
        "id": "SLsrAk64TPTy"
      },
      "execution_count": 10,
      "outputs": []
    },
    {
      "cell_type": "code",
      "execution_count": 11,
      "metadata": {
        "colab": {
          "base_uri": "https://localhost:8080/"
        },
        "id": "ZsaEN5hMrm2T",
        "outputId": "e36e5b07-4cad-4e8e-8721-954d282f0b96"
      },
      "outputs": [
        {
          "output_type": "stream",
          "name": "stdout",
          "text": [
            "Total RDKit errors encountered: 0\n"
          ]
        }
      ],
      "source": [
        "# ------- RETAINS CLASS COMPOUNDS -------\n",
        "\n",
        "\n",
        "reactions_list = []  # To store Reaction objects\n",
        "chemicals_by_inchi = {}  # Dictionary: Key = standardized InChI, Value = Chemical object\n",
        "\n",
        "for ecocyc_reaction in ecocyc_reactions_dict.values():\n",
        "    new_substrates = []\n",
        "    new_products = []\n",
        "    reaction_valid = True\n",
        "\n",
        "    # Processing substrates\n",
        "    for substrate_id in ecocyc_reaction.LEFT:\n",
        "        ecocyc_chem = ecocyc_chemicals_dict.get(substrate_id)\n",
        "        if not ecocyc_chem:\n",
        "            reaction_valid = False\n",
        "            break\n",
        "\n",
        "        chemical_obj = None\n",
        "        key = None\n",
        "        has_ns_inchi = has_smiles = has_smirks = False\n",
        "\n",
        "        # Process standard InChI\n",
        "        if ecocyc_chem.INCHI:\n",
        "            standardized_inchi, _ = std(ecocyc_chem.INCHI, return_intermediate=True)\n",
        "            if standardized_inchi:\n",
        "                key = standardized_inchi\n",
        "                if key not in chemicals_by_inchi:\n",
        "                    chemical_obj = Chemical(\n",
        "                        UNIQUE_ID=substrate_id,\n",
        "                        COMMON_NAME=ecocyc_chem.COMMON_NAME,\n",
        "                        SMILES=ecocyc_chem.SMILES,\n",
        "                        INCHI=standardized_inchi,\n",
        "                        NON_STANDARD_INCHI='',\n",
        "                        HAS_NS_INCHI=False,\n",
        "                        HAS_SMILES=False,\n",
        "                        HAS_SMIRKS=False\n",
        "                    )\n",
        "                    chemicals_by_inchi[key] = chemical_obj\n",
        "                else:\n",
        "                    chemical_obj = chemicals_by_inchi[key]\n",
        "\n",
        "        # Process non-standard InChI if standard InChI is not available\n",
        "        if not key and ecocyc_chem.NON_STANDARD_INCHI:\n",
        "            mol = Chem.MolFromInchi(ecocyc_chem.NON_STANDARD_INCHI)\n",
        "            if mol:\n",
        "                key = ecocyc_chem.NON_STANDARD_INCHI\n",
        "                has_ns_inchi = True\n",
        "                if key not in chemicals_by_inchi:\n",
        "                    chemical_obj = Chemical(\n",
        "                        UNIQUE_ID=substrate_id,\n",
        "                        COMMON_NAME=ecocyc_chem.COMMON_NAME,\n",
        "                        SMILES='',\n",
        "                        INCHI='',\n",
        "                        NON_STANDARD_INCHI=ecocyc_chem.NON_STANDARD_INCHI,\n",
        "                        HAS_NS_INCHI=True,\n",
        "                        HAS_SMILES=False,\n",
        "                        HAS_SMIRKS=False\n",
        "                    )\n",
        "                    chemicals_by_inchi[key] = chemical_obj\n",
        "                else:\n",
        "                    chemical_obj = chemicals_by_inchi[key]\n",
        "\n",
        "        # Process SMILES if no InChI is available\n",
        "        if not key and ecocyc_chem.SMILES:\n",
        "            mol = Chem.MolFromSmiles(ecocyc_chem.SMILES)\n",
        "            if mol:\n",
        "                key = ecocyc_chem.SMILES\n",
        "                has_smiles = True\n",
        "            else:\n",
        "                mol = Chem.MolFromSmarts(ecocyc_chem.SMILES)\n",
        "                if mol:\n",
        "                    key = ecocyc_chem.SMILES  # Using SMILES as the key for SMARTS\n",
        "                    has_smirks = True\n",
        "\n",
        "            if (has_smiles or has_smirks) and key not in chemicals_by_inchi:\n",
        "                chemical_obj = Chemical(\n",
        "                    UNIQUE_ID=substrate_id,\n",
        "                    COMMON_NAME=ecocyc_chem.COMMON_NAME,\n",
        "                    SMILES=ecocyc_chem.SMILES,\n",
        "                    INCHI='',\n",
        "                    NON_STANDARD_INCHI='',\n",
        "                    HAS_NS_INCHI=False,\n",
        "                    HAS_SMILES=has_smiles,\n",
        "                    HAS_SMIRKS=has_smirks\n",
        "                )\n",
        "                chemicals_by_inchi[key] = chemical_obj\n",
        "\n",
        "        if chemical_obj:\n",
        "            new_substrates.append(chemical_obj)\n",
        "        else:\n",
        "            reaction_valid = False\n",
        "            break\n",
        "\n",
        "    # Processing products\n",
        "    if reaction_valid:  # Only process products if all substrates are valid\n",
        "        for product_id in ecocyc_reaction.RIGHT:\n",
        "            ecocyc_chem = ecocyc_chemicals_dict.get(product_id)\n",
        "            if not ecocyc_chem:\n",
        "                reaction_valid = False\n",
        "                break\n",
        "\n",
        "            chemical_obj = None\n",
        "            key = None\n",
        "            has_ns_inchi = has_smiles = has_smirks = False\n",
        "\n",
        "            # Process standard InChI\n",
        "            if ecocyc_chem.INCHI:\n",
        "                standardized_inchi, _ = std(ecocyc_chem.INCHI, return_intermediate=True)\n",
        "                if standardized_inchi:\n",
        "                    key = standardized_inchi\n",
        "                    if key not in chemicals_by_inchi:\n",
        "                        chemical_obj = Chemical(\n",
        "                            UNIQUE_ID=product_id,\n",
        "                            COMMON_NAME=ecocyc_chem.COMMON_NAME,\n",
        "                            SMILES=ecocyc_chem.SMILES,\n",
        "                            INCHI=standardized_inchi,\n",
        "                            NON_STANDARD_INCHI='',\n",
        "                            HAS_NS_INCHI=False,\n",
        "                            HAS_SMILES=False,\n",
        "                            HAS_SMIRKS=False\n",
        "                        )\n",
        "                        chemicals_by_inchi[key] = chemical_obj\n",
        "                    else:\n",
        "                        chemical_obj = chemicals_by_inchi[key]\n",
        "\n",
        "            # Process non-standard InChI if standard InChI is not available\n",
        "            if not key and ecocyc_chem.NON_STANDARD_INCHI:\n",
        "                mol = Chem.MolFromInchi(ecocyc_chem.NON_STANDARD_INCHI)\n",
        "                if mol:\n",
        "                    key = ecocyc_chem.NON_STANDARD_INCHI\n",
        "                    has_ns_inchi = True\n",
        "                    if key not in chemicals_by_inchi:\n",
        "                        chemical_obj = Chemical(\n",
        "                            UNIQUE_ID=product_id,\n",
        "                            COMMON_NAME=ecocyc_chem.COMMON_NAME,\n",
        "                            SMILES='',\n",
        "                            INCHI='',\n",
        "                            NON_STANDARD_INCHI=ecocyc_chem.NON_STANDARD_INCHI,\n",
        "                            HAS_NS_INCHI=True,\n",
        "                            HAS_SMILES=False,\n",
        "                            HAS_SMIRKS=False\n",
        "                        )\n",
        "                        chemicals_by_inchi[key] = chemical_obj\n",
        "                    else:\n",
        "                        chemical_obj = chemicals_by_inchi[key]\n",
        "\n",
        "            # Process SMILES if no InChI is available\n",
        "            if not key and ecocyc_chem.SMILES:\n",
        "                mol = Chem.MolFromSmiles(ecocyc_chem.SMILES)\n",
        "                if mol:\n",
        "                    key = ecocyc_chem.SMILES\n",
        "                    has_smiles = True\n",
        "                else:\n",
        "                    mol = Chem.MolFromSmarts(ecocyc_chem.SMILES)\n",
        "                    if mol:\n",
        "                        key = ecocyc_chem.SMILES  # Using SMILES as the key for SMARTS\n",
        "                        has_smirks = True\n",
        "\n",
        "                if (has_smiles or has_smirks) and key not in chemicals_by_inchi:\n",
        "                    chemical_obj = Chemical(\n",
        "                        UNIQUE_ID=product_id,\n",
        "                        COMMON_NAME=ecocyc_chem.COMMON_NAME,\n",
        "                        SMILES=ecocyc_chem.SMILES,\n",
        "                        INCHI='',\n",
        "                        NON_STANDARD_INCHI='',\n",
        "                        HAS_NS_INCHI=False,\n",
        "                        HAS_SMILES=has_smiles,\n",
        "                        HAS_SMIRKS=has_smirks\n",
        "                    )\n",
        "                    chemicals_by_inchi[key] = chemical_obj\n",
        "\n",
        "            if chemical_obj:\n",
        "                new_products.append(chemical_obj)\n",
        "            else:\n",
        "                reaction_valid = False\n",
        "                break\n",
        "\n",
        "    if reaction_valid:\n",
        "        new_reaction = Reaction(\n",
        "            UNIQUE_ID=ecocyc_reaction.UNIQUE_ID,\n",
        "            SUBSTRATES=tuple(new_substrates),\n",
        "            PRODUCTS=tuple(new_products),\n",
        "            EC_NUMBER=ecocyc_reaction.EC_NUMBER,\n",
        "            REACTION_DIRECTION=ecocyc_reaction.REACTION_DIRECTION\n",
        "        )\n",
        "        reactions_list.append(new_reaction)\n",
        "\n",
        "print(f\"Total RDKit errors encountered: {error_count}\")"
      ]
    },
    {
      "cell_type": "markdown",
      "source": [
        "####Troubleshooting Tautomerization Errors"
      ],
      "metadata": {
        "id": "cniWZj6grjmn"
      }
    },
    {
      "cell_type": "markdown",
      "source": [
        "This code aims to print out a chemical object in the middle of the standardization (std function) code. For instance, I often struggled placing the standardization order so that the tautomerization worked correctly, so I moved around the intermediate inchi to see what the moleucle looked like at what stage in the process. Although this is labeled for tautomerization, you could use this for other things as well."
      ],
      "metadata": {
        "id": "v0MNxtg2dKg_"
      }
    },
    {
      "cell_type": "code",
      "execution_count": 12,
      "metadata": {
        "id": "McQg_-49-IDm"
      },
      "outputs": [],
      "source": [
        "def map_inchis_to_ecocyc_info(tautomerization_failures, ecocyc_chemicals_dict):\n",
        "    failed_chemicals_details = []\n",
        "\n",
        "    # Iterate through all failed InChI tuples\n",
        "    for original_inchi, intermediate_inchi in tautomerization_failures:\n",
        "        # Search for the failed original InChI in the ecocyc_chemicals_dict\n",
        "        for chemical in ecocyc_chemicals_dict.values():\n",
        "            if chemical.INCHI == original_inchi:\n",
        "                # Store the unique ID, common name, original InChI, and transformed InChI for chemicals that match the failed original InChI\n",
        "                failed_chemicals_details.append((chemical.UNIQUE_ID, chemical.COMMON_NAME, original_inchi, intermediate_inchi))\n",
        "                break  # Stop searching once a match is found\n",
        "\n",
        "    return failed_chemicals_details\n",
        "\n",
        "# Usage example\n",
        "failed_chemicals_details = map_inchis_to_ecocyc_info(tautomerization_failures, ecocyc_chemicals_dict)\n",
        "\n",
        "# Print or process the failed chemicals details\n",
        "for unique_id, common_name, original_inchi, intermediate_inchi in failed_chemicals_details:\n",
        "    print(f\"Failed Chemical: Unique ID = {unique_id}, Common Name = {common_name}, Original InChI = {original_inchi}, Transformed InChI = {intermediate_inchi}\")"
      ]
    },
    {
      "cell_type": "code",
      "execution_count": 13,
      "metadata": {
        "colab": {
          "base_uri": "https://localhost:8080/"
        },
        "id": "3kt-ZhfEFa9G",
        "outputId": "9078c804-2fe7-4a74-8f2b-78f5bd9b4e80"
      },
      "outputs": [
        {
          "output_type": "stream",
          "name": "stdout",
          "text": [
            "0\n",
            "0\n"
          ]
        }
      ],
      "source": [
        "print(len(tautomerization_failures))\n",
        "print(len(failed_chemicals_details))"
      ]
    },
    {
      "cell_type": "markdown",
      "source": [
        "####Troubleshooting Class Compounds"
      ],
      "metadata": {
        "id": "rQcvbFaRrp_X"
      }
    },
    {
      "cell_type": "markdown",
      "source": [
        "This section of code is only used only for taking the route that involves the RETAINS CLASS COMPOUNDS filtering strategy. It allowed me to differentiate between what chemicals are referenced in the reactions that are concrete (with an Inchi) and what chemicals are considered \"class\" compounds and only have a NS-inchi."
      ],
      "metadata": {
        "id": "HK16zYRugxoK"
      }
    },
    {
      "cell_type": "code",
      "execution_count": 14,
      "metadata": {
        "colab": {
          "base_uri": "https://localhost:8080/"
        },
        "id": "JntEhnFNkkQu",
        "outputId": "5cee3e31-2921-4860-8ae2-2e86c834fc86"
      },
      "outputs": [
        {
          "output_type": "stream",
          "name": "stdout",
          "text": [
            "Number of Reaction objects in 'reactions_list': 2212\n",
            "Number of Reaction objects from the raw data: 3212\n",
            "Number of Chemical objects in 'chemicals_by_inchi': 1595\n",
            "Number of Chemical objects from the raw data: 7585\n"
          ]
        }
      ],
      "source": [
        "print(f\"Number of Reaction objects in 'reactions_list': {len(reactions_list)}\")\n",
        "print(f\"Number of Reaction objects from the raw data: {len(ecocyc_reactions_dict)}\")\n",
        "print(f\"Number of Chemical objects in 'chemicals_by_inchi': {len(chemicals_by_inchi)}\")\n",
        "print(f\"Number of Chemical objects from the raw data: {len(ecocyc_chemicals_dict)}\")"
      ]
    },
    {
      "cell_type": "code",
      "source": [
        "has_ns_inchi_count = 0\n",
        "has_smiles_count = 0\n",
        "has_smirks_count = 0\n",
        "has_inchi_count = 0\n",
        "\n",
        "for chem in chemicals_by_inchi.values():\n",
        "    if chem.HAS_NS_INCHI:\n",
        "        has_ns_inchi_count += 1\n",
        "    if chem.HAS_SMILES:\n",
        "        has_smiles_count += 1\n",
        "    if chem.HAS_SMIRKS:\n",
        "        has_smirks_count += 1\n",
        "    if not chem.HAS_NS_INCHI and not chem.HAS_SMILES and not chem.HAS_SMIRKS:\n",
        "        has_inchi_count += 1\n",
        "\n",
        "print(f\"Chemicals with non-standard InChI: {has_ns_inchi_count}\")\n",
        "print(f\"Chemicals with SMILES: {has_smiles_count}\")\n",
        "print(f\"Chemicals with SMIRKS: {has_smirks_count}\")\n",
        "print(f\"Chemicals with InChI: {has_inchi_count}\")"
      ],
      "metadata": {
        "colab": {
          "base_uri": "https://localhost:8080/"
        },
        "id": "6A-VxGvhsigl",
        "outputId": "4b657cf6-e90a-4d6e-bfb3-270df3da7bc4"
      },
      "execution_count": 15,
      "outputs": [
        {
          "output_type": "stream",
          "name": "stdout",
          "text": [
            "Chemicals with non-standard InChI: 329\n",
            "Chemicals with SMILES: 2\n",
            "Chemicals with SMIRKS: 9\n",
            "Chemicals with InChI: 1255\n"
          ]
        }
      ]
    },
    {
      "cell_type": "code",
      "source": [
        "def get_chemicals_by_flag(flag_name):\n",
        "    result = []\n",
        "    for key, chem in chemicals_by_inchi.items():\n",
        "        if getattr(chem, flag_name, False):\n",
        "            result.append((chem.UNIQUE_ID, chem.COMMON_NAME))\n",
        "    return result\n",
        "\n",
        "# Example usage:\n",
        "ns_inchi_chemicals = get_chemicals_by_flag('HAS_NS_INCHI')\n",
        "for unique_id, common_name in ns_inchi_chemicals:\n",
        "    print(f\"UNIQUE_ID: {unique_id}, COMMON_NAME: {common_name}\")"
      ],
      "metadata": {
        "id": "v_3aelGxs3wK"
      },
      "execution_count": null,
      "outputs": []
    },
    {
      "cell_type": "markdown",
      "source": [
        "### Accounting for Reversible and Right-to-Left Reactions"
      ],
      "metadata": {
        "id": "81txL-3XrTwy"
      }
    },
    {
      "cell_type": "markdown",
      "metadata": {
        "id": "5IbBXX06MWVl"
      },
      "source": [
        "For reversible reactions, this function appends the original reaction to the preprocessed list and also creates a reversed version of it (Unique_ID becomes UNIQUE_ID + \"_reverse\"), treating the products as substrates and vice versa, marking the direction as left-to-right. For reactions that are inherently right-to-left, the function reverses them to be left-to-right without duplicating them. The preprocessed list then becomes the reactions list based on the function call so that I can be used as a repository for the synthesis algorithm.\n",
        "\n"
      ]
    },
    {
      "cell_type": "code",
      "execution_count": 17,
      "metadata": {
        "id": "jN_OoxSqMVjl"
      },
      "outputs": [],
      "source": [
        "def preprocess_reactions(reactions_list):\n",
        "    preprocessed_reactions = []\n",
        "\n",
        "    for reaction in reactions_list:\n",
        "        # Handle reversible reactions by adding a reverse reaction\n",
        "        if reaction.REACTION_DIRECTION == \"REVERSIBLE\":\n",
        "            preprocessed_reactions.append(reaction)  # Original reaction\n",
        "            # Clone and reverse the original reaction\n",
        "            reversed_reaction = Reaction(\n",
        "                UNIQUE_ID=reaction.UNIQUE_ID + \"_reverse\",  # Ensure unique ID for the reversed reaction\n",
        "                SUBSTRATES=reaction.PRODUCTS,\n",
        "                PRODUCTS=reaction.SUBSTRATES,\n",
        "                EC_NUMBER=reaction.EC_NUMBER,\n",
        "                REACTION_DIRECTION=\"LEFT-TO-RIGHT\"  # Assuming reversed is always left-to-right\n",
        "            )\n",
        "            preprocessed_reactions.append(reversed_reaction)\n",
        "\n",
        "        # Handle right-to-left reactions by reversing them\n",
        "        elif reaction.REACTION_DIRECTION == \"PHYSIOL-RIGHT-TO-LEFT\" or reaction.REACTION_DIRECTION == \"RIGHT-TO-LEFT\":\n",
        "            reversed_reaction = Reaction(\n",
        "                UNIQUE_ID=reaction.UNIQUE_ID,\n",
        "                SUBSTRATES=reaction.PRODUCTS,\n",
        "                PRODUCTS=reaction.SUBSTRATES,\n",
        "                EC_NUMBER=reaction.EC_NUMBER,\n",
        "                REACTION_DIRECTION=\"LEFT-TO-RIGHT\"\n",
        "            )\n",
        "            preprocessed_reactions.append(reversed_reaction)\n",
        "        else:\n",
        "            # For left-to-right and other directions, add the reaction as is\n",
        "            preprocessed_reactions.append(reaction)\n",
        "\n",
        "    return preprocessed_reactions\n",
        "\n",
        "reactions_list = preprocess_reactions(reactions_list)"
      ]
    },
    {
      "cell_type": "markdown",
      "metadata": {
        "id": "MRu4OrqmDo-j"
      },
      "source": [
        "# Incorporating the Universal and Minimal Metabolites"
      ]
    },
    {
      "cell_type": "markdown",
      "source": [
        "### Loading in Minimal and Universal Metabolites"
      ],
      "metadata": {
        "id": "gJMeRhNm8Nft"
      }
    },
    {
      "cell_type": "code",
      "execution_count": 32,
      "metadata": {
        "colab": {
          "base_uri": "https://localhost:8080/"
        },
        "id": "cLkTwbuSIZB5",
        "outputId": "b73127c3-6632-4de1-ab3b-76f776b5fc35"
      },
      "outputs": [
        {
          "output_type": "stream",
          "name": "stdout",
          "text": [
            "['InChI=1S/C6H12O6/c7-1-2-3(8)4(9)5(10)6(11)12-2/h2-11H,1H2/t2-,3-,4+,5-,6?/m1/s1', 'InChI=1S/H3N/h1H3/p+1', 'InChI=1S/Na/q+1', 'InChI=1S/K/q+1', 'InChI=1S/Ca/q+2']\n"
          ]
        },
        {
          "output_type": "execute_result",
          "data": {
            "text/plain": [
              "88"
            ]
          },
          "metadata": {},
          "execution_count": 32
        }
      ],
      "source": [
        "def load_metabolites(file_path):\n",
        "    metabolites_inchis = []\n",
        "    with open(file_path, 'r') as file:\n",
        "        lines = file.read().splitlines()  # Read the whole file as a string and split into lines\n",
        "    for i in range(1, len(lines)):  # Start from 1 to skip the header\n",
        "        parts = lines[i].split('\\t') # Split each line at tab characters, resulting in a list of values\n",
        "        inchi = parts[1]\n",
        "        inchi = inchi.replace('\"','') # Remove any double quotes from the InChI string for standardization\n",
        "        metabolites_inchis.append(inchi) # Add the cleaned InChI string to the list of metabolite InChIs\n",
        "\n",
        "    return metabolites_inchis\n",
        "\n",
        "minimal_inchis = load_metabolites('minimal_metabolites_02-24.txt') #Call the function. List is now titled minimal_inchis\n",
        "universal_inchis = load_metabolites('universal_metabolites_03-24.txt')\n",
        "native_inchis = minimal_inchis + universal_inchis #creating a master list\n",
        "\n",
        "#Test master list\n",
        "print(native_inchis[:5])\n",
        "len(native_inchis)\n"
      ]
    },
    {
      "cell_type": "markdown",
      "metadata": {
        "id": "qG7tRrQ7Zbjz"
      },
      "source": [
        "### Standardizing and Curating Native Chemicals List"
      ]
    },
    {
      "cell_type": "markdown",
      "source": [
        "This code aims to identify the cooresponding Chemical object within Chemicals_by_inchi by doing 1-to-1 InChI matching. It then logs those Chemical objects into a new list called updated_native_chemicals. These are all directly logged into Shell 0 in the synthesis algorithm. The InChIs that don't have any cooresponding chemical object are logged into the unresolved_metabolites list."
      ],
      "metadata": {
        "id": "XkYh4bx29nFK"
      }
    },
    {
      "cell_type": "code",
      "execution_count": 33,
      "metadata": {
        "colab": {
          "base_uri": "https://localhost:8080/"
        },
        "id": "TmZ-Fffj2NXn",
        "outputId": "59211aa8-5c50-4025-e748-c1c9bfad751f"
      },
      "outputs": [
        {
          "output_type": "stream",
          "name": "stdout",
          "text": [
            "InChI strings found after standardization: [Chemical(UNIQUE_ID='Glucopyranose', COMMON_NAME='D-glucopyranose', SMILES='C([C@@H]1([C@H]([C@@H]([C@H](C(O1)O)O)O)O))O', INCHI='InChI=1S/C6H14O6/c7-1-3(9)5(11)6(12)4(10)2-8/h3-12H,1-2H2/t3-,5-,6-/m1/s1', NON_STANDARD_INCHI='', HAS_NS_INCHI=False, HAS_SMILES=False, HAS_SMIRKS=False), Chemical(UNIQUE_ID='AMMONIUM', COMMON_NAME='ammonium', SMILES='[NH4+]', INCHI='InChI=1S/H3N/h1H3', NON_STANDARD_INCHI='', HAS_NS_INCHI=False, HAS_SMILES=False, HAS_SMIRKS=False), Chemical(UNIQUE_ID='NA+', COMMON_NAME='Na<SUP>+</SUP>', SMILES='[Na+]', INCHI='InChI=1S/Na/q+1', NON_STANDARD_INCHI='', HAS_NS_INCHI=False, HAS_SMILES=False, HAS_SMIRKS=False), Chemical(UNIQUE_ID='K+', COMMON_NAME='K<SUP>+</SUP>', SMILES='[K+]', INCHI='InChI=1S/K/q+1', NON_STANDARD_INCHI='', HAS_NS_INCHI=False, HAS_SMILES=False, HAS_SMIRKS=False), Chemical(UNIQUE_ID='CA+2', COMMON_NAME='Ca<SUP>2+</SUP>', SMILES='[Ca+2]', INCHI='InChI=1S/Ca/q+2', NON_STANDARD_INCHI='', HAS_NS_INCHI=False, HAS_SMILES=False, HAS_SMIRKS=False), Chemical(UNIQUE_ID='MG+2', COMMON_NAME='Mg<SUP>2+</SUP>', SMILES='[Mg+2]', INCHI='InChI=1S/Mg/q+2', NON_STANDARD_INCHI='', HAS_NS_INCHI=False, HAS_SMILES=False, HAS_SMIRKS=False), Chemical(UNIQUE_ID='CU+2', COMMON_NAME='Cu<SUP>2+</SUP>', SMILES='[Cu+2]', INCHI='InChI=1S/Cu/q+2', NON_STANDARD_INCHI='', HAS_NS_INCHI=False, HAS_SMILES=False, HAS_SMIRKS=False), Chemical(UNIQUE_ID='FE+3', COMMON_NAME='Fe<SUP>3+</SUP>', SMILES='[Fe+3]', INCHI='InChI=1S/Fe/q+3', NON_STANDARD_INCHI='', HAS_NS_INCHI=False, HAS_SMILES=False, HAS_SMIRKS=False), Chemical(UNIQUE_ID='MN+2', COMMON_NAME='Mn<SUP>2+</SUP>', SMILES='[Mn+2]', INCHI='InChI=1S/Mn/q+2', NON_STANDARD_INCHI='', HAS_NS_INCHI=False, HAS_SMILES=False, HAS_SMIRKS=False), Chemical(UNIQUE_ID='NI+2', COMMON_NAME='Ni<sup>2+</sup>', SMILES='[Ni+2]', INCHI='InChI=1S/Ni/q+2', NON_STANDARD_INCHI='', HAS_NS_INCHI=False, HAS_SMILES=False, HAS_SMIRKS=False), Chemical(UNIQUE_ID='ZN+2', COMMON_NAME='Zn<SUP>2+</SUP>', SMILES='[Zn+2]', INCHI='InChI=1S/Zn/q+2', NON_STANDARD_INCHI='', HAS_NS_INCHI=False, HAS_SMILES=False, HAS_SMIRKS=False), Chemical(UNIQUE_ID='CO+2', COMMON_NAME='Co<SUP>2+</SUP>', SMILES='[Co+2]', INCHI='InChI=1S/Co/q+2', NON_STANDARD_INCHI='', HAS_NS_INCHI=False, HAS_SMILES=False, HAS_SMIRKS=False), Chemical(UNIQUE_ID='SULFATE', COMMON_NAME='sulfate', SMILES='O=S(=O)([O-])[O-]', INCHI='InChI=1S/H2O4S/c1-5(2,3)4/h(H2,1,2,3,4)', NON_STANDARD_INCHI='', HAS_NS_INCHI=False, HAS_SMILES=False, HAS_SMIRKS=False), Chemical(UNIQUE_ID='HCO3', COMMON_NAME='hydrogen carbonate', SMILES='C([O-])(=O)O', INCHI='InChI=1S/CH3O3/c2-1(3)4/h2-4H', NON_STANDARD_INCHI='', HAS_NS_INCHI=False, HAS_SMILES=False, HAS_SMIRKS=False), Chemical(UNIQUE_ID='PROTON', COMMON_NAME='H<SUP>+</SUP>', SMILES='[H+]', INCHI='InChI=1S/p+1', NON_STANDARD_INCHI='', HAS_NS_INCHI=False, HAS_SMILES=False, HAS_SMIRKS=False), Chemical(UNIQUE_ID='WATER', COMMON_NAME='H<sub>2</sub>O', SMILES='O', INCHI='InChI=1S/H2O/h1H2', NON_STANDARD_INCHI='', HAS_NS_INCHI=False, HAS_SMILES=False, HAS_SMIRKS=False), Chemical(UNIQUE_ID='CPD-7046', COMMON_NAME='S<sup>2-</sup>', SMILES='[S-2]', INCHI='InChI=1S/S/q-2', NON_STANDARD_INCHI='', HAS_NS_INCHI=False, HAS_SMILES=False, HAS_SMIRKS=False), Chemical(UNIQUE_ID='CL-', COMMON_NAME='chloride', SMILES='[Cl-]', INCHI='InChI=1S/ClH/h1H', NON_STANDARD_INCHI='', HAS_NS_INCHI=False, HAS_SMILES=False, HAS_SMIRKS=False), Chemical(UNIQUE_ID='BR-', COMMON_NAME='bromide', SMILES='[Br-]', INCHI='InChI=1S/BrH/h1H', NON_STANDARD_INCHI='', HAS_NS_INCHI=False, HAS_SMILES=False, HAS_SMIRKS=False), Chemical(UNIQUE_ID='F-', COMMON_NAME='fluoride', SMILES='[F-]', INCHI='InChI=1S/FH/h1H', NON_STANDARD_INCHI='', HAS_NS_INCHI=False, HAS_SMILES=False, HAS_SMIRKS=False), Chemical(UNIQUE_ID='Pi', COMMON_NAME='phosphate', SMILES='[O-]P(=O)(O)[O-]', INCHI='InChI=1S/H3O4P/c1-5(2,3)4/h(H3,1,2,3,4)', NON_STANDARD_INCHI='', HAS_NS_INCHI=False, HAS_SMILES=False, HAS_SMIRKS=False), Chemical(UNIQUE_ID='WATER', COMMON_NAME='H<sub>2</sub>O', SMILES='O', INCHI='InChI=1S/H2O/h1H2', NON_STANDARD_INCHI='', HAS_NS_INCHI=False, HAS_SMILES=False, HAS_SMIRKS=False), Chemical(UNIQUE_ID='CARBON-DIOXIDE', COMMON_NAME='CO<SUB>2</SUB>', SMILES='C(=O)=O', INCHI='InChI=1S/CO2/c2-1-3', NON_STANDARD_INCHI='', HAS_NS_INCHI=False, HAS_SMILES=False, HAS_SMIRKS=False), Chemical(UNIQUE_ID='OXYGEN-MOLECULE', COMMON_NAME='dioxygen', SMILES='O=O', INCHI='InChI=1S/O2/c1-2', NON_STANDARD_INCHI='', HAS_NS_INCHI=False, HAS_SMILES=False, HAS_SMIRKS=False), Chemical(UNIQUE_ID='L-ALPHA-ALANINE', COMMON_NAME='L-alanine', SMILES='C[C@H]([NH3+])C([O-])=O', INCHI='InChI=1S/C3H8NO2/c1-2(4)3(5)6/h2,5-6H,4H2,1H3', NON_STANDARD_INCHI='', HAS_NS_INCHI=False, HAS_SMILES=False, HAS_SMIRKS=False), Chemical(UNIQUE_ID='ARG', COMMON_NAME='L-arginine', SMILES='C(NC(N)=[NH2+])CC[C@H]([NH3+])C(=O)[O-]', INCHI='InChI=1S/C6H14N4O2/c7-4(5(11)12)2-1-3-10-6(8)9/h4H,1-3,7H2,(H,11,12)(H4,8,9,10)', NON_STANDARD_INCHI='', HAS_NS_INCHI=False, HAS_SMILES=False, HAS_SMIRKS=False), Chemical(UNIQUE_ID='ASN', COMMON_NAME='L-asparagine', SMILES='C(C[C@@H](C(=O)[O-])[NH3+])(N)=O', INCHI='InChI=1S/C4H9N2O3/c5-2(4(8)9)1-3(6)7/h2,7H,1,5-6H2,(H,8,9)', NON_STANDARD_INCHI='', HAS_NS_INCHI=False, HAS_SMILES=False, HAS_SMIRKS=False), Chemical(UNIQUE_ID='L-ASPARTATE', COMMON_NAME='L-aspartate', SMILES='C(C(=O)[O-])[C@H]([NH3+])C(=O)[O-]', INCHI='InChI=1S/C4H8NO4/c5-2(4(8)9)1-3(6)7/h2,8-9H,1,5H2,(H,6,7)', NON_STANDARD_INCHI='', HAS_NS_INCHI=False, HAS_SMILES=False, HAS_SMIRKS=False), Chemical(UNIQUE_ID='CYS', COMMON_NAME='L-cysteine', SMILES='C(S)[C@@H](C(=O)[O-])[NH3+]', INCHI='InChI=1S/C3H8NO2S/c4-2(1-7)3(5)6/h2,5-7H,1,4H2', NON_STANDARD_INCHI='', HAS_NS_INCHI=False, HAS_SMILES=False, HAS_SMIRKS=False), Chemical(UNIQUE_ID='GLN', COMMON_NAME='L-glutamine', SMILES='C(=O)(N)CC[C@H]([NH3+])C([O-])=O', INCHI='InChI=1S/C5H11N2O3/c6-3(5(9)10)1-2-4(7)8/h3,8H,1-2,6-7H2,(H,9,10)', NON_STANDARD_INCHI='', HAS_NS_INCHI=False, HAS_SMILES=False, HAS_SMIRKS=False), Chemical(UNIQUE_ID='GLT', COMMON_NAME='L-glutamate', SMILES='C(CC[C@@H](C(=O)[O-])[NH3+])([O-])=O', INCHI='InChI=1S/C5H10NO4/c6-3(5(9)10)1-2-4(7)8/h3,9-10H,1-2,6H2,(H,7,8)', NON_STANDARD_INCHI='', HAS_NS_INCHI=False, HAS_SMILES=False, HAS_SMIRKS=False), Chemical(UNIQUE_ID='GLY', COMMON_NAME='glycine', SMILES='C([NH3+])C([O-])=O', INCHI='InChI=1S/C2H6NO2/c3-1-2(4)5/h4-5H,1,3H2', NON_STANDARD_INCHI='', HAS_NS_INCHI=False, HAS_SMILES=False, HAS_SMIRKS=False), Chemical(UNIQUE_ID='HIS', COMMON_NAME='L-histidine', SMILES='C1(\\\\N\\\\C=N/C(\\\\C[C@@H](C(=O)[O-])[NH3+])=1)', INCHI='InChI=1S/C6H10N3O2/c7-5(6(10)11)1-4-2-8-3-9-4/h2-3,5,10-11H,1,7H2,(H,8,9)', NON_STANDARD_INCHI='', HAS_NS_INCHI=False, HAS_SMILES=False, HAS_SMIRKS=False), Chemical(UNIQUE_ID='ILE', COMMON_NAME='L-isoleucine', SMILES='CC[C@H](C)[C@H]([NH3+])C(=O)[O-]', INCHI='InChI=1S/C6H14NO2/c1-3-4(2)5(7)6(8)9/h4-5,8-9H,3,7H2,1-2H3/t4-,5?/m0/s1', NON_STANDARD_INCHI='', HAS_NS_INCHI=False, HAS_SMILES=False, HAS_SMIRKS=False), Chemical(UNIQUE_ID='LEU', COMMON_NAME='L-leucine', SMILES='CC(C)C[C@H]([NH3+])C([O-])=O', INCHI='InChI=1S/C6H14NO2/c1-4(2)3-5(7)6(8)9/h4-5,8-9H,3,7H2,1-2H3', NON_STANDARD_INCHI='', HAS_NS_INCHI=False, HAS_SMILES=False, HAS_SMIRKS=False), Chemical(UNIQUE_ID='LYS', COMMON_NAME='L-lysine', SMILES='C([NH3+])CCC[C@H]([NH3+])C([O-])=O', INCHI='InChI=1S/C6H15N2O2/c7-4-2-1-3-5(8)6(9)10/h5,9-10H,1-4,7-8H2', NON_STANDARD_INCHI='', HAS_NS_INCHI=False, HAS_SMILES=False, HAS_SMIRKS=False), Chemical(UNIQUE_ID='CPD-218', COMMON_NAME='D-methionine', SMILES='CSCC[C@@H]([NH3+])C([O-])=O', INCHI='InChI=1S/C5H12NO2S/c1-9-3-2-4(6)5(7)8/h4,7-8H,2-3,6H2,1H3', NON_STANDARD_INCHI='', HAS_NS_INCHI=False, HAS_SMILES=False, HAS_SMIRKS=False), Chemical(UNIQUE_ID='PHE', COMMON_NAME='L-phenylalanine', SMILES='C([O-])(=O)[C@@H]([NH3+])CC1(\\\\C=C/C=C\\\\C=1)', INCHI='InChI=1S/C9H12NO2/c10-8(9(11)12)6-7-4-2-1-3-5-7/h1-5,8,11-12H,6,10H2', NON_STANDARD_INCHI='', HAS_NS_INCHI=False, HAS_SMILES=False, HAS_SMIRKS=False), Chemical(UNIQUE_ID='PRO', COMMON_NAME='L-proline', SMILES='C1([NH2+][C@H](C(=O)[O-])CC1)', INCHI='InChI=1S/C5H10NO2/c7-5(8)4-2-1-3-6-4/h4,6-8H,1-3H2', NON_STANDARD_INCHI='', HAS_NS_INCHI=False, HAS_SMILES=False, HAS_SMIRKS=False), Chemical(UNIQUE_ID='D-SERINE', COMMON_NAME='D-serine', SMILES='C(O)[C@@H]([NH3+])C(=O)[O-]', INCHI='InChI=1S/C3H7NO3/c4-2(1-5)3(6)7/h2,5H,1,4H2,(H,6,7)', NON_STANDARD_INCHI='', HAS_NS_INCHI=False, HAS_SMILES=False, HAS_SMIRKS=False), Chemical(UNIQUE_ID='THR', COMMON_NAME='L-threonine', SMILES='C[C@@H](O)[C@H]([NH3+])C(=O)[O-]', INCHI='InChI=1S/C4H9NO3/c1-2(6)3(5)4(7)8/h2-3,6H,5H2,1H3,(H,7,8)/t2-,3?/m1/s1', NON_STANDARD_INCHI='', HAS_NS_INCHI=False, HAS_SMILES=False, HAS_SMIRKS=False), Chemical(UNIQUE_ID='TRP', COMMON_NAME='L-tryptophan', SMILES='C1(\\\\NC2(/C=C\\\\C=C/C(/C(\\\\C[C@H]([NH3+])C(=O)[O-])=1)=2))', INCHI='InChI=1S/C11H13N2O2/c12-9(11(14)15)5-7-6-13-10-4-2-1-3-8(7)10/h1-4,6,9,13-15H,5,12H2', NON_STANDARD_INCHI='', HAS_NS_INCHI=False, HAS_SMILES=False, HAS_SMIRKS=False), Chemical(UNIQUE_ID='TYR', COMMON_NAME='L-tyrosine', SMILES='C([C@H](CC1(\\\\C=C/C(/O)=C\\\\C=1))[NH3+])(=O)[O-]', INCHI='InChI=1S/C9H12NO3/c10-8(9(12)13)5-6-1-3-7(11)4-2-6/h1-4,8,11-13H,5,10H2', NON_STANDARD_INCHI='', HAS_NS_INCHI=False, HAS_SMILES=False, HAS_SMIRKS=False), Chemical(UNIQUE_ID='VAL', COMMON_NAME='L-valine', SMILES='CC(C)[C@H]([NH3+])C([O-])=O', INCHI='InChI=1S/C5H12NO2/c1-3(2)4(6)5(7)8/h3-4,7-8H,6H2,1-2H3', NON_STANDARD_INCHI='', HAS_NS_INCHI=False, HAS_SMILES=False, HAS_SMIRKS=False), Chemical(UNIQUE_ID='THIAMINE-PYROPHOSPHATE', COMMON_NAME='thiamine diphosphate', SMILES='CC2(\\\\[N+](/CC1(\\\\C(\\\\N)=N/C(\\\\C)=N\\\\C=1))=C/SC(/CCOP([O-])(=O)OP([O-])(=O)[O-])=2)', INCHI='InChI=1S/C12H19N4O7P2S/c1-8-11(3-4-22-25(20,21)23-24(17,18)19)26-7-16(8)6-10-5-14-9(2)15-12(10)13/h5,7,10,13,15H,3-4,6H2,1-2H3,(H2-,17,18,19,20,21)', NON_STANDARD_INCHI='', HAS_NS_INCHI=False, HAS_SMILES=False, HAS_SMIRKS=False), Chemical(UNIQUE_ID='NADP', COMMON_NAME='NADP<sup>+</sup>', SMILES='C5(/C=C\\\\C(\\\\C(=O)N)=C/[N+](/[C@@H]1(O[C@@H]([C@H]([C@H]1O)O)COP(OP(OC[C@H]4(O[C@@H](N2(C3(\\\\C(\\\\N=C/2)=C(N)/N=C\\\\N=3)))[C@H](OP([O-])(=O)[O-])[C@H](O)4))(=O)[O-])(=O)[O-]))=5)', INCHI='InChI=1S/C21H29N7O17P3/c22-17-12-19(25-7-24-17)28(8-26-12)21-16(44-46(33,34)35)14(30)11(43-21)6-41-48(38,39)45-47(36,37)40-5-10-13(29)15(31)20(42-10)27-3-1-2-9(4-27)18(23)32/h1-4,7-8,10-11,13-16,20-21,29-32H,5-6,23H2,(H5-,22,24,25,33,34,35,36,37,38,39)/t10-,11-,13-,14-,15-,16-,20-,21-/m1/s1', NON_STANDARD_INCHI='', HAS_NS_INCHI=False, HAS_SMILES=False, HAS_SMIRKS=False), Chemical(UNIQUE_ID='NAD', COMMON_NAME='NAD<sup>+</sup>', SMILES='C5(/C(/C(N)=O)=C\\\\C=C/[N+](/[C@@H]4(O[C@H](COP(OP(OC[C@H]3(O[C@@H](N1(C2(\\\\C(\\\\N=C/1)=C(N)/N=C\\\\N=2)))[C@H](O)[C@H](O)3))(=O)[O-])(=O)[O-])[C@@H](O)[C@@H](O)4))=5)', INCHI='InChI=1S/C21H28N7O14P2/c22-17-12-19(25-7-24-17)28(8-26-12)21-16(32)14(30)11(41-21)6-39-44(36,37)42-43(34,35)38-5-10-13(29)15(31)20(40-10)27-3-1-2-9(4-27)18(23)33/h1-4,7-8,10-11,13-16,20-21,29-33H,5-6,23H2,(H3-,22,24,25,34,35,36,37)/t10-,11-,13-,14-,15-,16-,20-,21-/m1/s1', NON_STANDARD_INCHI='', HAS_NS_INCHI=False, HAS_SMILES=False, HAS_SMIRKS=False), Chemical(UNIQUE_ID='NADH', COMMON_NAME='NADH', SMILES='C1(/N(\\\\C=C/CC(/C(N)=O)=1)[C@@H]5(O[C@H](COP(OP(OC[C@H]4(O[C@@H](N2(C3(\\\\C(\\\\N=C/2)=C(N)/N=C\\\\N=3)))[C@H](O)[C@H](O)4))(=O)[O-])(=O)[O-])[C@@H](O)[C@@H](O)5))', INCHI='InChI=1S/C21H30N7O14P2/c22-17-12-19(25-7-24-17)28(8-26-12)21-16(32)14(30)11(41-21)6-39-44(36,37)42-43(34,35)38-5-10-13(29)15(31)20(40-10)27-3-1-2-9(4-27)18(23)33/h1,3-4,7-8,10-11,13-16,20-21,29-33H,2,5-6,23H2,(H,34,35)(H,36,37)(H2,22,24,25)/t10-,11-,13-,14-,15-,16-,20-,21-/m1/s1', NON_STANDARD_INCHI='', HAS_NS_INCHI=False, HAS_SMILES=False, HAS_SMIRKS=False), Chemical(UNIQUE_ID='NADPH', COMMON_NAME='NADPH', SMILES='C1(\\\\N(/C=C(C\\\\C=1)/C(=O)N)[C@@H]2(O[C@@H]([C@H]([C@H]2O)O)COP(OP(OC[C@H]5(O[C@@H](N3(C4(\\\\C(\\\\N=C/3)=C(N)/N=C\\\\N=4)))[C@H](OP([O-])(=O)[O-])[C@H](O)5))(=O)[O-])(=O)[O-]))', INCHI='InChI=1S/C21H31N7O17P3/c22-17-12-19(25-7-24-17)28(8-26-12)21-16(44-46(33,34)35)14(30)11(43-21)6-41-48(38,39)45-47(36,37)40-5-10-13(29)15(31)20(42-10)27-3-1-2-9(4-27)18(23)32/h1,3-4,7-8,10-11,13-16,20-21,29-32H,2,5-6,23H2,(H,36,37)(H,38,39)(H2,22,24,25)(H2,33,34,35)/t10-,11-,13-,14-,15-,16-,20-,21-/m1/s1', NON_STANDARD_INCHI='', HAS_NS_INCHI=False, HAS_SMILES=False, HAS_SMIRKS=False), Chemical(UNIQUE_ID='FAD', COMMON_NAME='FAD', SMILES='CC6(\\\\C=C5(C(/N(C[C@@H]([C@H](O)[C@H](O)COP(OP([O-])(OC[C@@H]3([C@@H](O)[C@@H](O)[C@H](N1(\\\\C=N/C2(C(/N)=N\\\\C=N/C1=2)))O3))=O)([O-])=O)O)C4(\\\\C(\\\\C(=O)[N-]C(=O)/N=4)=N/5))=C\\\\C(/C)=6))', INCHI='InChI=1S/C27H34N9O15P2/c1-10-3-12-13(4-11(10)2)35(24-18(32-12)25(42)34-27(43)33-24)5-14(37)19(39)15(38)6-48-52(44,45)51-53(46,47)49-7-16-20(40)21(41)26(50-16)36-9-31-17-22(28)29-8-30-23(17)36/h3-4,8-9,14-16,19-21,26,37-42H,5-7H2,1-2H3,(H5,28,29,30,34,43,44,45,46,47)/t14-,15+,16+,19-,20+,21+,26+/m0/s1', NON_STANDARD_INCHI='', HAS_NS_INCHI=False, HAS_SMILES=False, HAS_SMIRKS=False), Chemical(UNIQUE_ID='FADH2', COMMON_NAME='FADH<SUB>2</SUB>', SMILES='CC6(\\\\C=C1(C(/N(C2(/NC(NC(=O)C(\\\\N1)=2)=O))C[C@H](O)[C@H](O)[C@H](O)COP(OP([O-])(OC[C@@H]5([C@@H](O)[C@@H](O)[C@H](N3(\\\\C=N/C4(C(/N)=N\\\\C=N/C3=4)))O5))=O)([O-])=O)=C\\\\C(/C)=6))', INCHI='InChI=1S/C27H37N9O15P2/c1-10-3-12-13(4-11(10)2)35(24-18(32-12)25(42)34-27(43)33-24)5-14(37)19(39)15(38)6-48-52(44,45)51-53(46,47)49-7-16-20(40)21(41)26(50-16)36-9-31-17-22(28)29-8-30-23(17)36/h3-4,8-9,14-16,19-21,26,32-34,37-43H,5-7H2,1-2H3,(H,44,45)(H,46,47)(H2,28,29,30)/t14-,15+,16+,19-,20+,21+,26+/m0/s1', NON_STANDARD_INCHI='', HAS_NS_INCHI=False, HAS_SMILES=False, HAS_SMIRKS=False), Chemical(UNIQUE_ID='PYRIDOXAL_PHOSPHATE', COMMON_NAME=\"pyridoxal 5'-phosphate\", SMILES='CC1(/N=C\\\\C(\\\\COP(=O)([O-])[O-])=C(C(/O)=1)\\\\C=O)', INCHI='InChI=1S/C8H10NO6P/c1-5-8(11)7(3-10)6(2-9-5)4-15-16(12,13)14/h2-3,11H,4H2,1H3,(H2,12,13,14)', NON_STANDARD_INCHI='', HAS_NS_INCHI=False, HAS_SMILES=False, HAS_SMIRKS=False), Chemical(UNIQUE_ID='BIOTIN', COMMON_NAME='biotin', SMILES='C1(S[C@@H](CCCCC(=O)[O-])[C@H]2(NC(=O)N[C@@H]12))', INCHI='InChI=1S/C10H17N2O3S/c13-8(14)4-2-1-3-7-9-6(5-16-7)11-10(15)12-9/h6-7,9,11-12,15H,1-5H2,(H,13,14)/t6-,7-,9-/m0/s1', NON_STANDARD_INCHI='', HAS_NS_INCHI=False, HAS_SMILES=False, HAS_SMIRKS=False), Chemical(UNIQUE_ID='CO-A', COMMON_NAME='coenzyme A', SMILES='CC(C)(COP([O-])(=O)OP(OC[C@H]3(O[C@@H](N1(C2(\\\\N=C/N=C(C(\\\\N=C/1)=2)/N)))[C@H](O)[C@H](OP([O-])(=O)[O-])3))(=O)[O-])[C@@H](O)C(=O)NCCC(=O)NCCS', INCHI='InChI=1S/C21H38N7O16P3S/c1-21(2,16(31)19(32)24-4-3-12(29)23-5-6-48)8-41-47(38,39)44-46(36,37)40-7-11-15(43-45(33,34)35)14(30)20(42-11)28-10-27-13-17(22)25-9-26-18(13)28/h9-11,14-16,20,23-24,29-32,48H,3-8H2,1-2H3,(H,36,37)(H,38,39)(H2,22,25,26)(H2,33,34,35)/t11-,14-,15-,16+,20-/m1/s1', NON_STANDARD_INCHI='', HAS_NS_INCHI=False, HAS_SMILES=False, HAS_SMIRKS=False), Chemical(UNIQUE_ID='THF', COMMON_NAME='5,6,7,8-tetrahydrofolate', SMILES='C(NC1(\\\\C=C/C(/C(=O)N[C@H](C(=O)[O-])CCC([O-])=O)=C\\\\C=1))[C@H]2(CNC3(/N=C(N)\\\\NC(=O)C(/N2)=3))', INCHI='InChI=1S/C19H24N7O6/c20-19-25-15-14(17(30)26-19)23-11(8-22-15)7-21-10-3-1-9(2-4-10)16(29)24-12(18(31)32)5-6-13(27)28/h1-4,11-12,21-23,30H,5-8H2,(H,24,29)(H,27,28)(H,31,32)(H3,20,25,26)/t11-,12?/m0/s1', NON_STANDARD_INCHI='', HAS_NS_INCHI=False, HAS_SMILES=False, HAS_SMIRKS=False), Chemical(UNIQUE_ID='ASCORBATE', COMMON_NAME='L-ascorbate', SMILES='C(O)[C@H](O)[C@@H]1(C(\\\\[O-])=C(C(=O)O1)\\\\O)', INCHI='InChI=1S/C6H9O6/c7-1-2(8)5-3(9)4(10)6(11)12-5/h2-3,5,7-10H,1H2/t2-,3?,5+/m0/s1', NON_STANDARD_INCHI='', HAS_NS_INCHI=False, HAS_SMILES=False, HAS_SMIRKS=False), Chemical(UNIQUE_ID='TETRA-H-BIOPTERIN', COMMON_NAME='5,6,7,8-tetrahydrobiopterin', SMILES='CC(O)C(O)[C@H]1(CNC2(/N=C(N)\\\\NC(C(/N1)=2)=O))', INCHI='InChI=1S/C9H16N5O3/c1-3(15)6(16)4-2-11-7-5(12-4)8(17)14-9(10)13-7/h3-4,6,11-12,15-17H,2H2,1H3,(H3,10,13,14)/t3?,4-,6?/m1/s1', NON_STANDARD_INCHI='', HAS_NS_INCHI=False, HAS_SMILES=False, HAS_SMIRKS=False), Chemical(UNIQUE_ID='S-ADENOSYLMETHIONINE', COMMON_NAME='<i>S</i>-adenosyl-L-methionine', SMILES='C[S+](C[C@H]3(O[C@@H](N1(C2(\\\\C(\\\\N=C/1)=C(N)/N=C\\\\N=2)))[C@H](O)[C@H](O)3))CC[C@@H](C(=O)[O-])[NH3+]', INCHI='InChI=1S/C15H22N6O5S/c1-27(3-2-7(16)15(24)25)4-8-10(22)11(23)14(26-8)21-6-20-9-12(17)18-5-19-13(9)21/h5-8,10-11,14,22-23H,2-4,16H2,1H3,(H2-,17,18,19,24,25)/p+1/t7?,8-,10-,11-,14-,27+/m1/s1', NON_STANDARD_INCHI='', HAS_NS_INCHI=False, HAS_SMILES=False, HAS_SMIRKS=False), Chemical(UNIQUE_ID='CPD0-2554', COMMON_NAME='(<i>R</i>)-S-adenosyl-L-methionine', SMILES='C[S+](C[C@H]3(O[C@@H](N1(C2(\\\\C(\\\\N=C/1)=C(N)/N=C\\\\N=2)))[C@H](O)[C@H](O)3))CC[C@@H](C(=O)[O-])[NH3+]', INCHI='InChI=1S/C15H22N6O5S/c1-27(3-2-7(16)15(24)25)4-8-10(22)11(23)14(26-8)21-6-20-9-12(17)18-5-19-13(9)21/h5-8,10-11,14,22-23H,2-4,16H2,1H3,(H2-,17,18,19,24,25)/p+1/t7?,8-,10-,11-,14-,27-/m1/s1', NON_STANDARD_INCHI='', HAS_NS_INCHI=False, HAS_SMILES=False, HAS_SMIRKS=False), Chemical(UNIQUE_ID='CPD-12575', COMMON_NAME='UDP-&alpha;-D-glucose', SMILES='C(O)[C@@H]1([C@@H](O)[C@H](O)[C@@H](O)[C@H](O1)OP(OP(OC[C@@H]3([C@H]([C@H]([C@H](N2(\\\\C=C/C(=O)NC2=O))O3)O)O))(=O)[O-])(=O)[O-])', INCHI='InChI=1S/C15H25N2O17P2/c18-3-5-8(20)10(22)12(24)14(32-5)33-36(28,29)34-35(26,27)30-4-6-9(21)11(23)13(31-6)17-2-1-7(19)16-15(17)25/h1-2,5-6,8-14,18-24H,3-4H2,(H,16,25)(H,26,27)(H,28,29)/t5-,6-,8-,9-,10+,11-,12-,13-,14-/m1/s1', NON_STANDARD_INCHI='', HAS_NS_INCHI=False, HAS_SMILES=False, HAS_SMIRKS=False), Chemical(UNIQUE_ID='APS', COMMON_NAME=\"adenosine 5'-phosphosulfate\", SMILES='C(OP([O-])(OS(=O)([O-])=O)=O)[C@H]3(O[C@@H](N1(C2(\\\\C(\\\\N=C/1)=C(N)/N=C\\\\N=2)))[C@H](O)[C@H](O)3)', INCHI='InChI=1S/C10H14N5O10PS/c11-8-5-9(13-2-12-8)15(3-14-5)10-7(17)6(16)4(24-10)1-23-26(18,19)25-27(20,21)22/h2-4,6-7,10,16-17H,1H2,(H,18,19)(H2,11,12,13)(H,20,21,22)/t4-,6-,7-,10-/m1/s1', NON_STANDARD_INCHI='', HAS_NS_INCHI=False, HAS_SMILES=False, HAS_SMIRKS=False), Chemical(UNIQUE_ID='ATP', COMMON_NAME='ATP', SMILES='C(OP(=O)([O-])OP(=O)([O-])OP(=O)([O-])[O-])[C@H]3(O[C@@H](N1(C2(\\\\C(\\\\N=C/1)=C(N)/N=C\\\\N=2)))[C@H](O)[C@H](O)3)', INCHI='InChI=1S/C10H16N5O13P3/c11-8-5-9(13-2-12-8)15(3-14-5)10-7(17)6(16)4(26-10)1-25-30(21,22)28-31(23,24)27-29(18,19)20/h2-4,6-7,10,16-17H,1H2,(H,21,22)(H,23,24)(H2,11,12,13)(H2,18,19,20)/t4-,6-,7-,10-/m1/s1', NON_STANDARD_INCHI='', HAS_NS_INCHI=False, HAS_SMILES=False, HAS_SMIRKS=False), Chemical(UNIQUE_ID='CTP', COMMON_NAME='CTP', SMILES='C(OP(OP(OP(=O)([O-])[O-])([O-])=O)(=O)[O-])[C@@H]2([C@H]([C@H]([C@H](N1(\\\\C=C/C(/N)=N\\\\C1=O))O2)O)O)', INCHI='InChI=1S/C9H17N3O14P3/c10-5-1-2-12(9(15)11-5)8-7(14)6(13)4(24-8)3-23-28(19,20)26-29(21,22)25-27(16,17)18/h1-2,4,6-8,13-15H,3H2,(H2,10,11)(H,19,20)(H,21,22)(H2,16,17,18)/t4-,6-,7-,8-/m1/s1', NON_STANDARD_INCHI='', HAS_NS_INCHI=False, HAS_SMILES=False, HAS_SMIRKS=False), Chemical(UNIQUE_ID='GTP', COMMON_NAME='GTP', SMILES='C(OP(=O)([O-])OP(=O)([O-])OP(=O)([O-])[O-])[C@H]3(O[C@@H](N1(C2(\\\\N=C(N)/NC(=O)C(\\\\N=C/1)=2)))[C@H](O)[C@H](O)3)', INCHI='InChI=1S/C10H17N5O14P3/c11-10-13-7-4(8(18)14-10)12-2-15(7)9-6(17)5(16)3(27-9)1-26-31(22,23)29-32(24,25)28-30(19,20)21/h2-3,5-6,9,16-18H,1H2,(H,22,23)(H,24,25)(H3,11,13,14)(H2,19,20,21)/t3-,5-,6-,9-/m1/s1', NON_STANDARD_INCHI='', HAS_NS_INCHI=False, HAS_SMILES=False, HAS_SMIRKS=False), Chemical(UNIQUE_ID='UTP', COMMON_NAME='UTP', SMILES='C(OP(=O)([O-])OP(=O)([O-])OP(=O)([O-])[O-])[C@H]2(O[C@@H](N1(\\\\C=C/C(=O)NC1=O))[C@H](O)[C@H](O)2)', INCHI='InChI=1S/C9H16N2O15P3/c12-5-1-2-11(9(15)10-5)8-7(14)6(13)4(24-8)3-23-28(19,20)26-29(21,22)25-27(16,17)18/h1-2,4,6-8,12-14H,3H2,(H,10,15)(H,19,20)(H,21,22)(H2,16,17,18)/t4-,6-,7-,8-/m1/s1', NON_STANDARD_INCHI='', HAS_NS_INCHI=False, HAS_SMILES=False, HAS_SMIRKS=False), Chemical(UNIQUE_ID='DATP', COMMON_NAME='dATP', SMILES='C(OP(=O)([O-])OP(=O)([O-])OP(=O)([O-])[O-])[C@H]3(O[C@@H](N1(C2(\\\\C(\\\\N=C/1)=C(N)/N=C\\\\N=2)))C[C@H](O)3)', INCHI='InChI=1S/C10H16N5O12P3/c11-9-8-10(13-3-12-9)15(4-14-8)7-1-5(16)6(25-7)2-24-29(20,21)27-30(22,23)26-28(17,18)19/h3-7,16H,1-2H2,(H,20,21)(H,22,23)(H2,11,12,13)(H2,17,18,19)/t5-,6+,7+/m0/s1', NON_STANDARD_INCHI='', HAS_NS_INCHI=False, HAS_SMILES=False, HAS_SMIRKS=False), Chemical(UNIQUE_ID='DCTP', COMMON_NAME='dCTP', SMILES='C(OP(OP(=O)([O-])OP(=O)([O-])[O-])(=O)[O-])[C@@H]2([C@H](C[C@H](N1(C(/N=C(\\\\C=C/1)/N)=O))O2)O)', INCHI='InChI=1S/C9H17N3O13P3/c10-7-1-2-12(9(14)11-7)8-3-5(13)6(23-8)4-22-27(18,19)25-28(20,21)24-26(15,16)17/h1-2,5-6,8,13-14H,3-4H2,(H2,10,11)(H,18,19)(H,20,21)(H2,15,16,17)/t5-,6+,8+/m0/s1', NON_STANDARD_INCHI='', HAS_NS_INCHI=False, HAS_SMILES=False, HAS_SMIRKS=False), Chemical(UNIQUE_ID='DGTP', COMMON_NAME='dGTP', SMILES='C(OP(=O)([O-])OP(=O)([O-])OP(=O)([O-])[O-])[C@H]3(O[C@@H](N1(C2(\\\\N=C(N)/NC(=O)C(\\\\N=C/1)=2)))C[C@H](O)3)', INCHI='InChI=1S/C10H17N5O13P3/c11-10-13-8-7(9(17)14-10)12-3-15(8)6-1-4(16)5(26-6)2-25-30(21,22)28-31(23,24)27-29(18,19)20/h3-6,16-17H,1-2H2,(H,21,22)(H,23,24)(H3,11,13,14)(H2,18,19,20)/t4-,5+,6+/m0/s1', NON_STANDARD_INCHI='', HAS_NS_INCHI=False, HAS_SMILES=False, HAS_SMIRKS=False), Chemical(UNIQUE_ID='TTP', COMMON_NAME='dTTP', SMILES='CC1(\\\\C(=O)NC(=O)N(\\\\C=1)[C@H]2(C[C@H](O)[C@@H](COP(=O)([O-])OP(=O)([O-])OP(=O)([O-])[O-])O2))', INCHI='InChI=1S/C10H18N2O14P3/c1-5-3-12(10(15)11-9(5)14)8-2-6(13)7(24-8)4-23-28(19,20)26-29(21,22)25-27(16,17)18/h3,6-8,13-14H,2,4H2,1H3,(H,11,15)(H,19,20)(H,21,22)(H2,16,17,18)/t6-,7+,8+/m0/s1', NON_STANDARD_INCHI='', HAS_NS_INCHI=False, HAS_SMILES=False, HAS_SMIRKS=False), Chemical(UNIQUE_ID='OXALACETIC_ACID', COMMON_NAME='oxaloacetate', SMILES='C(C([O-])=O)C(=O)C([O-])=O', INCHI='InChI=1S/C4H5O5/c5-2(4(8)9)1-3(6)7/h8-9H,1H2,(H,6,7)', NON_STANDARD_INCHI='', HAS_NS_INCHI=False, HAS_SMILES=False, HAS_SMIRKS=False), Chemical(UNIQUE_ID='DELTA3-ISOPENTENYL-PP', COMMON_NAME='3-methylbut-3-en-1-yl diphosphate', SMILES='C=C(C)CCOP([O-])(=O)OP([O-])(=O)[O-]', INCHI='InChI=1S/C5H12O7P2/c1-5(2)3-4-11-14(9,10)12-13(6,7)8/h1,3-4H2,2H3,(H,9,10)(H2,6,7,8)', NON_STANDARD_INCHI='', HAS_NS_INCHI=False, HAS_SMILES=False, HAS_SMIRKS=False), Chemical(UNIQUE_ID='FARNESYL-PP', COMMON_NAME='(2<i>E</i>,6<i>E</i>)-farnesyl diphosphate', SMILES='CC(C)=CCCC(\\\\C)=C/CCC(\\\\C)=C/COP(OP([O-])(=O)[O-])(=O)[O-]', INCHI='InChI=1S/C15H28O7P2/c1-13(2)7-5-8-14(3)9-6-10-15(4)11-12-21-24(19,20)22-23(16,17)18/h7,9,11H,5-6,8,10,12H2,1-4H3,(H,19,20)(H2,16,17,18)/b14-9+,15-11+', NON_STANDARD_INCHI='', HAS_NS_INCHI=False, HAS_SMILES=False, HAS_SMIRKS=False), Chemical(UNIQUE_ID='GERANYL-PP', COMMON_NAME='geranyl diphosphate', SMILES='CC(C)=CCCC(\\\\C)=C/COP([O-])(OP(=O)([O-])[O-])=O', INCHI='InChI=1S/C10H20O7P2/c1-9(2)5-4-6-10(3)7-8-16-19(14,15)17-18(11,12)13/h5,7H,4,6,8H2,1-3H3,(H,14,15)(H2,11,12,13)/b10-7+', NON_STANDARD_INCHI='', HAS_NS_INCHI=False, HAS_SMILES=False, HAS_SMIRKS=False)] \n",
            " 73\n",
            "InChI strings still unresolved after standardization: ['InChI=1S/Mo/q+1', 'InChI=1S/Mo/q+2', 'InChI=1S/Mo/q+6', 'InChI=1S/Ni/q+1', 'InChI=1S/HI/h1H/p-1', 'InChI=1S/C12H18N4O7P2S/c1-8-11(3-4-22-25(20,21)23-24(17,18)19)26-7-16(8)6-10-5-14-9(2)15-12(10)13/h5,7H,3-4,6H2,1-2H3,(H4-,13,14,15,17,18,19,20,21)/p+1', 'InChI=1S/C21H27N7O14P2/c22-17-12-19(25-7-24-17)28(8-26-12)21-16(32)14(30)11(41-21)6-39-44(36,37)42-43(34,35)38-5-10-13(29)15(31)20(40-10)27-3-1-2-9(4-27)18(23)33/h1-4,7-8,10-11,13-16,20-21,29-32H,5-6H2,(H5-,22,23,24,25,33,34,35,36,37)/p+1/t10-,11-,13-,14-,15-,16-,20-,21-/m1/s1', 'InChI=1S/C27H33N9O15P2/c1-10-3-12-13(4-11(10)2)35(24-18(32-12)25(42)34-27(43)33-24)5-14(37)19(39)15(38)6-48-52(44,45)51-53(46,47)49-7-16-20(40)21(41)26(50-16)36-9-31-17-22(28)29-8-30-23(17)36/h3-4,8-9,14-16,19-21,26,37-41H,5-7H2,1-2H3,(H,44,45)(H,46,47)(H2,28,29,30)(H,34,42,43)/t14-,15+,16+,19-,20+,21+,26+/m0/s1', 'InChI=1S/C27H33N9O15P2/c1-10-3-12-13(4-11(10)2)35(24-18(32-12)25(42)34-27(43)33-24)5-14(37)19(39)15(38)6-48-52(44,45)51-53(46,47)49-7-16-20(40)21(41)26(50-16)36-9-31-17-22(28)29-8-30-23(17)36/h3-4,8-9,14-16,19-21,26,37-41H,5-7H2,1-2H3,(H5,28,29,30,34,42,43,44,45,46,47)/t14-,15+,16+,19-,20+,21+,26+/m0/s1', 'InChI=1S/C19H23N7O6/c20-19-25-15-14(17(30)26-19)23-11(8-22-15)7-21-10-3-1-9(2-4-10)16(29)24-12(18(31)32)5-6-13(27)28/h1-4,11-12,21,23H,5-8H2,(H,24,29)(H,27,28)(H,31,32)(H4,20,22,25,26,30)/t11+,12-/m0/s1', 'InChI=1S/C54H82O4/c1-40(2)22-14-23-41(3)24-15-25-42(4)26-16-27-43(5)28-17-29-44(6)30-18-31-45(7)32-19-33-46(8)34-20-35-47(9)36-21-37-48(10)38-39-50-49(11)51(55)53(57-12)54(58-13)52(50)56/h22,24,26,28,30,32,34,36,38H,14-21,23,25,27,29,31,33,35,37,39H2,1-13H3/b41-24+,42-26+,43-28+,44-30+,45-32+,46-34+,47-36+,48-38+', 'InChI=1S/C59H92O4/c1-44(2)24-15-25-45(3)26-16-27-46(4)28-17-29-47(5)30-18-31-48(6)32-19-33-49(7)34-20-35-50(8)36-21-37-51(9)38-22-39-52(10)40-23-41-53(11)42-43-55-54(12)56(60)58(62-13)59(63-14)57(55)61/h24,26,28,30,32,34,36,38,40,42,60-61H,15-23,25,27,29,31,33,35,37,39,41,43H2,1-14H3/b45-26+,46-28+,47-30+,48-32+,49-34+,50-36+,51-38+,52-40+,53-42+', '', 'InChI=1S/C9H15N5O3/c1-3(15)6(16)4-2-11-7-5(12-4)8(17)14-9(10)13-7/h3-4,6,12,15-16H,2H2,1H3,(H4,10,11,13,14,17)', 'InChI=1S/C20H36O7P2/c1-17(2)9-6-10-18(3)11-7-12-19(4)13-8-14-20(5)15-16-26-29(24,25)27-28(21,22)23/h9,11,13,15H,6-8,10,12,14,16H2,1-5H3,(H,24,25)(H2,21,22,23)/b18-11+,19-13+,20-15+'] \n",
            " 15\n",
            "Glucopyranose: D-glucopyranose\n",
            "AMMONIUM: ammonium\n",
            "NA+: Na<SUP>+</SUP>\n",
            "K+: K<SUP>+</SUP>\n",
            "CA+2: Ca<SUP>2+</SUP>\n",
            "MG+2: Mg<SUP>2+</SUP>\n",
            "CU+2: Cu<SUP>2+</SUP>\n",
            "FE+3: Fe<SUP>3+</SUP>\n",
            "MN+2: Mn<SUP>2+</SUP>\n",
            "NI+2: Ni<sup>2+</sup>\n",
            "ZN+2: Zn<SUP>2+</SUP>\n",
            "CO+2: Co<SUP>2+</SUP>\n",
            "SULFATE: sulfate\n",
            "HCO3: hydrogen carbonate\n",
            "PROTON: H<SUP>+</SUP>\n",
            "WATER: H<sub>2</sub>O\n",
            "CPD-7046: S<sup>2-</sup>\n",
            "CL-: chloride\n",
            "BR-: bromide\n",
            "F-: fluoride\n",
            "Pi: phosphate\n",
            "WATER: H<sub>2</sub>O\n",
            "CARBON-DIOXIDE: CO<SUB>2</SUB>\n",
            "OXYGEN-MOLECULE: dioxygen\n",
            "L-ALPHA-ALANINE: L-alanine\n",
            "ARG: L-arginine\n",
            "ASN: L-asparagine\n",
            "L-ASPARTATE: L-aspartate\n",
            "CYS: L-cysteine\n",
            "GLN: L-glutamine\n",
            "GLT: L-glutamate\n",
            "GLY: glycine\n",
            "HIS: L-histidine\n",
            "ILE: L-isoleucine\n",
            "LEU: L-leucine\n",
            "LYS: L-lysine\n",
            "CPD-218: D-methionine\n",
            "PHE: L-phenylalanine\n",
            "PRO: L-proline\n",
            "D-SERINE: D-serine\n",
            "THR: L-threonine\n",
            "TRP: L-tryptophan\n",
            "TYR: L-tyrosine\n",
            "VAL: L-valine\n",
            "THIAMINE-PYROPHOSPHATE: thiamine diphosphate\n",
            "NADP: NADP<sup>+</sup>\n",
            "NAD: NAD<sup>+</sup>\n",
            "NADH: NADH\n",
            "NADPH: NADPH\n",
            "FAD: FAD\n",
            "FADH2: FADH<SUB>2</SUB>\n",
            "PYRIDOXAL_PHOSPHATE: pyridoxal 5'-phosphate\n",
            "BIOTIN: biotin\n",
            "CO-A: coenzyme A\n",
            "THF: 5,6,7,8-tetrahydrofolate\n",
            "ASCORBATE: L-ascorbate\n",
            "TETRA-H-BIOPTERIN: 5,6,7,8-tetrahydrobiopterin\n",
            "S-ADENOSYLMETHIONINE: <i>S</i>-adenosyl-L-methionine\n",
            "CPD0-2554: (<i>R</i>)-S-adenosyl-L-methionine\n",
            "CPD-12575: UDP-&alpha;-D-glucose\n",
            "APS: adenosine 5'-phosphosulfate\n",
            "ATP: ATP\n",
            "CTP: CTP\n",
            "GTP: GTP\n",
            "UTP: UTP\n",
            "DATP: dATP\n",
            "DCTP: dCTP\n",
            "DGTP: dGTP\n",
            "TTP: dTTP\n",
            "OXALACETIC_ACID: oxaloacetate\n",
            "DELTA3-ISOPENTENYL-PP: 3-methylbut-3-en-1-yl diphosphate\n",
            "FARNESYL-PP: (2<i>E</i>,6<i>E</i>)-farnesyl diphosphate\n",
            "GERANYL-PP: geranyl diphosphate\n"
          ]
        }
      ],
      "source": [
        "updated_native_chemicals = []\n",
        "unresolved_metabolites = []\n",
        "\n",
        "for native_inchi in native_inchis:\n",
        "    standardized_inchi = std(native_inchi)  # Standardize each native InChI\n",
        "    if standardized_inchi in chemicals_by_inchi:\n",
        "        updated_native_chemicals.append(chemicals_by_inchi[standardized_inchi]) #updated_native_chemicals is now a list of chemical objects for native chemicals\n",
        "    else:\n",
        "        unresolved_metabolites.append(native_inchi)  # Log unresolved metabolites\n",
        "\n",
        "print(\"InChI strings found after standardization:\", updated_native_chemicals, \"\\n\", len(updated_native_chemicals))\n",
        "print(\"InChI strings still unresolved after standardization:\", unresolved_metabolites, \"\\n\", len(unresolved_metabolites))\n",
        "for chem_obj in updated_native_chemicals:\n",
        "  print(f\"{chem_obj.UNIQUE_ID}: {chem_obj.COMMON_NAME}\")\n"
      ]
    },
    {
      "cell_type": "markdown",
      "metadata": {
        "id": "sjskIcRkgowo"
      },
      "source": [
        "###Troubleshooting Unresolved Metabolites"
      ]
    },
    {
      "cell_type": "markdown",
      "source": [
        "This code just aims to figure out the metadata of the unresolved metabolites."
      ],
      "metadata": {
        "id": "8pMhwCy3-M89"
      }
    },
    {
      "cell_type": "code",
      "execution_count": 34,
      "metadata": {
        "colab": {
          "base_uri": "https://localhost:8080/"
        },
        "id": "I-2EJ5cdgjb9",
        "outputId": "b8c6ef3a-500f-4dfa-fd26-56c47920643a"
      },
      "outputs": [
        {
          "output_type": "stream",
          "name": "stdout",
          "text": [
            "Names of Unmatched Metabolites: ['molybdenum (+1)', 'molybdenum (+2)', 'molybdenum (+6)', 'nickel (+1)', 'iodide', 'thiamine pyrophosphate (p+1)', 'NAD+ (p+1)', 'FAD', 'FAD (3)', 'tetrahydrofolic acid (t11+)', 'ubiquinone-9', 'ubiquinol', 'heme', 'tetrahydrobiopterin', 'GGPP']\n",
            "('Names of Unmatched Metabolites with InChI:', {'molybdenum (+1)': 'InChI=1S/Mo/q+1', 'molybdenum (+2)': 'InChI=1S/Mo/q+2', 'molybdenum (+6)': 'InChI=1S/Mo/q+6', 'nickel (+1)': 'InChI=1S/Ni/q+1', 'iodide': 'InChI=1S/HI/h1H/p-1', 'thiamine pyrophosphate (p+1)': 'InChI=1S/C12H18N4O7P2S/c1-8-11(3-4-22-25(20,21)23-24(17,18)19)26-7-16(8)6-10-5-14-9(2)15-12(10)13/h5,7H,3-4,6H2,1-2H3,(H4-,13,14,15,17,18,19,20,21)/p+1', 'NAD+ (p+1)': 'InChI=1S/C21H27N7O14P2/c22-17-12-19(25-7-24-17)28(8-26-12)21-16(32)14(30)11(41-21)6-39-44(36,37)42-43(34,35)38-5-10-13(29)15(31)20(40-10)27-3-1-2-9(4-27)18(23)33/h1-4,7-8,10-11,13-16,20-21,29-32H,5-6H2,(H5-,22,23,24,25,33,34,35,36,37)/p+1/t10-,11-,13-,14-,15-,16-,20-,21-/m1/s1', 'FAD': 'InChI=1S/C27H33N9O15P2/c1-10-3-12-13(4-11(10)2)35(24-18(32-12)25(42)34-27(43)33-24)5-14(37)19(39)15(38)6-48-52(44,45)51-53(46,47)49-7-16-20(40)21(41)26(50-16)36-9-31-17-22(28)29-8-30-23(17)36/h3-4,8-9,14-16,19-21,26,37-41H,5-7H2,1-2H3,(H,44,45)(H,46,47)(H2,28,29,30)(H,34,42,43)/t14-,15+,16+,19-,20+,21+,26+/m0/s1', 'FAD (3)': 'InChI=1S/C27H33N9O15P2/c1-10-3-12-13(4-11(10)2)35(24-18(32-12)25(42)34-27(43)33-24)5-14(37)19(39)15(38)6-48-52(44,45)51-53(46,47)49-7-16-20(40)21(41)26(50-16)36-9-31-17-22(28)29-8-30-23(17)36/h3-4,8-9,14-16,19-21,26,37-41H,5-7H2,1-2H3,(H5,28,29,30,34,42,43,44,45,46,47)/t14-,15+,16+,19-,20+,21+,26+/m0/s1', 'tetrahydrofolic acid (t11+)': 'InChI=1S/C19H23N7O6/c20-19-25-15-14(17(30)26-19)23-11(8-22-15)7-21-10-3-1-9(2-4-10)16(29)24-12(18(31)32)5-6-13(27)28/h1-4,11-12,21,23H,5-8H2,(H,24,29)(H,27,28)(H,31,32)(H4,20,22,25,26,30)/t11+,12-/m0/s1', 'ubiquinone-9': 'InChI=1S/C54H82O4/c1-40(2)22-14-23-41(3)24-15-25-42(4)26-16-27-43(5)28-17-29-44(6)30-18-31-45(7)32-19-33-46(8)34-20-35-47(9)36-21-37-48(10)38-39-50-49(11)51(55)53(57-12)54(58-13)52(50)56/h22,24,26,28,30,32,34,36,38H,14-21,23,25,27,29,31,33,35,37,39H2,1-13H3/b41-24+,42-26+,43-28+,44-30+,45-32+,46-34+,47-36+,48-38+', 'ubiquinol': 'InChI=1S/C59H92O4/c1-44(2)24-15-25-45(3)26-16-27-46(4)28-17-29-47(5)30-18-31-48(6)32-19-33-49(7)34-20-35-50(8)36-21-37-51(9)38-22-39-52(10)40-23-41-53(11)42-43-55-54(12)56(60)58(62-13)59(63-14)57(55)61/h24,26,28,30,32,34,36,38,40,42,60-61H,15-23,25,27,29,31,33,35,37,39,41,43H2,1-14H3/b45-26+,46-28+,47-30+,48-32+,49-34+,50-36+,51-38+,52-40+,53-42+', 'heme': '', 'tetrahydrobiopterin': 'InChI=1S/C9H15N5O3/c1-3(15)6(16)4-2-11-7-5(12-4)8(17)14-9(10)13-7/h3-4,6,12,15-16H,2H2,1H3,(H4,10,11,13,14,17)', 'GGPP': 'InChI=1S/C20H36O7P2/c1-17(2)9-6-10-18(3)11-7-12-19(4)13-8-14-20(5)15-16-26-29(24,25)27-28(21,22)23/h9,11,13,15H,6-8,10,12,14,16H2,1-5H3,(H,24,25)(H2,21,22,23)/b18-11+,19-13+,20-15+'})\n"
          ]
        }
      ],
      "source": [
        "def load_metabolites_dict(file_path):\n",
        "    metabolites_named_inchis = {}\n",
        "    with open(file_path, 'r') as file:\n",
        "        lines = file.read().splitlines()  # Read the whole file as a string and split into lines\n",
        "    for i in range(1, len(lines)):  # Start from 1 to skip the header\n",
        "        parts = lines[i].split('\\t') # Split each line at tab characters, resulting in a list of values\n",
        "        name = parts[0]\n",
        "        inchi = parts[1]\n",
        "        inchi = inchi.replace('\"','') # Remove any double quotes from the InChI string for standardization\n",
        "        metabolites_named_inchis[name]=inchi # Add name as key and the cleaned InChI string as value to the named metabolite InChIs dictionary\n",
        "\n",
        "    return metabolites_named_inchis\n",
        "\n",
        "minimal_named_inchis = load_metabolites_dict('minimal_metabolites_02-24.txt') #Call the function. Dictionary is now titled minimal_inchis\n",
        "universal_named_inchis = load_metabolites_dict('universal_metabolites_03-24.txt')\n",
        "native_named_inchis = {**minimal_named_inchis, **universal_named_inchis} #Merges both dictionaries with values from universal_named_inchis overriding those from minimal_named_inchis if there are duplicate keys.\n",
        "\n",
        "not_found_metabolite_names = []  # List to store keys whose values match the InChI strings in not_found_inchis\n",
        "for inchi in unresolved_metabolites:\n",
        "    # Iterate over each key-value pair in the native_named_inchis dictionary\n",
        "    for key, value in native_named_inchis.items():\n",
        "        if inchi == value:\n",
        "            not_found_metabolite_names.append(key)\n",
        "\n",
        "not_found_metabolite_dict = {}  # List to store keys whose values match the InChI strings in not_found_inchis\n",
        "for inchi in unresolved_metabolites:\n",
        "    # Iterate over each key-value pair in the native_named_inchis dictionary\n",
        "    for key, value in native_named_inchis.items():\n",
        "        if inchi == value:\n",
        "            not_found_metabolite_dict[key] = value\n",
        "\n",
        "print(\"Names of Unmatched Metabolites:\", not_found_metabolite_names)\n",
        "print((\"Names of Unmatched Metabolites with InChI:\", not_found_metabolite_dict))"
      ]
    },
    {
      "cell_type": "markdown",
      "metadata": {
        "id": "-D_QTV0NtO_6"
      },
      "source": [
        "# Synthesis"
      ]
    },
    {
      "cell_type": "markdown",
      "metadata": {
        "id": "J2SJVci6vy-r"
      },
      "source": [
        "Comparing this to Steury Synthesis:\n",
        "\n",
        "**Initialization**:\n",
        "\n",
        "Steury: Had an empty initiate method, suggesting it was intended for future implementation or customization.\n",
        "\n",
        "Mine: Includes a defined __init__ method initializing the list for reactions and dictionary for the chemicals, reflecting a more structured approach to managing synthesis data.\n",
        "\n"
      ]
    },
    {
      "cell_type": "code",
      "execution_count": 39,
      "metadata": {
        "colab": {
          "base_uri": "https://localhost:8080/"
        },
        "id": "2ADPxtpWOLjF",
        "outputId": "eca58559-151e-4121-9c15-f07306224be8"
      },
      "outputs": [
        {
          "output_type": "stream",
          "name": "stdout",
          "text": [
            "1\n",
            "2\n",
            "3\n",
            "4\n",
            "5\n",
            "6\n",
            "7\n",
            "8\n",
            "9\n",
            "10\n",
            "11\n",
            "12\n",
            "13\n",
            "14\n",
            "15\n",
            "16\n",
            "17\n",
            "18\n",
            "19\n",
            "20\n",
            "Total Size of Chemical to Shell: 600\n",
            "Total Size of Reaction to Shell: 1450\n"
          ]
        }
      ],
      "source": [
        "# HyperGraph class to store relationships and states of chemicals and reactions\n",
        "class HyperGraph:\n",
        "    def __init__(self):\n",
        "        self.reaction_to_shell = {}  # Dictionary mapping each reaction to its respective shell (depth level in the synthesis)\n",
        "        self.chemical_to_shell = {}  # Dictionary mapping each chemical to its respective shell\n",
        "        self.chemical_to_cascade = {}  # Additional data structure, if needed\n",
        "        self.chemical_to_pathway = {}  # Additional data structure, if needed\n",
        "\n",
        "# Synthesizer class handling the synthesis algorithm\n",
        "class Synthesizer:\n",
        "    def __init__(self):\n",
        "        self.curr_shell = 0\n",
        "        self.all_reactions = []  # This will be populated with Reaction objects\n",
        "        self.all_chemicals = {}  # Dictionary: Key = standardized InChI, Value = Chemical object\n",
        "        self.chemical_to_shell = {}  # Now tracking Chemical objects directly\n",
        "        self.reaction_to_shell = {}\n",
        "\n",
        "    # Main method to run the synthesis process\n",
        "    def run(self, reactions_list, chemicals_by_inchi, updated_native_chemicals):\n",
        "        self.curr_shell = 0\n",
        "        self.all_reactions = reactions_list\n",
        "        self.all_chemicals = chemicals_by_inchi\n",
        "\n",
        "        #log native chemicals into shell 0\n",
        "        for native_chem in updated_native_chemicals:\n",
        "          self.chemical_to_shell[native_chem] = 0\n",
        "\n",
        "        # Expand the synthesis process shell by shell\n",
        "        while self._expand_once():\n",
        "            print(self.curr_shell)\n",
        "\n",
        "        # Compile results in a HyperGraph object\n",
        "        output = HyperGraph()\n",
        "        output.chemical_to_shell = self.chemical_to_shell\n",
        "        output.reaction_to_shell = self.reaction_to_shell\n",
        "        return output\n",
        "\n",
        "    def _expand_once(self):\n",
        "        self.curr_shell += 1\n",
        "        is_expanded = False\n",
        "\n",
        "        # Temporary storage for reactions enabled in this iteration\n",
        "        enabled_reactions = []\n",
        "\n",
        "        # Iterate through all reactions\n",
        "        for reaction in self.all_reactions:\n",
        "            # Skip if the reaction has already been put in the expansion\n",
        "            if reaction in self.reaction_to_shell:\n",
        "                continue\n",
        "\n",
        "            # Check if all substrates are available in previous shells\n",
        "            substrates_available = all(\n",
        "                self.chemical_to_shell.get(substrate) is not None and\n",
        "                self.chemical_to_shell[substrate] < self.curr_shell  # Ensure substrates were available before current shell\n",
        "                for substrate in reaction.SUBSTRATES\n",
        "            )\n",
        "\n",
        "            if substrates_available:\n",
        "                is_expanded = True\n",
        "                # Temporarily store the reaction as enabled\n",
        "                enabled_reactions.append(reaction)\n",
        "\n",
        "        # After checking all reactions, update the shells for enabled reactions and their products\n",
        "        for reaction in enabled_reactions:\n",
        "            self.reaction_to_shell[reaction] = self.curr_shell\n",
        "            for product in reaction.PRODUCTS:\n",
        "                if product not in self.chemical_to_shell:\n",
        "                    self.chemical_to_shell[product] = self.curr_shell\n",
        "\n",
        "        return is_expanded\n",
        "\n",
        "# Usage example\n",
        "synthesizer = Synthesizer()\n",
        "hypergraph = synthesizer.run(reactions_list, chemicals_by_inchi, updated_native_chemicals)\n",
        "\n",
        "#print(hypergraph.chemical_to_shell)\n",
        "#print(hypergraph.reaction_to_shell)\n",
        "\n",
        "size = len(hypergraph.chemical_to_shell)\n",
        "print(f\"Total Size of Chemical to Shell: {size}\")\n",
        "rxn_size = len(hypergraph.reaction_to_shell)\n",
        "print(f\"Total Size of Reaction to Shell: {rxn_size}\")"
      ]
    },
    {
      "cell_type": "markdown",
      "source": [
        "# Queries for Hypergraph Analysis"
      ],
      "metadata": {
        "id": "rce4PP0zfpd4"
      }
    },
    {
      "cell_type": "markdown",
      "source": [
        "###Reaction ID in Hypergraph"
      ],
      "metadata": {
        "id": "F48OK0XosCfw"
      }
    },
    {
      "cell_type": "code",
      "execution_count": 40,
      "metadata": {
        "colab": {
          "base_uri": "https://localhost:8080/"
        },
        "id": "6Gl4j52Hbhvg",
        "outputId": "38a75a1a-4d5e-4f36-89c3-85e2b3eb1253"
      },
      "outputs": [
        {
          "output_type": "stream",
          "name": "stdout",
          "text": [
            "Reaction GLYOHMETRANS-RXN is not in the HyperGraph.\n"
          ]
        }
      ],
      "source": [
        "# Checking if reactions made it into my hypergraph\n",
        "unique_id_to_check = 'GLYOHMETRANS-RXN'\n",
        "\n",
        "# Initialize a variable to store the found reaction details\n",
        "found_reaction_details = None\n",
        "\n",
        "# Iterate through the reaction_to_shell dictionary\n",
        "for reaction, shell_number in hypergraph.reaction_to_shell.items():\n",
        "    if reaction.UNIQUE_ID == unique_id_to_check:\n",
        "        # If the reaction is found, store its details including shell number, reactants, and products\n",
        "        found_reaction_details = {\n",
        "            \"shell_number\": shell_number,\n",
        "            \"reactants\": [reactant.UNIQUE_ID for reactant in reaction.SUBSTRATES],\n",
        "            \"products\": [product.UNIQUE_ID for product in reaction.PRODUCTS],\n",
        "            \"direction\": reaction.REACTION_DIRECTION\n",
        "        }\n",
        "        break  # Stop the loop once the reaction is found\n",
        "\n",
        "# Check if the reaction was found and print details\n",
        "if found_reaction_details:\n",
        "    print(f\"Reaction {unique_id_to_check} is in the HyperGraph in shell {found_reaction_details['shell_number']}.\")\n",
        "    print(f\"Reactants: {', '.join(found_reaction_details['reactants'])}\")\n",
        "    print(f\"Products: {', '.join(found_reaction_details['products'])}\")\n",
        "    print(f\"Direction: {found_reaction_details['direction']}\")\n",
        "else:\n",
        "    print(f\"Reaction {unique_id_to_check} is not in the HyperGraph.\")"
      ]
    },
    {
      "cell_type": "markdown",
      "source": [
        "###List of Reactions per Shell"
      ],
      "metadata": {
        "id": "hOL5eoASsJO2"
      }
    },
    {
      "cell_type": "code",
      "execution_count": 41,
      "metadata": {
        "colab": {
          "base_uri": "https://localhost:8080/"
        },
        "id": "UcA6CHPmbBuj",
        "outputId": "a8162ecb-1b43-482a-e196-36724ca90ad9"
      },
      "outputs": [
        {
          "output_type": "stream",
          "name": "stdout",
          "text": [
            "Reactions in Shell 20:\n",
            "- RXN-14188: Substrates: [5-HYDROXY-CTP, WATER] -> Products: [CPD-15158, PPI, PROTON]\n",
            "- RXN-11396: Substrates: [8-Oxo-dGTP, WATER] -> Products: [PROTON, CPD-12365, PPI]\n",
            "- RXN0-6957: Substrates: [CPD-13851, WATER] -> Products: [CPD-13852, PPI, PROTON]\n",
            "- RXN-11397: Substrates: [CPD-12366, WATER] -> Products: [PROTON, CPD-12367, PPI]\n",
            "- ADOMET-DMK-METHYLTRANSFER-RXN: Substrates: [S-ADENOSYLMETHIONINE, CPD-12115] -> Products: [REDUCED-MENAQUINONE, PROTON, ADENOSYL-HOMO-CYS]\n",
            "- RXN0-6708: Substrates: [PROTON, CPD0-2461, WATER] -> Products: [XANTHINE, AMMONIUM]\n",
            "\n",
            "\n"
          ]
        }
      ],
      "source": [
        "def list_reactions_by_shell(hypergraph, shells_to_list):\n",
        "    \"\"\"\n",
        "    Lists reactions within specified shells along with their substrates and products.\n",
        "\n",
        "    Parameters:\n",
        "    - hypergraph: An instance of the HyperGraph class.\n",
        "    - shells_to_list: A list of integers representing the shell numbers to list reactions for.\n",
        "    \"\"\"\n",
        "    for shell_number in shells_to_list:\n",
        "        print(f\"Reactions in Shell {shell_number}:\")\n",
        "        for reaction, shell in hypergraph.reaction_to_shell.items():\n",
        "            if shell == shell_number:\n",
        "                substrates = ', '.join([substrate.UNIQUE_ID for substrate in reaction.SUBSTRATES])\n",
        "                products = ', '.join([product.UNIQUE_ID for product in reaction.PRODUCTS])\n",
        "                print(f\"- {reaction.UNIQUE_ID}: Substrates: [{substrates}] -> Products: [{products}]\")\n",
        "        print(\"\\n\")  # Add a newline for better readability between shells\n",
        "\n",
        "# Example usage:\n",
        "list_reactions_by_shell(hypergraph, [20])"
      ]
    },
    {
      "cell_type": "markdown",
      "source": [
        "###Chemical ID in Hypergraph"
      ],
      "metadata": {
        "id": "QUluZkTVsPZX"
      }
    },
    {
      "cell_type": "code",
      "execution_count": 42,
      "metadata": {
        "colab": {
          "base_uri": "https://localhost:8080/"
        },
        "id": "EJcjYJcsml9l",
        "outputId": "8378957c-79b7-4edb-9338-7e6aa24bd686"
      },
      "outputs": [
        {
          "output_type": "stream",
          "name": "stdout",
          "text": [
            "Chemical SER is not in the HyperGraph.\n"
          ]
        }
      ],
      "source": [
        "def find_chemical_by_id(hypergraph, unique_id_to_check):\n",
        "    \"\"\"\n",
        "    Finds a chemical by its unique ID and prints the shell it is in.\n",
        "\n",
        "    Parameters:\n",
        "    - hypergraph: An instance of the HyperGraph class.\n",
        "    - unique_id_to_check: The unique ID of the chemical to find.\n",
        "    \"\"\"\n",
        "    for chemical, shell_number in hypergraph.chemical_to_shell.items():\n",
        "        if chemical.UNIQUE_ID == unique_id_to_check:\n",
        "            print(f\"Chemical {unique_id_to_check} is in Shell {shell_number}.\")\n",
        "            return\n",
        "    print(f\"Chemical {unique_id_to_check} is not in the HyperGraph.\")\n",
        "\n",
        "# Example usage:\n",
        "find_chemical_by_id(hypergraph, \"SER\")"
      ]
    },
    {
      "cell_type": "markdown",
      "source": [
        "###List of Chemicals per Shell"
      ],
      "metadata": {
        "id": "XLruvpElsTS0"
      }
    },
    {
      "cell_type": "code",
      "execution_count": 43,
      "metadata": {
        "colab": {
          "base_uri": "https://localhost:8080/"
        },
        "id": "rMDud4SrmoJd",
        "outputId": "5a89da19-fe3b-4e67-e066-4e4ffe505594"
      },
      "outputs": [
        {
          "output_type": "stream",
          "name": "stdout",
          "text": [
            "Chemicals in Shell 18:\n",
            "- CPD-12377 (Shell 18)\n",
            "- DIHYDROXYNAPHTHOATE (Shell 18)\n",
            "- OCTAPRENYL-METHYL-METHOXY-BENZQ (Shell 18)\n",
            "- SUPER-OXIDE (Shell 18)\n",
            "\n",
            "\n"
          ]
        }
      ],
      "source": [
        "def list_chemicals_by_shells(hypergraph, shells_to_list):\n",
        "    \"\"\"\n",
        "    Lists all chemicals within specified shells.\n",
        "\n",
        "    Parameters:\n",
        "    - hypergraph: An instance of the HyperGraph class.\n",
        "    - shells_to_list: A list of integers representing the shell numbers to list chemicals for.\n",
        "    \"\"\"\n",
        "    for shell_number in shells_to_list:\n",
        "        print(f\"Chemicals in Shell {shell_number}:\")\n",
        "        for chemical, shell in hypergraph.chemical_to_shell.items():\n",
        "            if shell == shell_number:\n",
        "                print(f\"- {chemical.UNIQUE_ID} (Shell {shell})\")\n",
        "        print(\"\\n\")  # Add a newline for better readability between shells\n",
        "\n",
        "# Example usage:\n",
        "list_chemicals_by_shells(hypergraph, [18])"
      ]
    }
  ],
  "metadata": {
    "colab": {
      "provenance": [],
      "collapsed_sections": [
        "Dp_CnmyjC41S",
        "cniWZj6grjmn",
        "81txL-3XrTwy",
        "hOL5eoASsJO2",
        "QUluZkTVsPZX",
        "XLruvpElsTS0"
      ]
    },
    "kernelspec": {
      "display_name": "Python 3",
      "name": "python3"
    },
    "language_info": {
      "name": "python"
    }
  },
  "nbformat": 4,
  "nbformat_minor": 0
}